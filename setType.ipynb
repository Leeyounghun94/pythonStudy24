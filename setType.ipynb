{
  "nbformat": 4,
  "nbformat_minor": 0,
  "metadata": {
    "colab": {
      "provenance": [],
      "authorship_tag": "ABX9TyPb5V5LBek/f99B94wsj76U",
      "include_colab_link": true
    },
    "kernelspec": {
      "name": "python3",
      "display_name": "Python 3"
    },
    "language_info": {
      "name": "python"
    }
  },
  "cells": [
    {
      "cell_type": "markdown",
      "metadata": {
        "id": "view-in-github",
        "colab_type": "text"
      },
      "source": [
        "<a href=\"https://colab.research.google.com/github/Leeyounghun94/pythonStudy24/blob/master/setType.ipynb\" target=\"_parent\"><img src=\"https://colab.research.google.com/assets/colab-badge.svg\" alt=\"Open In Colab\"/></a>"
      ]
    },
    {
      "cell_type": "markdown",
      "source": [
        "# **집합 자료형에 대해서 알아보자!**\n",
        "\n",
        "집합(set)은 집합에 관련된 것을 쉽게 처리하기 위해 만든 자료형"
      ],
      "metadata": {
        "id": "cKS1t58lxK-3"
      }
    },
    {
      "cell_type": "code",
      "execution_count": 1,
      "metadata": {
        "colab": {
          "base_uri": "https://localhost:8080/"
        },
        "id": "HnnfPgI_xBBO",
        "outputId": "30f7730e-efa3-4896-9086-f0346e541f13"
      },
      "outputs": [
        {
          "output_type": "execute_result",
          "data": {
            "text/plain": [
              "{1, 2, 3}"
            ]
          },
          "metadata": {},
          "execution_count": 1
        }
      ],
      "source": [
        "# 집합 자료형은 어떻게 만드나?\n",
        "\n",
        "s1 = set([1, 2, 3])\n",
        "s1\n",
        "\n",
        "# 이렇게 set() 괄호 안에다가 리스트를 입력하거나 문자열을 입력해서 만들 수 있다."
      ]
    },
    {
      "cell_type": "code",
      "source": [
        "s2 = set(\"Hello\")\n",
        "s2\n",
        "\n",
        "# 이렇게 분할로도 표현 할 수가 있다."
      ],
      "metadata": {
        "colab": {
          "base_uri": "https://localhost:8080/"
        },
        "id": "j74y-HfRyVCy",
        "outputId": "b8d83051-b995-44dd-b184-98931d592ad5"
      },
      "execution_count": 2,
      "outputs": [
        {
          "output_type": "execute_result",
          "data": {
            "text/plain": [
              "{'H', 'e', 'l', 'o'}"
            ]
          },
          "metadata": {},
          "execution_count": 2
        }
      ]
    },
    {
      "cell_type": "code",
      "source": [
        "# 근데 위에서 hello로 했는데 helo 으로 결과가 나왔는데 이상한데??\n",
        "\n",
        "# 집합 자료형의 특징\n",
        "# 1. 중복을 허용하지 않는다.\n",
        "# 2. 순서가 없다.\n",
        "\n",
        "# 리스트, 튜플은 순서가 있기 때문에 인덱싱 통해서 요솟값을 얻을 수 있지만 set 자료형은 순서가 없기 때문에 인덱싱 통해 요솟값을 얻을수 없다.\n",
        "# 이는 딕셔너리도 마찬가지인데 딕셔너리도 마찬가지로 순서가 없으므로 인덱싱을 지원하지 않는다."
      ],
      "metadata": {
        "id": "01IALny-ygbx"
      },
      "execution_count": 3,
      "outputs": []
    },
    {
      "cell_type": "code",
      "source": [
        "s1 = set([1, 2, 3])\n",
        "l1 = list(s1)\n",
        "l1[0]\n",
        "\n",
        "# 리스트 변환"
      ],
      "metadata": {
        "colab": {
          "base_uri": "https://localhost:8080/"
        },
        "id": "JlAFzWyuysdp",
        "outputId": "7b3d7b83-dc0e-47c3-e984-b631b960c749"
      },
      "execution_count": 5,
      "outputs": [
        {
          "output_type": "execute_result",
          "data": {
            "text/plain": [
              "1"
            ]
          },
          "metadata": {},
          "execution_count": 5
        }
      ]
    },
    {
      "cell_type": "code",
      "source": [
        "t1 = tuple(s1)\n",
        "t1\n",
        "\n",
        "t1[0]\n",
        "\n",
        "# 튜플 변환\n",
        "\n",
        "# 만약, set자료형에 저장된 값을 인덱싱으로 접근하려면 이렇게 리스트, 튜플로 변환 후 해야 한다."
      ],
      "metadata": {
        "colab": {
          "base_uri": "https://localhost:8080/"
        },
        "id": "KJXooMk3zAxm",
        "outputId": "65730b1e-9f12-430f-9b6b-b9348543c63f"
      },
      "execution_count": 7,
      "outputs": [
        {
          "output_type": "execute_result",
          "data": {
            "text/plain": [
              "1"
            ]
          },
          "metadata": {},
          "execution_count": 7
        }
      ]
    },
    {
      "cell_type": "code",
      "source": [
        "# 교집합, 합집합, 차집합 구하기\n",
        "\n",
        "# set자료형을 정말 유용하게 사용할 경우는 교,합,차집합 구할 때 이다.\n",
        "\n",
        "s1 = set([1,2,3,4,5,6])\n",
        "s2 = set([4,5,6,7,8,9])"
      ],
      "metadata": {
        "id": "u-Bm3jIvzo4A"
      },
      "execution_count": null,
      "outputs": []
    },
    {
      "cell_type": "code",
      "source": [
        "# 교집합 구하기\n",
        "\n",
        "s1 = set([1,2,3,4,5,6])\n",
        "s2 = set([4,5,6,7,8,9])\n",
        "\n",
        "s1 & s2"
      ],
      "metadata": {
        "colab": {
          "base_uri": "https://localhost:8080/"
        },
        "id": "2ov_P4Li0Aui",
        "outputId": "b2b5c8d4-3a7e-4902-ea57-ddb1295ec2a4"
      },
      "execution_count": 9,
      "outputs": [
        {
          "output_type": "execute_result",
          "data": {
            "text/plain": [
              "{4, 5, 6}"
            ]
          },
          "metadata": {},
          "execution_count": 9
        }
      ]
    },
    {
      "cell_type": "code",
      "source": [
        "#  intersection 함수를 사용해서 교집합 구하기\n",
        "s1.intersection(s2)"
      ],
      "metadata": {
        "colab": {
          "base_uri": "https://localhost:8080/"
        },
        "id": "zRk2Qzln0OdY",
        "outputId": "64e5dd34-9e1b-4bb7-8e34-748630c6b8cb"
      },
      "execution_count": 10,
      "outputs": [
        {
          "output_type": "execute_result",
          "data": {
            "text/plain": [
              "{4, 5, 6}"
            ]
          },
          "metadata": {},
          "execution_count": 10
        }
      ]
    },
    {
      "cell_type": "code",
      "source": [
        "# 합집합 구하기\n",
        "\n",
        "s1 | s2"
      ],
      "metadata": {
        "colab": {
          "base_uri": "https://localhost:8080/"
        },
        "id": "iCwgVeWG0YlP",
        "outputId": "dd7bb56d-9a7d-40a9-82e3-d41639c4dcdf"
      },
      "execution_count": 11,
      "outputs": [
        {
          "output_type": "execute_result",
          "data": {
            "text/plain": [
              "{1, 2, 3, 4, 5, 6, 7, 8, 9}"
            ]
          },
          "metadata": {},
          "execution_count": 11
        }
      ]
    },
    {
      "cell_type": "code",
      "source": [
        "# union 함수를 사용해서 합집합 구하기\n",
        "s1.union(s2)"
      ],
      "metadata": {
        "colab": {
          "base_uri": "https://localhost:8080/"
        },
        "id": "4x_Tyono0hG_",
        "outputId": "c3467c29-88f9-438b-ec23-4283659250d7"
      },
      "execution_count": 12,
      "outputs": [
        {
          "output_type": "execute_result",
          "data": {
            "text/plain": [
              "{1, 2, 3, 4, 5, 6, 7, 8, 9}"
            ]
          },
          "metadata": {},
          "execution_count": 12
        }
      ]
    },
    {
      "cell_type": "code",
      "source": [
        "# 차집합 구하기\n",
        "\n",
        "s1 - s2"
      ],
      "metadata": {
        "colab": {
          "base_uri": "https://localhost:8080/"
        },
        "id": "4uaE1uMh0qSp",
        "outputId": "b84816f1-0369-4fa3-c2d9-13126d45f201"
      },
      "execution_count": 13,
      "outputs": [
        {
          "output_type": "execute_result",
          "data": {
            "text/plain": [
              "{1, 2, 3}"
            ]
          },
          "metadata": {},
          "execution_count": 13
        }
      ]
    },
    {
      "cell_type": "code",
      "source": [
        "# difference 함수를 사용해서 차집합 구하기\n",
        "\n",
        "s1.difference(s2)"
      ],
      "metadata": {
        "colab": {
          "base_uri": "https://localhost:8080/"
        },
        "id": "zRXqeDXj0ukc",
        "outputId": "fa2674fe-d58f-4618-908c-9aed17178fb3"
      },
      "execution_count": 14,
      "outputs": [
        {
          "output_type": "execute_result",
          "data": {
            "text/plain": [
              "{1, 2, 3}"
            ]
          },
          "metadata": {},
          "execution_count": 14
        }
      ]
    },
    {
      "cell_type": "markdown",
      "source": [
        "\n",
        "\n",
        "> 집합(set) 자료형 관련 함수\n",
        "\n",
        "* add\n",
        "* update\n",
        "* remove"
      ],
      "metadata": {
        "id": "2Cx5oYwA03K3"
      }
    },
    {
      "cell_type": "code",
      "source": [
        "# 값 추가하기 함수 - add\n",
        "\n",
        "# 이미 만들어진 set 자료형에 값을 추가 할 수 있는데 1개의 값만 추가할때는 add를 사용한다.\n",
        "\n",
        "s1 = set([1,2,3])\n",
        "s1.add(5)\n",
        "s1"
      ],
      "metadata": {
        "colab": {
          "base_uri": "https://localhost:8080/"
        },
        "id": "anGDsOwZ1Dvt",
        "outputId": "99b4b2d6-705b-4228-98dd-974691bf0116"
      },
      "execution_count": 15,
      "outputs": [
        {
          "output_type": "execute_result",
          "data": {
            "text/plain": [
              "{1, 2, 3, 5}"
            ]
          },
          "metadata": {},
          "execution_count": 15
        }
      ]
    },
    {
      "cell_type": "code",
      "source": [
        "# 값 여러개 추가하기 함수 - update\n",
        "\n",
        "# 여러 개의 값을 한꺼번에 추가하려면 update 함수를 사용하면 된다.\n",
        "\n",
        "s1 = set([1, 2, 3])\n",
        "s1.update([10, 15, 19])\n",
        "s1"
      ],
      "metadata": {
        "colab": {
          "base_uri": "https://localhost:8080/"
        },
        "id": "8fp-_6-V1UDh",
        "outputId": "dc9fc7b4-7beb-450f-b429-ff20f3880156"
      },
      "execution_count": 16,
      "outputs": [
        {
          "output_type": "execute_result",
          "data": {
            "text/plain": [
              "{1, 2, 3, 10, 15, 19}"
            ]
          },
          "metadata": {},
          "execution_count": 16
        }
      ]
    },
    {
      "cell_type": "code",
      "source": [
        "# 특정한 값 제거하는 함수 - remove\n",
        "\n",
        "# 특정 값 제거하고 싶을 때는 remove 함수를 사용하면 된다.\n",
        "\n",
        "s1 = set([1, 2, 3])\n",
        "s1.remove(3)\n",
        "s1"
      ],
      "metadata": {
        "colab": {
          "base_uri": "https://localhost:8080/"
        },
        "id": "R4hIs0gQ1mg4",
        "outputId": "a55eb86d-b43d-4071-bdc0-6e98ab6451d4"
      },
      "execution_count": 17,
      "outputs": [
        {
          "output_type": "execute_result",
          "data": {
            "text/plain": [
              "{1, 2}"
            ]
          },
          "metadata": {},
          "execution_count": 17
        }
      ]
    }
  ]
}