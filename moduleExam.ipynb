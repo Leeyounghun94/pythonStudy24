{
  "nbformat": 4,
  "nbformat_minor": 0,
  "metadata": {
    "colab": {
      "provenance": [],
      "authorship_tag": "ABX9TyMnZuI4677Osa0UEmmQIkeX",
      "include_colab_link": true
    },
    "kernelspec": {
      "name": "python3",
      "display_name": "Python 3"
    },
    "language_info": {
      "name": "python"
    }
  },
  "cells": [
    {
      "cell_type": "markdown",
      "metadata": {
        "id": "view-in-github",
        "colab_type": "text"
      },
      "source": [
        "<a href=\"https://colab.research.google.com/github/Leeyounghun94/pythonStudy24/blob/master/moduleExam.ipynb\" target=\"_parent\"><img src=\"https://colab.research.google.com/assets/colab-badge.svg\" alt=\"Open In Colab\"/></a>"
      ]
    },
    {
      "cell_type": "markdown",
      "source": [
        "# **파이썬의 모듈을 알아보자.**\n",
        "\n",
        "* 모듈은 함수, 변수, 클래스를 모아 놓은 파이썬 파일이다.\n",
        "* 모듈은 다른 프로그램에서 불러와 사용할 수 있도록 만든 파이썬 파일이라고도 할 수 있음\n",
        "* 다른 사람들이 만들어놓은 모듈을 사용할 수가 있고 직접 만들어서 생성할 수가 있다.\n",
        "\n",
        "\n",
        "\n",
        "> 수업은 PythonCham으로 이용, 복습은 Colab을 이용하여 Github 기재\n",
        "\n"
      ],
      "metadata": {
        "id": "bGrSZfvjpIoL"
      }
    },
    {
      "cell_type": "code",
      "execution_count": 2,
      "metadata": {
        "id": "lmJ-OQ7aosiL"
      },
      "outputs": [],
      "source": [
        "# 모듈 생성하기(mod1.py)\n",
        "\n",
        "def add(a, b) :\n",
        "    return a + b\n",
        "\n",
        "def sub(a, b) :\n",
        "    return a - b\n",
        "\n",
        "# 파이썬 확장자인 .py로 만든 파이썬 파일은 모두 모듈이다."
      ]
    },
    {
      "cell_type": "code",
      "source": [
        "# 모듈 불러오기\n",
        "\n",
        "# 명령 프롬프트 창에서 c:\\ -> python -> import mod1\n",
        "import mod1\n",
        "print(mod1.add(3, 4))\n",
        "\n",
        "print(mod1.sub(4, 2))\n",
        "\n",
        "# 위에서 만든 함수를 불러와서(import) 함수의 메서드를 지정하면 해당된 기능이 출력 된다.\n",
        "# import mod1.py 이렇게 뒤에 확장자를 붙이지 않게 주의해야 한다. import는 이미 만들어 놓은 파이썬 모듈을 사용할 수 있게 해주는 명령어."
      ],
      "metadata": {
        "id": "3jjuUG0JqC4f"
      },
      "execution_count": null,
      "outputs": []
    },
    {
      "cell_type": "code",
      "source": [
        "# import\n",
        "\n",
        "# 현재 디렉토리에 있는 파일, 파이썬 라이브러리가 저장된 디렉토리에 있는 모듈만 불러올 수 가 있다.\n",
        "# 파이썬 라이브러리는 파이썬 설치할 때 자동으로 설치되는 파이썬 모듈을 말한다.\n",
        "\n",
        "# import 사용방법 : import 모듈_이름 (모듈 이름은 .py를 제외한)\n",
        "\n",
        "# 때론 모듈 이름 없이 함수 이름만 쓰고 싶을 때는?\n",
        "# from 모듈_이름 import 모듈_함수"
      ],
      "metadata": {
        "id": "lPaGEaI9rtme"
      },
      "execution_count": null,
      "outputs": []
    },
    {
      "cell_type": "code",
      "source": [
        "from mod1 import mod1\n",
        "add(3, 4)\n",
        "\n",
        "# 이렇게 하면 mod1안에 있는 add함수만 사용할 수 있다.\n",
        "\n",
        "# 그러면 add, sub 함수 둘다 이름 붙이지 않고 사용하려면?\n",
        "from mod1 import add, sub\n",
        "from mod1 import *\n",
        "\n",
        "# 쉼표를 구분해서 불러올 수가 있는 방법과 *를 이용해서 모든 함수를 불러오는 방법이 있다."
      ],
      "metadata": {
        "id": "fE44Li-fsvTk"
      },
      "execution_count": null,
      "outputs": []
    },
    {
      "cell_type": "code",
      "source": [
        "# if __name__ == \"__main__\":\n",
        "\n",
        "# mod1.py\n",
        "def add(a, b):\n",
        "    return a+b\n",
        "\n",
        "def sub(a, b):\n",
        "    return a-b\n",
        "\n",
        "if __name__ == \"__main__\":\n",
        "    print(add(1, 4))\n",
        "    print(sub(4, 2))\n",
        "\n",
        "# if __name__ == \"__main__\": 을 사용하게 되면 if절이 참이 되서 다음 문장이 수행됨. 반대로 거짓이 되면 수행이 안되겠지?\n",
        "\n",
        "# __name__ 변수란?\n",
        "#  파이썬이 내부적으로 사용하는 특별한 변수 이름, 직접 mod1.py 실행 할 경우 __name__ 변수에는 __main__ 값이 저장이 되고 다른 파이썬 모듈에서 mod1를 import를 하게 될 경우 __name__ 변수에 __mod1__이 되어버린다."
      ],
      "metadata": {
        "id": "qPsYH8qXtdPX"
      },
      "execution_count": null,
      "outputs": []
    },
    {
      "cell_type": "code",
      "source": [
        "# mod2.py\n",
        "PI = 3.141592\n",
        "\n",
        "class Math:\n",
        "    def solv(self, r):\n",
        "        return PI * (r ** 2)\n",
        "\n",
        "def add(a, b):\n",
        "\n",
        "# import mod2\n",
        "#      print(mod2.PI)\n",
        "# 3.141592\n",
        "\n",
        "\n",
        "# Python 3.12.4 | packaged by Anaconda, Inc. | (main, Jun 18 2024, 15:03:56) [MSC v.1929 64 bit (AMD64)] on win32\n",
        "# Type \"help\", \"copyright\", \"credits\" or \"license\" for more information.\n",
        "# >>> import mod2\n",
        "\n",
        "# >>> print(mod2.PI)\n",
        "# 3.1415926535\n",
        "\n",
        "# >>> a = mod2.Math()\n",
        "# >>> print(a.solve(2))\n",
        "# 12.566370614\n",
        "\n",
        "# >>> print(mod2.add(mod2.PI, 4.4))\n",
        "# 7.5415926535\n"
      ],
      "metadata": {
        "id": "q1nsCc1cuo3u"
      },
      "execution_count": null,
      "outputs": []
    },
    {
      "cell_type": "code",
      "source": [
        "# 다른 파일에서 모듈 불러오기\n",
        "\n",
        "# modtest.py\n",
        "import mod2\n",
        "result = mod2.add(3, 4)\n",
        "print(result)\n",
        "\n",
        "# 다른 파이썬 파일에서도 import mod2로 mod2 모듈 불러와서 사용할 수 있음."
      ],
      "metadata": {
        "id": "SWMedNl0vZx9"
      },
      "execution_count": null,
      "outputs": []
    },
    {
      "cell_type": "code",
      "source": [
        "# sys.path.append 사용하기\n",
        "\n",
        "# >>> import sys\n",
        "\n",
        "# sys모듈은 파이썬 설치할 때 설치 되는 라이브러리 모듈, sys모듈을 사용하게 되면 파이썬 라이브러리가 설치된 디렉터리를 확인할 수 있음.\n",
        "\n",
        "# >>> import sys\n",
        "# >>> sys.path\n",
        "# ['', 'C:\\\\Users\\\\cxas6673\\\\miniconda3\\\\python312.zip', 'C:\\\\Users\\\\cxas6673\\\\miniconda3\\\\DLLs', 'C:\\\\Users\\\\cxas6673\\\\miniconda3\\\\Lib', 'C:\\\\Users\\\\cxas6673\\\\miniconda3', 'C:\\\\Users\\\\cxas6673\\\\miniconda3\\\\Lib\\\\site-packages']\n",
        "# >>> sys.path.append(\"c:\\python-exam\\mymod\")\n",
        "# <stdin>:1: SyntaxWarning: invalid escape sequence '\\p'\n",
        "# >>> sys.path.append(\"c:/python-exam/mymod\")\n",
        "# >>> sys.path\n",
        "# ['', 'C:\\\\Users\\\\cxas6673\\\\miniconda3\\\\python312.zip', 'C:\\\\Users\\\\cxas6673\\\\miniconda3\\\\DLLs', 'C:\\\\Users\\\\cxas6673\\\\miniconda3\\\\Lib', 'C:\\\\Users\\\\cxas6673\\\\miniconda3', 'C:\\\\Users\\\\cxas6673\\\\miniconda3\\\\Lib\\\\site-packages', 'c:\\\\python-exam\\\\mymod', 'c:/python-exam/mymod']\n",
        "\n",
        "# sys.path -> 파이썬 라이브러리가 설치된 디렉터리 목록을 보여준다. 이 디렉터리 안에 저장된 파이썬 모듈은 모듈이 저장된 디렉터리로 이동할 필요없이 바로 불러와 사용 가능\n",
        "\n",
        "# sys.path.append 를 사용했더니 path 경로 끝에  'c:\\\\python-exam\\\\mymod', 'c:/python-exam/mymod' 이렇게 추가된걸 볼 수 있다."
      ],
      "metadata": {
        "id": "EV4VikZBvoSz"
      },
      "execution_count": null,
      "outputs": []
    },
    {
      "cell_type": "code",
      "source": [
        "#PYTHONPATH 환경 변수 사용하기\n",
        "\n",
        "# >>> import mod2\n",
        "# >>> print(mod2.add(3,4))\n",
        "# 7\n",
        "\n",
        "# 디렉터리 이동이나 별도의 모듈 추가 작업 없이 mymod 디렉터리에 저장된 mod2 모듈을 불러와서 사용할 수 있다."
      ],
      "metadata": {
        "id": "42YAy5-XxDxv"
      },
      "execution_count": null,
      "outputs": []
    }
  ]
}