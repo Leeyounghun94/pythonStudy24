{
  "nbformat": 4,
  "nbformat_minor": 0,
  "metadata": {
    "colab": {
      "provenance": [],
      "authorship_tag": "ABX9TyPJk7FliSQpnUXmBjIzt8sI",
      "include_colab_link": true
    },
    "kernelspec": {
      "name": "python3",
      "display_name": "Python 3"
    },
    "language_info": {
      "name": "python"
    }
  },
  "cells": [
    {
      "cell_type": "markdown",
      "metadata": {
        "id": "view-in-github",
        "colab_type": "text"
      },
      "source": [
        "<a href=\"https://colab.research.google.com/github/Leeyounghun94/pythonStudy24/blob/master/FunctionExam.ipynb\" target=\"_parent\"><img src=\"https://colab.research.google.com/assets/colab-badge.svg\" alt=\"Open In Colab\"/></a>"
      ]
    },
    {
      "cell_type": "markdown",
      "source": [
        "# **함수(Function)**\n",
        "\n",
        "함수는 단일 동작을 수행하는 블럭을 말한다.\n",
        "JAVA에서는 {} 블럭 단위로 수행하지만 Python에서는 인터프리터로 줄 단위로 수행한다.\n",
        "\n",
        "프로그램의 메모리 영역은 크게 3가지로 나누어지는데\n",
        "* 스택영역 : 변수에 기본 타입이나 참조 타입을 연결한다.\n",
        "* 힙 영역 : 객체를 생성해서 주소를 가지고 있다.\n",
        "* 메서드 영역 :  동작들을 보관하고 있다가 호출되면 매개값(파라미터)과 처리 후 리턴을 제공한다.(함수, 메서드들을 보관)\n",
        "\n",
        "\n",
        "    : 함수를 사용하는 이유는? 반복적인 코드 발생을 최소화 하기 위해서 (C R U D)\n"
      ],
      "metadata": {
        "id": "B-Pl9pVH8QSy"
      }
    },
    {
      "cell_type": "code",
      "source": [
        "# 파이썬 함수의 구조\n",
        "\n",
        "# def (define : 정의한다) 함수 생성\n",
        "\n",
        "# def 함수이름(매개변수) :\n",
        "#     실행문1\n",
        "#     실행문2\n",
        "#     ...\n",
        "\n",
        "def add(a, b) :     # add라는 함수를 정의(생성), 매개값 2개를 받는다.\n",
        "    print(\"add() 메서드 종료\")\n",
        "    return a + b    # 매개값으로 받은 2개의 변수를 더 해 리턴한다.\n",
        "      # return이 없을 경우 이렇게 찍어줘야 한다.(실행했는지 볼 수 있기 때문에)\n",
        "    # add() end\n",
        "\n",
        "# return이 되면 함수가 빠져나오게 된다. 리턴의 위치가 어디에 있느냐에 따라 출력 값이 달라질수가 있다.\n",
        "\n",
        "print(add(\"김\", \"기원\"))\n"
      ],
      "metadata": {
        "colab": {
          "base_uri": "https://localhost:8080/"
        },
        "id": "nB3YAs6RCb9b",
        "outputId": "9a6a9512-083a-430b-d275-237af6d168ae"
      },
      "execution_count": 5,
      "outputs": [
        {
          "output_type": "stream",
          "name": "stdout",
          "text": [
            "add() 메서드 종료\n",
            "김기원\n"
          ]
        }
      ]
    },
    {
      "cell_type": "code",
      "source": [
        "# *args : 매개값이 몇 개인지 모를 때 (1개 이상~)\n",
        "\n",
        "def add_many(*args) :       # *args 매개값이 1개 이상!  꼭 args로 쓸 필요는 없지만 args는 관례(프로그래머들끼리의 약속)\n",
        "    result = 0              # 결과를 저장하는 변수\n",
        "    for i in args :         # *args는 리스트로 저장이 된다.(for문은 앞에 매개값부터 하나 씩 배열에 넣는다.)\n",
        "        result += i         # result = result + i\n",
        "    return result           # 결과 리턴\n",
        "\n",
        "print(add_many(1, 2, 3, 4, 5, 6, 7, 8, 9, 10))"
      ],
      "metadata": {
        "colab": {
          "base_uri": "https://localhost:8080/"
        },
        "id": "CDZ-bYpTKIj0",
        "outputId": "de74d496-4f5f-4830-8d0d-905a30b1710a"
      },
      "execution_count": 6,
      "outputs": [
        {
          "output_type": "stream",
          "name": "stdout",
          "text": [
            "55\n"
          ]
        }
      ]
    },
    {
      "cell_type": "code",
      "source": [
        "test = add_many(9,8,7,6)\n",
        "print(test)"
      ],
      "metadata": {
        "colab": {
          "base_uri": "https://localhost:8080/"
        },
        "id": "nJn68wQ2LbmU",
        "outputId": "9886d8b2-a3e2-4dcc-a3df-5cfe48ba2cfe"
      },
      "execution_count": 8,
      "outputs": [
        {
          "output_type": "stream",
          "name": "stdout",
          "text": [
            "30\n"
          ]
        }
      ]
    },
    {
      "cell_type": "code",
      "source": [
        "def add_mul(choice, *args) :\n",
        "    if choice == \"add\" :\n",
        "        result = 0\n",
        "        for i in args :\n",
        "            result += i\n",
        "    elif choice == \"mul\" :\n",
        "        result = 1\n",
        "        for i in args :\n",
        "            result *= i\n",
        "    return result\n"
      ],
      "metadata": {
        "id": "XNVj8XR5L9-K"
      },
      "execution_count": 9,
      "outputs": []
    },
    {
      "cell_type": "code",
      "execution_count": 10,
      "metadata": {
        "colab": {
          "base_uri": "https://localhost:8080/"
        },
        "id": "p7yhoeXG8MwA",
        "outputId": "7df5eb7e-5b33-4aff-9182-b7c2c64cce07"
      },
      "outputs": [
        {
          "output_type": "stream",
          "name": "stdout",
          "text": [
            "15\n"
          ]
        }
      ],
      "source": [
        "result = add_mul(\"add\", 1,2,3,4,5)\n",
        "print(result)"
      ]
    },
    {
      "cell_type": "code",
      "source": [
        "result = add_mul(\"mul\", 3,4,5)\n",
        "print(result)"
      ],
      "metadata": {
        "colab": {
          "base_uri": "https://localhost:8080/"
        },
        "id": "L00Eng_UNP07",
        "outputId": "cd99d021-e7da-454b-c94b-9fb642eb386a"
      },
      "execution_count": 11,
      "outputs": [
        {
          "output_type": "stream",
          "name": "stdout",
          "text": [
            "60\n"
          ]
        }
      ]
    },
    {
      "cell_type": "code",
      "source": [
        "result = add_mul(\"add\", \"김\", \"기\", \"원\")"
      ],
      "metadata": {
        "colab": {
          "base_uri": "https://localhost:8080/",
          "height": 276
        },
        "id": "IPkM3ClyOaWt",
        "outputId": "3b63aff5-34a1-4344-b54d-dbb9a784ccc6"
      },
      "execution_count": 12,
      "outputs": [
        {
          "output_type": "error",
          "ename": "TypeError",
          "evalue": "unsupported operand type(s) for +=: 'int' and 'str'",
          "traceback": [
            "\u001b[0;31m---------------------------------------------------------------------------\u001b[0m",
            "\u001b[0;31mTypeError\u001b[0m                                 Traceback (most recent call last)",
            "\u001b[0;32m<ipython-input-12-06d274b23461>\u001b[0m in \u001b[0;36m<cell line: 1>\u001b[0;34m()\u001b[0m\n\u001b[0;32m----> 1\u001b[0;31m \u001b[0mresult\u001b[0m \u001b[0;34m=\u001b[0m \u001b[0madd_mul\u001b[0m\u001b[0;34m(\u001b[0m\u001b[0;34m\"add\"\u001b[0m\u001b[0;34m,\u001b[0m \u001b[0;34m\"김\"\u001b[0m\u001b[0;34m,\u001b[0m \u001b[0;34m\"기\"\u001b[0m\u001b[0;34m,\u001b[0m \u001b[0;34m\"원\"\u001b[0m\u001b[0;34m)\u001b[0m\u001b[0;34m\u001b[0m\u001b[0;34m\u001b[0m\u001b[0m\n\u001b[0m",
            "\u001b[0;32m<ipython-input-9-557c000e27e8>\u001b[0m in \u001b[0;36madd_mul\u001b[0;34m(choice, *args)\u001b[0m\n\u001b[1;32m      3\u001b[0m         \u001b[0mresult\u001b[0m \u001b[0;34m=\u001b[0m \u001b[0;36m0\u001b[0m\u001b[0;34m\u001b[0m\u001b[0;34m\u001b[0m\u001b[0m\n\u001b[1;32m      4\u001b[0m         \u001b[0;32mfor\u001b[0m \u001b[0mi\u001b[0m \u001b[0;32min\u001b[0m \u001b[0margs\u001b[0m \u001b[0;34m:\u001b[0m\u001b[0;34m\u001b[0m\u001b[0;34m\u001b[0m\u001b[0m\n\u001b[0;32m----> 5\u001b[0;31m             \u001b[0mresult\u001b[0m \u001b[0;34m+=\u001b[0m \u001b[0mi\u001b[0m\u001b[0;34m\u001b[0m\u001b[0;34m\u001b[0m\u001b[0m\n\u001b[0m\u001b[1;32m      6\u001b[0m     \u001b[0;32melif\u001b[0m \u001b[0mchoice\u001b[0m \u001b[0;34m==\u001b[0m \u001b[0;34m\"mul\"\u001b[0m \u001b[0;34m:\u001b[0m\u001b[0;34m\u001b[0m\u001b[0;34m\u001b[0m\u001b[0m\n\u001b[1;32m      7\u001b[0m         \u001b[0mresult\u001b[0m \u001b[0;34m=\u001b[0m \u001b[0;36m1\u001b[0m\u001b[0;34m\u001b[0m\u001b[0;34m\u001b[0m\u001b[0m\n",
            "\u001b[0;31mTypeError\u001b[0m: unsupported operand type(s) for +=: 'int' and 'str'"
          ]
        }
      ]
    },
    {
      "cell_type": "code",
      "source": [
        "# **kwargs : 키워드 매개변수 (딕셔너리)\n",
        "\n",
        "def print_kwargs(**kwargs) :\n",
        "    print(kwargs)\n",
        "\n",
        "print_kwargs(kkw=312)\n",
        "\n",
        "# **kwargs : 딕셔너리 타입"
      ],
      "metadata": {
        "colab": {
          "base_uri": "https://localhost:8080/"
        },
        "id": "cQ8bpYBrOxOQ",
        "outputId": "9ec2ea88-2fd7-40f4-aaf5-7fd27fc8a654"
      },
      "execution_count": 13,
      "outputs": [
        {
          "output_type": "stream",
          "name": "stdout",
          "text": [
            "{'kkw': 312}\n"
          ]
        }
      ]
    },
    {
      "cell_type": "code",
      "source": [
        "print_kwargs(id=\"kkw\", pw=\"P@ssW0rd\", phone=8188, email=\"cxas6673@naver.com\")"
      ],
      "metadata": {
        "colab": {
          "base_uri": "https://localhost:8080/"
        },
        "id": "KSeM3wgnPawi",
        "outputId": "a97ee605-66bc-4fd5-e751-c79ffc7011b2"
      },
      "execution_count": 14,
      "outputs": [
        {
          "output_type": "stream",
          "name": "stdout",
          "text": [
            "{'id': 'kkw', 'pw': 'P@ssW0rd', 'phone': 8188, 'email': 'cxas6673@naver.com'}\n"
          ]
        }
      ]
    },
    {
      "cell_type": "code",
      "source": [
        "# 만약 return값이 2개이면 ???\n",
        "\n",
        "def add_and_mul(a, b) :\n",
        "    return a + b, a * b, a - b\n",
        "\n",
        "result = add_and_mul(3, 4)\n",
        "print(result)\n",
        "\n",
        "# 리턴값이 3개인데 값이 출력이 된다! Java에서는 안되는 기능.."
      ],
      "metadata": {
        "colab": {
          "base_uri": "https://localhost:8080/"
        },
        "id": "UQki2Ax1QPWw",
        "outputId": "7d127e93-491b-4b25-a935-26f5b56afc55"
      },
      "execution_count": 15,
      "outputs": [
        {
          "output_type": "stream",
          "name": "stdout",
          "text": [
            "(7, 12, -1)\n"
          ]
        }
      ]
    },
    {
      "cell_type": "code",
      "source": [
        "def add_and_mul(a, b) :\n",
        "    return a + b, a * b, a - b\n",
        "\n",
        "a, b, c = add_and_mul(3,4)\n",
        "print(a)\n",
        "print(b)\n",
        "print(c)"
      ],
      "metadata": {
        "colab": {
          "base_uri": "https://localhost:8080/"
        },
        "id": "QJuKvDDvQsIj",
        "outputId": "fbe0276e-c7ef-4959-ae76-e71526af86c7"
      },
      "execution_count": 16,
      "outputs": [
        {
          "output_type": "stream",
          "name": "stdout",
          "text": [
            "7\n",
            "12\n",
            "-1\n"
          ]
        }
      ]
    },
    {
      "cell_type": "code",
      "source": [
        "def say_myself(name, age, man=True) :\n",
        "    print(\"나의 이름은 %s 입니다.\" % name)\n",
        "    print(\"나의 나이는 %d 입니다.\" % age)\n",
        "    if man :\n",
        "        print(\"남자!\")\n",
        "    else :\n",
        "        print(\"여자!\")\n",
        "say_myself(\"김기원\", 31)"
      ],
      "metadata": {
        "colab": {
          "base_uri": "https://localhost:8080/"
        },
        "id": "ce_y2-PERLsr",
        "outputId": "3de664ae-db87-4d57-f050-271a83e02ede"
      },
      "execution_count": 18,
      "outputs": [
        {
          "output_type": "stream",
          "name": "stdout",
          "text": [
            "나의 이름은 김기원 입니다.\n",
            "나의 나이는 31 입니다.\n",
            "남자!\n"
          ]
        }
      ]
    },
    {
      "cell_type": "code",
      "source": [
        "say_myself(\"김기원\" , 31 , man=False)"
      ],
      "metadata": {
        "colab": {
          "base_uri": "https://localhost:8080/"
        },
        "id": "Z0-nLdLkR81R",
        "outputId": "38fe1b1e-e8c4-4138-f5e7-b8991e17e93e"
      },
      "execution_count": 19,
      "outputs": [
        {
          "output_type": "stream",
          "name": "stdout",
          "text": [
            "나의 이름은 김기원 입니다.\n",
            "나의 나이는 31 입니다.\n",
            "여자!\n"
          ]
        }
      ]
    },
    {
      "cell_type": "code",
      "source": [
        "# 람다식 : 인터페이스 형태의 실행문이 1개인 코드이다.\n",
        "# JAVA의 람다식은 -> 사용하며, JavaScript => 으로 쓴다.\n",
        "\n",
        "# 파이썬의 람다식은 변수(함수명) = lambda 매개변수 : 실행문\n",
        "add = lambda a, b : a + b\n",
        "result = add(3, 4)\n",
        "print(result)\n",
        "\n",
        "# 이렇게 1줄로 줄일수가 있지만 이거는 쫌 많이 응용해봐야 한다. (함수 정의가 머릿속에 그려져야 해서..)"
      ],
      "metadata": {
        "id": "GMou_RK6ShY0"
      },
      "execution_count": null,
      "outputs": []
    },
    {
      "cell_type": "code",
      "source": [
        "# 미션 - 자판기 코드를 함수로 Rebuilde를 해보자\n",
        "\n",
        "# 1번 메뉴 눌렀을때 커피 메뉴를 def 묶어 밑에서 실행해서 돌리게끔..\n",
        "\n",
        "coffee_menu = [     # 커피명, 가격, 판매갯수 초기 데이터 설정\n",
        "{\"name\" : \"아메리카노\", \"price\" : 2000, \"cellCount\" : 100},\n",
        "{\"name\" : \"카페라떼\", \"price\" : 3000, \"cellCount\" : 100},\n",
        "{\"name\" : \"카라멜마끼아또\", \"price\" : 3500, \"cellCount\" : 100},\n",
        "{\"name\" : \"바닐라라떼\", \"price\" : 3800, \"cellCount\" : 100},\n",
        "{\"name\" : \"콜드브루\", \"price\" : 4000, \"cellCount\" : 100},\n",
        "                    ]\n",
        "\n",
        "totalMoney = 0  # 총액\n",
        "totalSell = 0   # 총 갯수\n",
        "\n",
        "def main_menu() :\n",
        "    # 함수 main_menu() 설정\n",
        "\n",
        "    print(\"\"\"\n",
        " ☕ 커피 자판기에 오신걸 환영합니다.(version.3.0.0) ☕\n",
        "\n",
        "1. 커피 구입하기\n",
        "2. 관리자 메뉴\n",
        "3. 통계 보기\n",
        "4. 판매 종료\n",
        "\"\"\")\n",
        "\n",
        "def buy_coffee():\n",
        "    # 함수 buy_coffee() 설정 : 커피 구매하기 메뉴\n",
        "\n",
        "    global totalMoney, totalSell\n",
        "    while True:\n",
        "        print(\"\\n구매할 커피를 고르세요\")\n",
        "        print(\"=====================\")\n",
        "            # 파이썬 내장함수 -> enumerate : 순서가 있는 자료형(list, set, string , dictionary, tuple)을 입력 받았을 때 인덱스 포함해서 리턴, for문과 자주 사용된다. 인덱스와 값을 동시에 접근하면서 루프를 돌릴 때 사용한다.\n",
        "            # 형식 : enumerate(순서가 있는 객체, start=0)\n",
        "        for idx, coffee in enumerate(coffee_menu, start=1):\n",
        "                print(f\"{idx}. {coffee['name']} : {coffee['price']}원 (재고: {coffee['cellCount']}개)\")\n",
        "        print(\"0. 이전 메뉴 돌아가기\")\n",
        "        print(\"=====================\")\n",
        "\n",
        "        try:\n",
        "            coffee_choice = int(input(\"입력 : \"))\n",
        "        except ValueError:\n",
        "            print(\"잘못된 입력입니다. 숫자를 입력해주세요.\")\n",
        "            continue\n",
        "\n",
        "        if coffee_choice == 0:\n",
        "            print(\"이전 메뉴로 돌아갑니다.\")\n",
        "            break\n",
        "\n",
        "        elif 1 <= coffee_choice <= len(coffee_menu):\n",
        "            selected_coffee = coffee_menu[coffee_choice - 1]\n",
        "\n",
        "            if selected_coffee[\"cellCount\"] > 0:\n",
        "                print(f\"{selected_coffee['name']}를 선택하셨습니다. 가격은 {selected_coffee['price']}원 입니다.\" )\n",
        "                try:\n",
        "                     money = int(input(\"돈을 넣어주세요 : \"))\n",
        "                except ValueError:\n",
        "                    print(\"잘못된 입력입니다. 숫자를 입력해주세요.\")\n",
        "                    continue\n",
        "\n",
        "                if money >= selected_coffee[\"price\"]:\n",
        "                    change = money - selected_coffee[\"price\"]\n",
        "                    selected_coffee[\"cellCount\"] -= 1\n",
        "                    totalMoney += selected_coffee[\"price\"]\n",
        "                    totalSell += 1\n",
        "\n",
        "                    print(f\"{selected_coffee['name']}를 구매하셨습니다. 거스름돈은 {change}원 입니다.\")\n",
        "                    print(f\"남은 {selected_coffee['name']} 재고는 {selected_coffee['cellCount']} 개 입니다.\")\n",
        "\n",
        "                else:\n",
        "                    print(\"돈이 부족합니다. 돈을 다시 넣어주세요\")\n",
        "                    continue\n",
        "\n",
        "            else:\n",
        "                print(\"잔여 수량이 없습니다. 다시 선택해주세요.\")\n",
        "\n",
        "        else:\n",
        "            print(\"잘못된 입력입니다. 다시 선택해주세요.\")\n",
        "\n",
        "def admin_menu():\n",
        "    # 함수 admin_menu() 설정 : 관리자 메뉴\n",
        "\n",
        "    while True:\n",
        "        print(\"관리자 메뉴입니다.\")\n",
        "        print(\"=====================\")\n",
        "        print(\"1.커피 등록하기\")\n",
        "        print(\"2.커피 수량 수정\")\n",
        "        print(\"3.커피 단가 수정\")\n",
        "        print(\"4.이전 메뉴로 돌아가기\")\n",
        "        print(\"=====================\")\n",
        "\n",
        "        try:\n",
        "            admin_choice = int(input(\"입력 : \"))\n",
        "        except ValueError:\n",
        "            print(\"잘못된 입력입니다. 숫자를 입력해주세요.\")\n",
        "            continue\n",
        "\n",
        "        if admin_choice == 4:\n",
        "            print(\"이전 메뉴로 돌아갑니다.\")\n",
        "            break\n",
        "\n",
        "        elif admin_choice == 1:\n",
        "            print(\"커피를 등록합니다.\")\n",
        "            new_coffee_name = input(\"커피 이름을 입력하세요 : \")\n",
        "            new_coffee_price = int(input(\"커피 가격을 입력하세요 : \"))\n",
        "            new_coffee_count = int(input(\"커피 재고를 입력하세요 : \"))\n",
        "            new_coffee = {\"name\" : new_coffee_name, \"price\" : new_coffee_price, \"cellCount\" : new_coffee_count}\n",
        "            coffee_menu.append(new_coffee)\n",
        "            print(\"커피가 등록되었습니다.\")\n",
        "\n",
        "        elif admin_choice == 2:\n",
        "            print(\"커피 수량을 수정합니다.\")\n",
        "            for idx, coffee in enumerate(coffee_menu, start=1):\n",
        "                print(f\"{idx}. {coffee['name']} : {coffee['price']}원 (재고: {coffee['cellCount']}개)\")\n",
        "            coffee_choice = int(input(\"수정할 커피의 번호를 입력하세요 : \"))\n",
        "            coffee_menu[coffee_choice - 1][\"cellCount\"] = int(input(\"수정할 수량을 입력하세요 : \"))\n",
        "            print(\"커피 수량이 수정되었습니다.\")\n",
        "\n",
        "        elif admin_choice == 3:\n",
        "            print(\"커피 단가를 수정합니다.\")\n",
        "            for idx, coffee in enumerate(coffee_menu, start=1):\n",
        "                print(f\"{idx}. {coffee['name']} : {coffee['price']}원 (재고: {coffee['cellCount']}개)\")\n",
        "            coffee_choice = int(input(\"수정할 커피의 번호를 입력하세요 : \"))\n",
        "            coffee_menu[coffee_choice - 1][\"price\"] = int(input(\"수정할 가격을 입력하세요 : \"))\n",
        "            print(\"커피 단가가 수정되었습니다.\")\n",
        "\n",
        "        else:\n",
        "            print(\"잘못된 입력입니다. 다시 입력해주세요.\")\n",
        "\n",
        "def statistics():\n",
        "    # 함수 statistics() 설정 : 통계 보기\n",
        "\n",
        "        print(\"통계가 출력이 됩니다.\")\n",
        "        print(\"=====================\")\n",
        "        print(f\"총 판매 금액 : {totalMoney}원\")\n",
        "        print(f\"총 판매 갯수 : {totalSell}개\")\n",
        "\n",
        "        if totalSell > 0 :\n",
        "            print(f\"평균 판매 금액 : {totalMoney / totalSell}원\")\n",
        "\n",
        "        else:\n",
        "            print(\"판매된 커피가 없습니다.\")\n",
        "        print(\"=====================\")\n",
        "\n",
        "exit_program = False\n",
        "\n",
        "while not exit_program:\n",
        "    main_menu()\n",
        "    try:\n",
        "        main_Menu_num = int(input(\"메뉴를 선택해 주세요 : \"))\n",
        "    except ValueError:\n",
        "        print(\"잘못된 입력입니다. 숫자를 입력해주세요.\")\n",
        "        continue\n",
        "\n",
        "    if main_Menu_num == 1:\n",
        "        buy_coffee()\n",
        "\n",
        "    elif main_Menu_num == 2:\n",
        "        admin_menu()\n",
        "\n",
        "    elif main_Menu_num == 3:\n",
        "        statistics()\n",
        "\n",
        "    elif main_Menu_num == 4:\n",
        "        print(\"프로그램을 종료합니다. 이용해 주셔서 감사합니다.\")\n",
        "        exit_program = True\n",
        "\n",
        "    else:\n",
        "        print(\"잘못된 입력입니다. 다시 입력해주세요.\")\n"
      ],
      "metadata": {
        "colab": {
          "base_uri": "https://localhost:8080/"
        },
        "id": "Jdd3iiAAUAqz",
        "outputId": "296d8996-6a5d-4316-e840-2e078b19b703"
      },
      "execution_count": 23,
      "outputs": [
        {
          "output_type": "stream",
          "name": "stdout",
          "text": [
            "\n",
            " ☕ 커피 자판기에 오신걸 환영합니다.(version.2.0.0) ☕\n",
            "\n",
            "1. 커피 구입하기\n",
            "2. 관리자 메뉴\n",
            "3. 통계 보기\n",
            "4. 판매 종료\n",
            "\n",
            "메뉴를 선택해 주세요 : 1\n",
            "\n",
            "구매할 커피를 고르세요\n",
            "=====================\n",
            "1. 아메리카노 : 2000원 (재고: 100개)\n",
            "2. 카페라떼 : 3000원 (재고: 100개)\n",
            "3. 카라멜마끼아또 : 3500원 (재고: 100개)\n",
            "4. 바닐라라떼 : 3800원 (재고: 100개)\n",
            "5. 콜드브루 : 4000원 (재고: 100개)\n",
            "0. 이전 메뉴 돌아가기\n",
            "=====================\n",
            "입력 : 5\n",
            "콜드브루를 선택하셨습니다. 가격은 4000원 입니다.\n",
            "돈을 넣어주세요 : 50000\n",
            "콜드브루를 구매하셨습니다. 거스름돈은 46000원 입니다.\n",
            "남은 콜드브루 재고는 99 개 입니다.\n",
            "\n",
            "구매할 커피를 고르세요\n",
            "=====================\n",
            "1. 아메리카노 : 2000원 (재고: 100개)\n",
            "2. 카페라떼 : 3000원 (재고: 100개)\n",
            "3. 카라멜마끼아또 : 3500원 (재고: 100개)\n",
            "4. 바닐라라떼 : 3800원 (재고: 100개)\n",
            "5. 콜드브루 : 4000원 (재고: 99개)\n",
            "0. 이전 메뉴 돌아가기\n",
            "=====================\n",
            "입력 : 4\n",
            "바닐라라떼를 선택하셨습니다. 가격은 3800원 입니다.\n",
            "돈을 넣어주세요 : 9000\n",
            "바닐라라떼를 구매하셨습니다. 거스름돈은 5200원 입니다.\n",
            "남은 바닐라라떼 재고는 99 개 입니다.\n",
            "\n",
            "구매할 커피를 고르세요\n",
            "=====================\n",
            "1. 아메리카노 : 2000원 (재고: 100개)\n",
            "2. 카페라떼 : 3000원 (재고: 100개)\n",
            "3. 카라멜마끼아또 : 3500원 (재고: 100개)\n",
            "4. 바닐라라떼 : 3800원 (재고: 99개)\n",
            "5. 콜드브루 : 4000원 (재고: 99개)\n",
            "0. 이전 메뉴 돌아가기\n",
            "=====================\n",
            "입력 : 5\n",
            "콜드브루를 선택하셨습니다. 가격은 4000원 입니다.\n",
            "돈을 넣어주세요 : 6000\n",
            "콜드브루를 구매하셨습니다. 거스름돈은 2000원 입니다.\n",
            "남은 콜드브루 재고는 98 개 입니다.\n",
            "\n",
            "구매할 커피를 고르세요\n",
            "=====================\n",
            "1. 아메리카노 : 2000원 (재고: 100개)\n",
            "2. 카페라떼 : 3000원 (재고: 100개)\n",
            "3. 카라멜마끼아또 : 3500원 (재고: 100개)\n",
            "4. 바닐라라떼 : 3800원 (재고: 99개)\n",
            "5. 콜드브루 : 4000원 (재고: 98개)\n",
            "0. 이전 메뉴 돌아가기\n",
            "=====================\n",
            "입력 : 0\n",
            "이전 메뉴로 돌아갑니다.\n",
            "\n",
            " ☕ 커피 자판기에 오신걸 환영합니다.(version.2.0.0) ☕\n",
            "\n",
            "1. 커피 구입하기\n",
            "2. 관리자 메뉴\n",
            "3. 통계 보기\n",
            "4. 판매 종료\n",
            "\n",
            "메뉴를 선택해 주세요 : 2\n",
            "관리자 메뉴입니다.\n",
            "=====================\n",
            "1.커피 등록하기\n",
            "2.커피 수량 수정\n",
            "3.커피 단가 수정\n",
            "4.이전 메뉴로 돌아가기\n",
            "=====================\n",
            "입력 : 1\n",
            "커피를 등록합니다.\n",
            "커피 이름을 입력하세요 : 푸딩 멜론 쉐이크\n",
            "커피 가격을 입력하세요 : 5500\n",
            "커피 재고를 입력하세요 : 10\n",
            "커피가 등록되었습니다.\n",
            "관리자 메뉴입니다.\n",
            "=====================\n",
            "1.커피 등록하기\n",
            "2.커피 수량 수정\n",
            "3.커피 단가 수정\n",
            "4.이전 메뉴로 돌아가기\n",
            "=====================\n",
            "입력 : 4\n",
            "이전 메뉴로 돌아갑니다.\n",
            "\n",
            " ☕ 커피 자판기에 오신걸 환영합니다.(version.2.0.0) ☕\n",
            "\n",
            "1. 커피 구입하기\n",
            "2. 관리자 메뉴\n",
            "3. 통계 보기\n",
            "4. 판매 종료\n",
            "\n",
            "메뉴를 선택해 주세요 : 1\n",
            "\n",
            "구매할 커피를 고르세요\n",
            "=====================\n",
            "1. 아메리카노 : 2000원 (재고: 100개)\n",
            "2. 카페라떼 : 3000원 (재고: 100개)\n",
            "3. 카라멜마끼아또 : 3500원 (재고: 100개)\n",
            "4. 바닐라라떼 : 3800원 (재고: 99개)\n",
            "5. 콜드브루 : 4000원 (재고: 98개)\n",
            "6. 푸딩 멜론 쉐이크 : 5500원 (재고: 10개)\n",
            "0. 이전 메뉴 돌아가기\n",
            "=====================\n",
            "입력 : 6\n",
            "푸딩 멜론 쉐이크를 선택하셨습니다. 가격은 5500원 입니다.\n",
            "돈을 넣어주세요 : 5000\n",
            "돈이 부족합니다. 돈을 다시 넣어주세요\n",
            "\n",
            "구매할 커피를 고르세요\n",
            "=====================\n",
            "1. 아메리카노 : 2000원 (재고: 100개)\n",
            "2. 카페라떼 : 3000원 (재고: 100개)\n",
            "3. 카라멜마끼아또 : 3500원 (재고: 100개)\n",
            "4. 바닐라라떼 : 3800원 (재고: 99개)\n",
            "5. 콜드브루 : 4000원 (재고: 98개)\n",
            "6. 푸딩 멜론 쉐이크 : 5500원 (재고: 10개)\n",
            "0. 이전 메뉴 돌아가기\n",
            "=====================\n",
            "입력 : 6\n",
            "푸딩 멜론 쉐이크를 선택하셨습니다. 가격은 5500원 입니다.\n",
            "돈을 넣어주세요 : 7000\n",
            "푸딩 멜론 쉐이크를 구매하셨습니다. 거스름돈은 1500원 입니다.\n",
            "남은 푸딩 멜론 쉐이크 재고는 9 개 입니다.\n",
            "\n",
            "구매할 커피를 고르세요\n",
            "=====================\n",
            "1. 아메리카노 : 2000원 (재고: 100개)\n",
            "2. 카페라떼 : 3000원 (재고: 100개)\n",
            "3. 카라멜마끼아또 : 3500원 (재고: 100개)\n",
            "4. 바닐라라떼 : 3800원 (재고: 99개)\n",
            "5. 콜드브루 : 4000원 (재고: 98개)\n",
            "6. 푸딩 멜론 쉐이크 : 5500원 (재고: 9개)\n",
            "0. 이전 메뉴 돌아가기\n",
            "=====================\n",
            "입력 : 0\n",
            "이전 메뉴로 돌아갑니다.\n",
            "\n",
            " ☕ 커피 자판기에 오신걸 환영합니다.(version.2.0.0) ☕\n",
            "\n",
            "1. 커피 구입하기\n",
            "2. 관리자 메뉴\n",
            "3. 통계 보기\n",
            "4. 판매 종료\n",
            "\n",
            "메뉴를 선택해 주세요 : 3\n",
            "\n",
            "커피 판매를 종료합니다. 통계가 출력이 됩니다.\n",
            "=====================\n",
            "총 판매 금액 : 17300원\n",
            "총 판매 갯수 : 4개\n",
            "평균 판매 금액 : 4325.0원\n",
            "=====================\n",
            "\n",
            " ☕ 커피 자판기에 오신걸 환영합니다.(version.2.0.0) ☕\n",
            "\n",
            "1. 커피 구입하기\n",
            "2. 관리자 메뉴\n",
            "3. 통계 보기\n",
            "4. 판매 종료\n",
            "\n",
            "메뉴를 선택해 주세요 : 4\n",
            "프로그램을 종료합니다.\n"
          ]
        }
      ]
    },
    {
      "cell_type": "code",
      "source": [
        "# 지역 변수와 전역 변수\n",
        "\n",
        "# 함수 안에서 만들어진 변수를 지역변수 = 함수가 호출되면 만들어지고 함수가 실행이 끝날 때 함께 없어진다.\n",
        "# 함수 밖에서 만들어진 변수를 전역변수 = 함수와 관계 없이 항상 굳건히 자리를 지킨다.\n",
        "# 언제든지 쓰이는 전역변수가 쓰이는게 좋을 수도 있지만, 다른 엉뚱한 함수 때문에 변수의 값이 바뀌어 버리는 경우가 생긴다.\n",
        "# 그래서 필요에 따라 지역변수, 전역변수를 골라 쓰는 것이 좋다.\n",
        "\n",
        "# 함수 안에서 전역 변수 만드는 방법이 있는데, 어떤 변수를 전역변수로 사용하겠다 라고 명시.\n",
        "\n",
        "def e_is_10():\n",
        "    global e\n",
        "    e = 10\n",
        "    print('e 값은', e, '입니다.')\n",
        "\n",
        "e"
      ],
      "metadata": {
        "colab": {
          "base_uri": "https://localhost:8080/"
        },
        "id": "AcRKiVk8oBpc",
        "outputId": "3747dead-27c1-4ae3-f181-02135d36359d"
      },
      "execution_count": 26,
      "outputs": [
        {
          "output_type": "execute_result",
          "data": {
            "text/plain": [
              "10"
            ]
          },
          "metadata": {},
          "execution_count": 26
        }
      ]
    }
  ]
}