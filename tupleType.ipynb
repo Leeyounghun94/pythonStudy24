{
  "nbformat": 4,
  "nbformat_minor": 0,
  "metadata": {
    "colab": {
      "provenance": [],
      "authorship_tag": "ABX9TyM3n8pLmrTa716SbyHIXsra",
      "include_colab_link": true
    },
    "kernelspec": {
      "name": "python3",
      "display_name": "Python 3"
    },
    "language_info": {
      "name": "python"
    }
  },
  "cells": [
    {
      "cell_type": "markdown",
      "metadata": {
        "id": "view-in-github",
        "colab_type": "text"
      },
      "source": [
        "<a href=\"https://colab.research.google.com/github/Leeyounghun94/pythonStudy24/blob/master/tupleType.ipynb\" target=\"_parent\"><img src=\"https://colab.research.google.com/assets/colab-badge.svg\" alt=\"Open In Colab\"/></a>"
      ]
    },
    {
      "cell_type": "markdown",
      "source": [
        "# **튜플 자료형에 대해서 알아보자!**\n",
        "\n",
        "튜플은 리스트와 거의 유사하나, 차이점은 ()로 둘러 싸고, 리스트는 CRUD 가능하지만, 튜플은 C R 만 가능하다. (튜플은 읽기 전용)\n",
        "JAVA에 Collections.unmodifiableList() 기능과 유사하다.\n",
        "\n",
        "https://velog.io/@clean01/Java-%EB%B3%80%EA%B2%BD%EC%9D%B4-%EB%B6%88%EA%B0%80%EB%8A%A5%ED%95%9C-Collection%EC%9D%84-%EB%A7%8C%EB%93%A4%EA%B8%B0-Immutable-Collection-Immutable-List\n",
        "\n",
        "->  Collections.unmodifiableList() URL\n",
        "(잘 안쓰는 기능이기 때문에 배우진 않았지만 이런 기능이 있다.)"
      ],
      "metadata": {
        "id": "f-2OiCxlVfzH"
      }
    },
    {
      "cell_type": "code",
      "source": [
        "# 튜플 생성하기\n",
        "\n",
        "t1 = ()                 # 빈 객체\n",
        "t2 = (1,)               # 1개의 요소만 가질 때(쉼표를 반드시 붙여야 함)\n",
        "t3 = (1, 2, 3)\n",
        "t4 = 1, 2, 3            # () 생략 가능\n",
        "t5 = ('a', 'b', ('ab', 'cd'))   # 2차원 튜플\n",
        "\n",
        "# 튜플과 리스트의 가장 큰 차이점은 요소값을 변화시킬 수 있는지에 대한 여부(튜플은 불가능, 리스트는 가능)\n",
        "# 프로그램이 실행되는 동안 요소값이 항상 변하지 않기를 바란다면 튜플을 사용하면 된다."
      ],
      "metadata": {
        "id": "BCAjAp8FVhdw"
      },
      "execution_count": null,
      "outputs": []
    },
    {
      "cell_type": "code",
      "execution_count": 2,
      "metadata": {
        "colab": {
          "base_uri": "https://localhost:8080/",
          "height": 184
        },
        "id": "orD_QNjqVAIE",
        "outputId": "26fa737f-9fdb-493d-a56c-3610b64b3dfa"
      },
      "outputs": [
        {
          "output_type": "error",
          "ename": "TypeError",
          "evalue": "'tuple' object doesn't support item deletion",
          "traceback": [
            "\u001b[0;31m---------------------------------------------------------------------------\u001b[0m",
            "\u001b[0;31mTypeError\u001b[0m                                 Traceback (most recent call last)",
            "\u001b[0;32m<ipython-input-2-a22c4adcadf6>\u001b[0m in \u001b[0;36m<cell line: 3>\u001b[0;34m()\u001b[0m\n\u001b[1;32m      1\u001b[0m \u001b[0mt1\u001b[0m \u001b[0;34m=\u001b[0m \u001b[0;34m(\u001b[0m\u001b[0;36m1\u001b[0m\u001b[0;34m,\u001b[0m \u001b[0;36m2\u001b[0m\u001b[0;34m,\u001b[0m \u001b[0;34m'a'\u001b[0m\u001b[0;34m,\u001b[0m \u001b[0;34m'b'\u001b[0m\u001b[0;34m)\u001b[0m\u001b[0;34m\u001b[0m\u001b[0;34m\u001b[0m\u001b[0m\n\u001b[1;32m      2\u001b[0m \u001b[0;34m\u001b[0m\u001b[0m\n\u001b[0;32m----> 3\u001b[0;31m \u001b[0;32mdel\u001b[0m \u001b[0mt1\u001b[0m\u001b[0;34m[\u001b[0m\u001b[0;36m0\u001b[0m\u001b[0;34m]\u001b[0m\u001b[0;34m\u001b[0m\u001b[0;34m\u001b[0m\u001b[0m\n\u001b[0m",
            "\u001b[0;31mTypeError\u001b[0m: 'tuple' object doesn't support item deletion"
          ]
        }
      ],
      "source": [
        "t1 = (1, 2, 'a', 'b')\n",
        "\n",
        "del t1[0]"
      ]
    },
    {
      "cell_type": "code",
      "source": [
        "t1[0] = 'c'"
      ],
      "metadata": {
        "colab": {
          "base_uri": "https://localhost:8080/",
          "height": 147
        },
        "id": "GsHJ4AwEYHoA",
        "outputId": "26a9babc-f0a3-4fef-a20e-9f6a2391ca69"
      },
      "execution_count": 3,
      "outputs": [
        {
          "output_type": "error",
          "ename": "TypeError",
          "evalue": "'tuple' object does not support item assignment",
          "traceback": [
            "\u001b[0;31m---------------------------------------------------------------------------\u001b[0m",
            "\u001b[0;31mTypeError\u001b[0m                                 Traceback (most recent call last)",
            "\u001b[0;32m<ipython-input-3-ade0ed493e3b>\u001b[0m in \u001b[0;36m<cell line: 1>\u001b[0;34m()\u001b[0m\n\u001b[0;32m----> 1\u001b[0;31m \u001b[0mt1\u001b[0m\u001b[0;34m[\u001b[0m\u001b[0;36m0\u001b[0m\u001b[0;34m]\u001b[0m \u001b[0;34m=\u001b[0m \u001b[0;34m'c'\u001b[0m\u001b[0;34m\u001b[0m\u001b[0;34m\u001b[0m\u001b[0m\n\u001b[0m",
            "\u001b[0;31mTypeError\u001b[0m: 'tuple' object does not support item assignment"
          ]
        }
      ]
    },
    {
      "cell_type": "code",
      "source": [
        "# 튜플은 C R만 되기 때문에 위에 수정과 삭제가 안되기 때문에 오류가 나온다."
      ],
      "metadata": {
        "id": "80ciyrK6YRoo"
      },
      "execution_count": null,
      "outputs": []
    },
    {
      "cell_type": "markdown",
      "source": [
        "혼자 실습:: ✅\n",
        "\n",
        "**튜플 다루기**"
      ],
      "metadata": {
        "id": "yY9UYY_TbLrn"
      }
    },
    {
      "cell_type": "code",
      "source": [
        "# 인덱싱\n",
        "\n",
        "t1 = (1, 2, 'a', 'b')\n",
        "t1[3]\n",
        "\n",
        "# 튜플에서도 리스트와 마찬가지로 인덱싱이 가능하며 0부터 시작한다."
      ],
      "metadata": {
        "colab": {
          "base_uri": "https://localhost:8080/",
          "height": 35
        },
        "id": "t2zMKhvNbYUg",
        "outputId": "03950701-9a07-4d29-aba8-3ad8a09f8bcf"
      },
      "execution_count": 5,
      "outputs": [
        {
          "output_type": "execute_result",
          "data": {
            "text/plain": [
              "'b'"
            ],
            "application/vnd.google.colaboratory.intrinsic+json": {
              "type": "string"
            }
          },
          "metadata": {},
          "execution_count": 5
        }
      ]
    },
    {
      "cell_type": "code",
      "source": [
        "# 슬라이싱\n",
        "\n",
        "t1 = (1, 2, 'b', 'c')\n",
        "t1[1:]\n",
        "\n",
        "# 마찬가지로 슬라이싱도 가능, 튜플의 인덱스 1번 부터 불러올수 있다."
      ],
      "metadata": {
        "colab": {
          "base_uri": "https://localhost:8080/"
        },
        "id": "eeB9SsIsb3qB",
        "outputId": "8d4a3163-5b5f-439d-8188-a3cdb6aa2106"
      },
      "execution_count": 6,
      "outputs": [
        {
          "output_type": "execute_result",
          "data": {
            "text/plain": [
              "(2, 'b', 'c')"
            ]
          },
          "metadata": {},
          "execution_count": 6
        }
      ]
    },
    {
      "cell_type": "code",
      "source": [
        "# 튜플 더하기\n",
        "\n",
        "t1 = (1, 2, 'a', 'b')\n",
        "t2 = (3, 4)\n",
        "t3 = t1 + t2\n",
        "t3\n",
        "\n",
        "# 튜플의 요소 값이 바뀌는 것이 아닌 t1, t2 튜플을 더해서 새로운 튜플 t3을 생성한 것."
      ],
      "metadata": {
        "colab": {
          "base_uri": "https://localhost:8080/"
        },
        "id": "60KbhcuFcOo5",
        "outputId": "b152e69c-bfe6-49ec-d8f0-c4e743fa3c8d"
      },
      "execution_count": 7,
      "outputs": [
        {
          "output_type": "execute_result",
          "data": {
            "text/plain": [
              "(1, 2, 'a', 'b', 3, 4)"
            ]
          },
          "metadata": {},
          "execution_count": 7
        }
      ]
    },
    {
      "cell_type": "code",
      "source": [
        "# 튜플 곱하기\n",
        "\n",
        "t2 = (3, 4)\n",
        "t3 = t2 * 5\n",
        "t3\n",
        "\n",
        "# 곱하기(반복)한 결과를 볼 수 있다."
      ],
      "metadata": {
        "colab": {
          "base_uri": "https://localhost:8080/"
        },
        "id": "QFZCjSXtcwww",
        "outputId": "6f308812-9e20-4242-cf43-17eb80e2d894"
      },
      "execution_count": 8,
      "outputs": [
        {
          "output_type": "execute_result",
          "data": {
            "text/plain": [
              "(3, 4, 3, 4, 3, 4, 3, 4, 3, 4)"
            ]
          },
          "metadata": {},
          "execution_count": 8
        }
      ]
    },
    {
      "cell_type": "code",
      "source": [
        "# 튜플 길이 구하기\n",
        "\n",
        "t1 = (1,5,7,'w', 't', 'x', 3, 9)\n",
        "len(t1)"
      ],
      "metadata": {
        "colab": {
          "base_uri": "https://localhost:8080/"
        },
        "id": "Pu3Oc9audAhH",
        "outputId": "90a41fa8-0c6f-4438-c324-75d2808be567"
      },
      "execution_count": 10,
      "outputs": [
        {
          "output_type": "execute_result",
          "data": {
            "text/plain": [
              "8"
            ]
          },
          "metadata": {},
          "execution_count": 10
        }
      ]
    },
    {
      "cell_type": "code",
      "source": [
        "# 튜플은 요솟값을 변경할 수 없기 때문에 sort, insert, remove, pop 과 같은 내장 함수가 없다."
      ],
      "metadata": {
        "id": "PAlMeMkvdXXQ"
      },
      "execution_count": null,
      "outputs": []
    }
  ]
}