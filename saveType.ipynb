{
  "nbformat": 4,
  "nbformat_minor": 0,
  "metadata": {
    "colab": {
      "provenance": [],
      "authorship_tag": "ABX9TyMUpe4vVsc0X+oX8dgz9zUO",
      "include_colab_link": true
    },
    "kernelspec": {
      "name": "python3",
      "display_name": "Python 3"
    },
    "language_info": {
      "name": "python"
    }
  },
  "cells": [
    {
      "cell_type": "markdown",
      "metadata": {
        "id": "view-in-github",
        "colab_type": "text"
      },
      "source": [
        "<a href=\"https://colab.research.google.com/github/Leeyounghun94/pythonStudy24/blob/master/saveType.ipynb\" target=\"_parent\"><img src=\"https://colab.research.google.com/assets/colab-badge.svg\" alt=\"Open In Colab\"/></a>"
      ]
    },
    {
      "cell_type": "markdown",
      "source": [
        "# **자료형의 값을 저장하는 공간, 변수**\n",
        "\n",
        "이 부분은 어려울 수 있는 부분이기 때문에 이해가 되지 않더라도 읽고 지나가도 된다. (하다보면 자연스럽게 습득이 되기 때문)"
      ],
      "metadata": {
        "id": "BmHtzd346JPH"
      }
    },
    {
      "cell_type": "code",
      "source": [
        "# 변수는 어떻게 만들어요 ?\n",
        "\n",
        "a = 1\n",
        "b = \"zkzkzk\"\n",
        "c = [1,3,5]\n",
        "\n",
        "# 변수 만들 때는 변수이름 = 변수에 넣을 값\n",
        "\n",
        "# 자바, 다른 프로그래밍 언어에서는 변수 만들 때 자료형 타입을 직접 선정해 줘야 하지만, 파이썬에서는 변수에 저장된 값을 스스로 판단을 하여 자료형의 타입을 지정하기 때문에 더 편리함."
      ],
      "metadata": {
        "id": "75_QR5s86awf"
      },
      "execution_count": null,
      "outputs": []
    },
    {
      "cell_type": "code",
      "execution_count": null,
      "metadata": {
        "id": "YZw3nBMz6Bt2"
      },
      "outputs": [],
      "source": [
        "# 그런데, 변수가 뭐에요 ?\n",
        "\n",
        "# 파이썬에서 사용하는 변수는 객체를 가르키는 것인데, 객체는 자료형의 데이터 즉, 값과 같은 것을 말하는 것.\n",
        "\n",
        "w = [4, 6, 7]\n",
        "\n",
        "# 변수에다가 값을 지정해놓으면 자동으로 메모리에 생성이 되고 4,6,7이 담아져 있는 변수a는 리스트가 저장된 메모리의 주소를 가리키게 됨."
      ]
    },
    {
      "cell_type": "code",
      "source": [
        "w = [4, 6, 7]\n",
        "id(w)\n",
        "\n",
        "# id는 변수가 가리키고 있는 객체의 주소 값을 표출하게 하는 파이썬의 내장 함수."
      ],
      "metadata": {
        "colab": {
          "base_uri": "https://localhost:8080/"
        },
        "id": "D3EkkHh17lWL",
        "outputId": "2bfc7397-3257-4212-e465-c2e8cda552f7"
      },
      "execution_count": 1,
      "outputs": [
        {
          "output_type": "execute_result",
          "data": {
            "text/plain": [
              "139812417110464"
            ]
          },
          "metadata": {},
          "execution_count": 1
        }
      ]
    },
    {
      "cell_type": "code",
      "source": [
        "w = [4, 6, 7]\n",
        "c = w\n",
        "\n",
        "# c 변수에다가 w 변수 대입하면 ?\n",
        "\n",
        "# c는 w와 동일하다고 할 수 있으나, 4, 6, 7이라는 객체를 참조하는 변수가 w 변수 1개에서 c 변수가 추가되어 늘었다는 차이만 있을 뿐이다."
      ],
      "metadata": {
        "id": "yQyNEAgX71O_"
      },
      "execution_count": 2,
      "outputs": []
    },
    {
      "cell_type": "code",
      "source": [
        "id(w)\n",
        "# 139812417126144\n",
        "\n",
        "id(c)\n",
        "# 139812417126144\n",
        "\n",
        "# 진짜 주소 값이 같네 ;;"
      ],
      "metadata": {
        "colab": {
          "base_uri": "https://localhost:8080/"
        },
        "id": "SJJsD0R58L1m",
        "outputId": "d6ce02a7-a30b-4244-aead-3a0b71bb9742"
      },
      "execution_count": 4,
      "outputs": [
        {
          "output_type": "execute_result",
          "data": {
            "text/plain": [
              "139812417126144"
            ]
          },
          "metadata": {},
          "execution_count": 4
        }
      ]
    },
    {
      "cell_type": "code",
      "source": [
        "w is c\n",
        "\n",
        "# w 변수가 c를 가르키고 있나요?"
      ],
      "metadata": {
        "colab": {
          "base_uri": "https://localhost:8080/"
        },
        "id": "88GFBMlM8b5x",
        "outputId": "2712f395-f1b4-4333-f6e8-e85e8c34c7b3"
      },
      "execution_count": 5,
      "outputs": [
        {
          "output_type": "execute_result",
          "data": {
            "text/plain": [
              "True"
            ]
          },
          "metadata": {},
          "execution_count": 5
        }
      ]
    },
    {
      "cell_type": "code",
      "source": [
        "# c 변수 생성할 때 w변수의 값을 가져오면서 w변수와 다른 주소를 가리키도록 만들 수 있는 방법이 2가지인데\n",
        "# 1. [:] 이용하기\n",
        "# 2. copy 모듈 이용하기"
      ],
      "metadata": {
        "id": "wXYafaD3-Bd9"
      },
      "execution_count": null,
      "outputs": []
    },
    {
      "cell_type": "code",
      "source": [
        "#  1. [:] 이용하기\n",
        "\n",
        "a = [1, 2, 3]\n",
        "b = a[:]\n",
        "a[1] = 4\n",
        "b\n",
        "\n",
        "# 리스트 전체를 가리키는 [:]을 사용해서 복사하는 방법"
      ],
      "metadata": {
        "colab": {
          "base_uri": "https://localhost:8080/"
        },
        "id": "C3BXO7Js-aIz",
        "outputId": "45be354e-8757-41cd-d818-6e1eaf2fefdf"
      },
      "execution_count": 7,
      "outputs": [
        {
          "output_type": "execute_result",
          "data": {
            "text/plain": [
              "[1, 2, 3]"
            ]
          },
          "metadata": {},
          "execution_count": 7
        }
      ]
    },
    {
      "cell_type": "code",
      "source": [
        "#  2. copy 모듈 이용하기\n",
        "\n",
        "from copy import copy\n",
        "a = [1, 2, 3]\n",
        "b = copy(a)\n",
        "\n",
        "b is a\n",
        "\n",
        "# 두 변수의 값은 같으나, 서로 다른 객체를 가리키고 있기 때문에 false 가 나온다."
      ],
      "metadata": {
        "colab": {
          "base_uri": "https://localhost:8080/"
        },
        "id": "63HHCE3N-1WP",
        "outputId": "1845f506-ddbe-43a3-9909-aef0a736b968"
      },
      "execution_count": 9,
      "outputs": [
        {
          "output_type": "execute_result",
          "data": {
            "text/plain": [
              "False"
            ]
          },
          "metadata": {},
          "execution_count": 9
        }
      ]
    },
    {
      "cell_type": "code",
      "source": [
        "# copy 함수 사용하기\n",
        "\n",
        "a = [1, 2, 3]\n",
        "b = a.copy()\n",
        "b is a\n",
        "\n",
        "# 리스트 자료형의 자체 함수인 copy 함수를 사용해도 copy 모듈 사용하는 것처럼 동일한 결과가 나온다."
      ],
      "metadata": {
        "colab": {
          "base_uri": "https://localhost:8080/"
        },
        "id": "Mk44_WdC_L5C",
        "outputId": "14d4d754-095a-4583-b611-dc81241d9ab1"
      },
      "execution_count": 10,
      "outputs": [
        {
          "output_type": "execute_result",
          "data": {
            "text/plain": [
              "False"
            ]
          },
          "metadata": {},
          "execution_count": 10
        }
      ]
    },
    {
      "cell_type": "code",
      "source": [
        "# 변수를 만드는 여러가지 방법\n",
        "\n",
        "a, b ('python', 'life')\n",
        "(a, b) = 'python', 'life'   # 튜플은 괄호 생략 해도 됨. 근데 난 쓸꺼임 ㅋ\n",
        "# a 에다가 python, b에다가 life 변수 지정\n",
        "\n",
        "[a, b] = ['python', 'life'] # 리스트로 변수를 만들 수 있음.\n",
        "\n",
        "a = b = 'python' # 여러 개의 변수에 같은 값을 대입 할 수 있음"
      ],
      "metadata": {
        "id": "5tDoxnmy_dDK"
      },
      "execution_count": null,
      "outputs": []
    },
    {
      "cell_type": "code",
      "source": [
        "a = 3\n",
        "b = 5\n",
        "a, b = b, a\n",
        "a\n",
        "b\n",
        "\n",
        "# 처음에는 a에 3 b에는 5가 대입되었지만, a,b = b, a문장 수행한 뒤부터는 값이 서로 바뀌었다는 걸 확인할 수 있다."
      ],
      "metadata": {
        "colab": {
          "base_uri": "https://localhost:8080/"
        },
        "id": "dSc561deAaGt",
        "outputId": "4446f99b-086e-4103-8b55-62398014393c"
      },
      "execution_count": 13,
      "outputs": [
        {
          "output_type": "execute_result",
          "data": {
            "text/plain": [
              "3"
            ]
          },
          "metadata": {},
          "execution_count": 13
        }
      ]
    }
  ]
}