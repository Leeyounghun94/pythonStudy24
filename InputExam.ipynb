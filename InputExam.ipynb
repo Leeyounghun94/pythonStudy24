{
  "nbformat": 4,
  "nbformat_minor": 0,
  "metadata": {
    "colab": {
      "provenance": [],
      "authorship_tag": "ABX9TyOkkXvSkz6HjDj8HYsRtlZb",
      "include_colab_link": true
    },
    "kernelspec": {
      "name": "python3",
      "display_name": "Python 3"
    },
    "language_info": {
      "name": "python"
    }
  },
  "cells": [
    {
      "cell_type": "markdown",
      "metadata": {
        "id": "view-in-github",
        "colab_type": "text"
      },
      "source": [
        "<a href=\"https://colab.research.google.com/github/Leeyounghun94/pythonStudy24/blob/master/InputExam.ipynb\" target=\"_parent\"><img src=\"https://colab.research.google.com/assets/colab-badge.svg\" alt=\"Open In Colab\"/></a>"
      ]
    },
    {
      "cell_type": "markdown",
      "source": [
        "# **프로그램의 입출력**\n",
        "\n",
        "\n",
        "\n",
        ">  C:\\> type a.txt\n",
        "\n",
        "type은 바로 뒤에 적힌 파일 이름을 인수로 받아서 해당 파일의 내용을 출력해 주는 명령어\n",
        "\n",
        "\n",
        "\n"
      ],
      "metadata": {
        "id": "nP13XwqUfCxK"
      }
    },
    {
      "cell_type": "code",
      "execution_count": 2,
      "metadata": {
        "colab": {
          "base_uri": "https://localhost:8080/"
        },
        "id": "-A6Qfa0Xeg_j",
        "outputId": "21acaf71-11d7-4115-84c0-6f424b4401eb"
      },
      "outputs": [
        {
          "output_type": "stream",
          "name": "stdout",
          "text": [
            "-f\n",
            "/root/.local/share/jupyter/runtime/kernel-e78a4e36-405a-4b5f-a0ee-087751bb77fc.json\n"
          ]
        }
      ],
      "source": [
        "# 파이썬에서도 이런 기능이 있는데, sys 모듈 사용하기\n",
        "\n",
        "# sys 모듈 이용해서 인수를 전달할 수 있다. sys 모듈을 사용하려면 impory sys 처럼 import를 사용해야 한다.\n",
        "\n",
        "import sys\n",
        "\n",
        "args = sys.argv[1:]\n",
        "for i in args:\n",
        "    print(i)\n",
        "\n",
        "# 프로그램 실행 시 전달받은 인수를 for문 사용해서 하나씩 출력하는 것이다.\n",
        "# sys.argv는 프로그램 실행 시 전달되는 인수 의미.\n"
      ]
    },
    {
      "cell_type": "code",
      "source": [
        "import sys\n",
        "args = sys.argv[1:]\n",
        "for i in args:\n",
        "    print(i.upper(), end=' ')\n",
        "\n",
        "# 문자열 관련 프로그램인 upper() 사용해서 프로그램에 전달된 인수 값이 모두 대문자로 바꾸어주는 프로그램"
      ],
      "metadata": {
        "id": "r-8lU1w8hBLl"
      },
      "execution_count": null,
      "outputs": []
    }
  ]
}