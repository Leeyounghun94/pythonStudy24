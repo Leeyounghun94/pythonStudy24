{
  "nbformat": 4,
  "nbformat_minor": 0,
  "metadata": {
    "colab": {
      "provenance": [],
      "authorship_tag": "ABX9TyModRBsUo6y5KUDS4ugU34x",
      "include_colab_link": true
    },
    "kernelspec": {
      "name": "python3",
      "display_name": "Python 3"
    },
    "language_info": {
      "name": "python"
    }
  },
  "cells": [
    {
      "cell_type": "markdown",
      "metadata": {
        "id": "view-in-github",
        "colab_type": "text"
      },
      "source": [
        "<a href=\"https://colab.research.google.com/github/Leeyounghun94/pythonStudy24/blob/master/listType.ipynb\" target=\"_parent\"><img src=\"https://colab.research.google.com/assets/colab-badge.svg\" alt=\"Open In Colab\"/></a>"
      ]
    },
    {
      "cell_type": "markdown",
      "source": [
        "# **테이블 자료 처리 : 각각의 객체를 모아서 처리하는 용도**\n",
        "\n",
        "*   리스트 자료형\n",
        "*   튜플 자료형\n",
        "*   딕셔너리 자료형\n",
        "*   집합 자료형\n",
        "\n"
      ],
      "metadata": {
        "id": "WP-VwUEYYHn6"
      }
    },
    {
      "cell_type": "code",
      "execution_count": null,
      "metadata": {
        "id": "Y4IPliqKW6V4"
      },
      "outputs": [],
      "source": [
        "# 리스트 자료형 : 대괄호를 이용하여 감싸고 쉼표로 요소를 구분한다.\n",
        "\n",
        "odd = [1, 3, 5, 7, 9]   # 자바의 배열과 유사하나 배열은 초기 행렬 값을 갖는다. -> 단점이(배열의 크기 조절 불가) 있어서 arrayList 쓴다.(파이썬은 기본이 arrayList)\n",
        "\n",
        "a = []  # 비어있는 리스트,  a = list() -> 이렇게도 생성 가능\n",
        "b = [1, 2, 3]   # 정수형 리스트\n",
        "c = ['Life ', 'is', 'too', 'short'] # 문자형 리스트\n",
        "d = [1, 2, 'Life', 'is']    # 혼합형 리스트\n",
        "e = [1, 2, ['Life', 'is']]    # 리스트의 리스트\n"
      ]
    },
    {
      "cell_type": "code",
      "source": [
        "# 리스트 인덱싱\n",
        "\n",
        "a = [1, 2, 3]\n",
        "\n",
        "print(a[0]) # a리스트의 0번 인덱스를 출력한다."
      ],
      "metadata": {
        "colab": {
          "base_uri": "https://localhost:8080/"
        },
        "id": "qjWTC2mlbbxY",
        "outputId": "e4ba1fb8-fea7-4609-c291-4c17d857c8c4"
      },
      "execution_count": 3,
      "outputs": [
        {
          "output_type": "stream",
          "name": "stdout",
          "text": [
            "1\n"
          ]
        }
      ]
    },
    {
      "cell_type": "code",
      "source": [
        "a[0] + a[2]"
      ],
      "metadata": {
        "colab": {
          "base_uri": "https://localhost:8080/"
        },
        "id": "qJGNiB93bx1x",
        "outputId": "fc2af7c0-b684-4ddd-bbec-d252d82b1041"
      },
      "execution_count": 4,
      "outputs": [
        {
          "output_type": "execute_result",
          "data": {
            "text/plain": [
              "4"
            ]
          },
          "metadata": {},
          "execution_count": 4
        }
      ]
    },
    {
      "cell_type": "code",
      "source": [
        "a[-1] # -1 이라고 하면 마지막 요소 값"
      ],
      "metadata": {
        "colab": {
          "base_uri": "https://localhost:8080/"
        },
        "id": "gJ8_IDg6b7gB",
        "outputId": "68ec396d-85f9-4934-b778-49b53e3b666d"
      },
      "execution_count": 5,
      "outputs": [
        {
          "output_type": "execute_result",
          "data": {
            "text/plain": [
              "3"
            ]
          },
          "metadata": {},
          "execution_count": 5
        }
      ]
    },
    {
      "cell_type": "code",
      "source": [
        "a = [1, 2, 3, [\"a\", \"b\", \"c\"]]  # 리스트 안의 리스트(2차원 배열)\n",
        "a[-1][0]                        # 2차원 배열을 출력하려면 [행][렬]\n"
      ],
      "metadata": {
        "colab": {
          "base_uri": "https://localhost:8080/",
          "height": 35
        },
        "id": "gn9GUnxfcSKp",
        "outputId": "cc8c68d1-ed46-4349-b3e1-56bb59836a02"
      },
      "execution_count": 9,
      "outputs": [
        {
          "output_type": "execute_result",
          "data": {
            "text/plain": [
              "'a'"
            ],
            "application/vnd.google.colaboratory.intrinsic+json": {
              "type": "string"
            }
          },
          "metadata": {},
          "execution_count": 9
        }
      ]
    },
    {
      "cell_type": "code",
      "source": [
        "# 3차원 배열 -> 사진, 동영상 처리, 게임 (가로x세로 -> 픽셀, 깊이 -> RGB컬러)\n",
        "\n",
        "MEMBER = [[\"김기원\",[\"교사\", 312]], [\"김지선\", [\"학생\", 312]], [\"이영훈\", [\"학생2\", 311]], [\"윤인영\", [\"학생3\", 313]]]\n",
        "\n",
        "MEMBER[1][1][1]\n",
        "\n",
        "# 인덱스는 0번 부터 시작하다는 점을 알아두자."
      ],
      "metadata": {
        "colab": {
          "base_uri": "https://localhost:8080/"
        },
        "id": "aPn4OsUjdJj8",
        "outputId": "7514f8db-0521-41f5-885d-2f684611cffb"
      },
      "execution_count": 11,
      "outputs": [
        {
          "output_type": "execute_result",
          "data": {
            "text/plain": [
              "312"
            ]
          },
          "metadata": {},
          "execution_count": 11
        }
      ]
    },
    {
      "cell_type": "code",
      "source": [
        "# 리스트 슬라이싱\n",
        "\n",
        "a = [1, 2, 3, 4, 5]\n",
        "a[0:2]"
      ],
      "metadata": {
        "colab": {
          "base_uri": "https://localhost:8080/"
        },
        "id": "fNYW4r0Flhy7",
        "outputId": "b9b5873a-6351-411f-d111-3d8b945aff3d"
      },
      "execution_count": 12,
      "outputs": [
        {
          "output_type": "execute_result",
          "data": {
            "text/plain": [
              "[1, 2]"
            ]
          },
          "metadata": {},
          "execution_count": 12
        }
      ]
    },
    {
      "cell_type": "code",
      "source": [
        "a[:2]   # 처음부터 2번 인덱스 전 까지"
      ],
      "metadata": {
        "colab": {
          "base_uri": "https://localhost:8080/"
        },
        "id": "QZU7oTgrl6_6",
        "outputId": "66335c84-e515-4b92-ffb0-8c66b3151a95"
      },
      "execution_count": 13,
      "outputs": [
        {
          "output_type": "execute_result",
          "data": {
            "text/plain": [
              "[1, 2]"
            ]
          },
          "metadata": {},
          "execution_count": 13
        }
      ]
    },
    {
      "cell_type": "code",
      "source": [
        "a[2:]   # 2번부터 마지막 까지"
      ],
      "metadata": {
        "colab": {
          "base_uri": "https://localhost:8080/"
        },
        "id": "_Pq3fnTgmC05",
        "outputId": "7980e86e-564a-441a-ca5e-ab1925d70dfe"
      },
      "execution_count": 14,
      "outputs": [
        {
          "output_type": "execute_result",
          "data": {
            "text/plain": [
              "[3, 4, 5]"
            ]
          },
          "metadata": {},
          "execution_count": 14
        }
      ]
    },
    {
      "cell_type": "code",
      "source": [
        "a = [1, 2, 3, [\"a\", \"b\", \"c\"], 4, 5]\n",
        "#    0  1  2        3          4  5\n",
        "a[2:5]"
      ],
      "metadata": {
        "colab": {
          "base_uri": "https://localhost:8080/"
        },
        "id": "LSLAYTcTmQhp",
        "outputId": "68a92eff-71e3-4b42-9b14-f6d9ac58329a"
      },
      "execution_count": 15,
      "outputs": [
        {
          "output_type": "execute_result",
          "data": {
            "text/plain": [
              "[3, ['a', 'b', 'c'], 4]"
            ]
          },
          "metadata": {},
          "execution_count": 15
        }
      ]
    },
    {
      "cell_type": "code",
      "source": [
        "# 미션 b, c를 슬라이싱 해보자\n",
        "\n",
        "a[3][1:]"
      ],
      "metadata": {
        "colab": {
          "base_uri": "https://localhost:8080/"
        },
        "id": "wiM7CdFXmwGB",
        "outputId": "10ce2e5c-639b-42f7-d36d-8c5eed86d148"
      },
      "execution_count": 17,
      "outputs": [
        {
          "output_type": "execute_result",
          "data": {
            "text/plain": [
              "['b', 'c']"
            ]
          },
          "metadata": {},
          "execution_count": 17
        }
      ]
    },
    {
      "cell_type": "code",
      "source": [
        "# 리스트 연산 : + , *를 활용할 수 있다.\n",
        "\n",
        "a = [1, 2, 3]\n",
        "b = [4, 5, 6]\n",
        "\n",
        "a + b\n",
        "\n",
        "# 결과가 문자열의 + 계산과 유사하다."
      ],
      "metadata": {
        "colab": {
          "base_uri": "https://localhost:8080/"
        },
        "id": "m34IrrPSnDp8",
        "outputId": "c3b6bf55-80bd-4900-8189-36093164b204"
      },
      "execution_count": 18,
      "outputs": [
        {
          "output_type": "execute_result",
          "data": {
            "text/plain": [
              "[1, 2, 3, 4, 5, 6]"
            ]
          },
          "metadata": {},
          "execution_count": 18
        }
      ]
    },
    {
      "cell_type": "code",
      "source": [
        "a * 3"
      ],
      "metadata": {
        "colab": {
          "base_uri": "https://localhost:8080/"
        },
        "id": "Hma8lRY4nYna",
        "outputId": "b46c2b1d-6e33-432f-b41a-87de82f594fd"
      },
      "execution_count": 19,
      "outputs": [
        {
          "output_type": "execute_result",
          "data": {
            "text/plain": [
              "[1, 2, 3, 1, 2, 3, 1, 2, 3]"
            ]
          },
          "metadata": {},
          "execution_count": 19
        }
      ]
    },
    {
      "cell_type": "code",
      "source": [
        "# 리스트의 길이 구하기\n",
        "\n",
        "len(a)"
      ],
      "metadata": {
        "colab": {
          "base_uri": "https://localhost:8080/"
        },
        "id": "Ui7qQYqKnsut",
        "outputId": "4ef23620-bb62-4aea-ee56-e69916a0fbee"
      },
      "execution_count": 20,
      "outputs": [
        {
          "output_type": "execute_result",
          "data": {
            "text/plain": [
              "3"
            ]
          },
          "metadata": {},
          "execution_count": 20
        }
      ]
    },
    {
      "cell_type": "code",
      "source": [
        "# 리스트에 글자 추가하기\n",
        "\n",
        "a = [1, 2, 3]\n",
        "a[2] + \"hi\""
      ],
      "metadata": {
        "colab": {
          "base_uri": "https://localhost:8080/",
          "height": 184
        },
        "id": "l9IOdVaFoFVS",
        "outputId": "371af67b-0fc9-4cbb-bfcd-d95da1e9cfdc"
      },
      "execution_count": 21,
      "outputs": [
        {
          "output_type": "error",
          "ename": "TypeError",
          "evalue": "unsupported operand type(s) for +: 'int' and 'str'",
          "traceback": [
            "\u001b[0;31m---------------------------------------------------------------------------\u001b[0m",
            "\u001b[0;31mTypeError\u001b[0m                                 Traceback (most recent call last)",
            "\u001b[0;32m<ipython-input-21-effd77e2981c>\u001b[0m in \u001b[0;36m<cell line: 4>\u001b[0;34m()\u001b[0m\n\u001b[1;32m      2\u001b[0m \u001b[0;34m\u001b[0m\u001b[0m\n\u001b[1;32m      3\u001b[0m \u001b[0ma\u001b[0m \u001b[0;34m=\u001b[0m \u001b[0;34m[\u001b[0m\u001b[0;36m1\u001b[0m\u001b[0;34m,\u001b[0m \u001b[0;36m2\u001b[0m\u001b[0;34m,\u001b[0m \u001b[0;36m3\u001b[0m\u001b[0;34m]\u001b[0m\u001b[0;34m\u001b[0m\u001b[0;34m\u001b[0m\u001b[0m\n\u001b[0;32m----> 4\u001b[0;31m \u001b[0ma\u001b[0m\u001b[0;34m[\u001b[0m\u001b[0;36m2\u001b[0m\u001b[0;34m]\u001b[0m \u001b[0;34m+\u001b[0m \u001b[0;34m\"hi\"\u001b[0m   \u001b[0;31m# [1, 2, hi] ?\u001b[0m\u001b[0;34m\u001b[0m\u001b[0;34m\u001b[0m\u001b[0m\n\u001b[0m",
            "\u001b[0;31mTypeError\u001b[0m: unsupported operand type(s) for +: 'int' and 'str'"
          ]
        }
      ]
    },
    {
      "cell_type": "code",
      "source": [
        "str(a[2]) + \"hi\"\n",
        "\n",
        "# str(정수) -> 정수가 문자열로 변환한다. = \"3\" + \"hi\""
      ],
      "metadata": {
        "colab": {
          "base_uri": "https://localhost:8080/",
          "height": 35
        },
        "id": "h--Dze0gorGb",
        "outputId": "9395cbb5-025f-4088-d84f-21c48446f7c2"
      },
      "execution_count": 23,
      "outputs": [
        {
          "output_type": "execute_result",
          "data": {
            "text/plain": [
              "'3hi'"
            ],
            "application/vnd.google.colaboratory.intrinsic+json": {
              "type": "string"
            }
          },
          "metadata": {},
          "execution_count": 23
        }
      ]
    },
    {
      "cell_type": "code",
      "source": [
        "# 리스트 값 수정하기\n",
        "\n",
        "a= [1, 2, 3]\n",
        "a[2] = 4\n",
        "\n",
        "a"
      ],
      "metadata": {
        "colab": {
          "base_uri": "https://localhost:8080/"
        },
        "id": "_4jBRFI2pPi_",
        "outputId": "e8c146da-7883-48be-8388-9c885861661b"
      },
      "execution_count": 25,
      "outputs": [
        {
          "output_type": "execute_result",
          "data": {
            "text/plain": [
              "[1, 2, 4]"
            ]
          },
          "metadata": {},
          "execution_count": 25
        }
      ]
    },
    {
      "cell_type": "code",
      "source": [
        "# 리스트 값 삭제하기\n",
        "\n",
        "del a[2]\n",
        "a\n",
        "\n",
        "# del 명령어는 객체를 삭제하는 명령어"
      ],
      "metadata": {
        "colab": {
          "base_uri": "https://localhost:8080/"
        },
        "id": "ADcLwjw7phAJ",
        "outputId": "1e867c82-d045-4ee2-c1fb-0621215839bf"
      },
      "execution_count": 27,
      "outputs": [
        {
          "output_type": "execute_result",
          "data": {
            "text/plain": [
              "[1, 2]"
            ]
          },
          "metadata": {},
          "execution_count": 27
        }
      ]
    },
    {
      "cell_type": "code",
      "source": [
        "a = [1, 2, 3, 4, 5]\n",
        "del a[2:]   # remove, pop 함수도 제거용 함수\n",
        "a"
      ],
      "metadata": {
        "colab": {
          "base_uri": "https://localhost:8080/"
        },
        "id": "aS-_g32ep_QA",
        "outputId": "62b5c28d-b35c-4713-e743-aa47343a466a"
      },
      "execution_count": 29,
      "outputs": [
        {
          "output_type": "execute_result",
          "data": {
            "text/plain": [
              "[1, 2]"
            ]
          },
          "metadata": {},
          "execution_count": 29
        }
      ]
    },
    {
      "cell_type": "code",
      "source": [
        "# 리스트 관련 함수\n",
        "\n",
        "# .append() -> 이미 만들어진 리스트에 객체를 추가할 때\n",
        "\n",
        "a = [1, 2, 3]\n",
        "a.append(4)\n",
        "a"
      ],
      "metadata": {
        "colab": {
          "base_uri": "https://localhost:8080/"
        },
        "id": "ed5vAKdWqYDb",
        "outputId": "42bd13a9-19d8-40f9-a66e-86a2ad65082c"
      },
      "execution_count": 30,
      "outputs": [
        {
          "output_type": "execute_result",
          "data": {
            "text/plain": [
              "[1, 2, 3, 4]"
            ]
          },
          "metadata": {},
          "execution_count": 30
        }
      ]
    },
    {
      "cell_type": "code",
      "source": [
        "a.append([5, 6])\n",
        "a\n",
        "\n",
        "# 2차원 배열도 추가 가능하다."
      ],
      "metadata": {
        "colab": {
          "base_uri": "https://localhost:8080/"
        },
        "id": "fja9MxFkq3Bs",
        "outputId": "c6c280cd-ebfe-4ce9-9262-c021f57b70cd"
      },
      "execution_count": 31,
      "outputs": [
        {
          "output_type": "execute_result",
          "data": {
            "text/plain": [
              "[1, 2, 3, 4, [5, 6]]"
            ]
          },
          "metadata": {},
          "execution_count": 31
        }
      ]
    },
    {
      "cell_type": "code",
      "source": [
        "# sort() -> 리스트 요소를 정렬해준다.\n",
        "\n",
        "a = [1, 4, 3, 2]\n",
        "a.sort()    # 오름차순 정렬\n",
        "a"
      ],
      "metadata": {
        "colab": {
          "base_uri": "https://localhost:8080/"
        },
        "id": "mWJ2EDuorDTD",
        "outputId": "b92705bd-fbaf-40e2-88bb-6b9fa7be7c1b"
      },
      "execution_count": 32,
      "outputs": [
        {
          "output_type": "execute_result",
          "data": {
            "text/plain": [
              "[1, 2, 3, 4]"
            ]
          },
          "metadata": {},
          "execution_count": 32
        }
      ]
    },
    {
      "cell_type": "code",
      "source": [
        "a.reverse() # 내림차순 정렬\n",
        "a"
      ],
      "metadata": {
        "colab": {
          "base_uri": "https://localhost:8080/"
        },
        "id": "HVsdjqhfwgNU",
        "outputId": "4a603faf-17af-472d-ada5-65059ac5c99c"
      },
      "execution_count": 33,
      "outputs": [
        {
          "output_type": "execute_result",
          "data": {
            "text/plain": [
              "[4, 3, 2, 1]"
            ]
          },
          "metadata": {},
          "execution_count": 33
        }
      ]
    },
    {
      "cell_type": "code",
      "source": [
        "a = [6, \"김기원\", \"a\", \"@\"]\n",
        "a.sort\n",
        "a"
      ],
      "metadata": {
        "colab": {
          "base_uri": "https://localhost:8080/"
        },
        "id": "kPe5N6oVwn14",
        "outputId": "dd935e5a-b686-470a-bc0f-253da7ce403f"
      },
      "execution_count": 34,
      "outputs": [
        {
          "output_type": "execute_result",
          "data": {
            "text/plain": [
              "[6, '김기원', 'a', '@']"
            ]
          },
          "metadata": {},
          "execution_count": 34
        }
      ]
    },
    {
      "cell_type": "code",
      "source": [
        "a.reverse\n",
        "a\n",
        "\n",
        "# 타입이 안맞는 경우에는 정렬이 안된다.(sort, reverse)"
      ],
      "metadata": {
        "colab": {
          "base_uri": "https://localhost:8080/"
        },
        "id": "Njj-gBjdw6g5",
        "outputId": "d7b2ec28-012b-477a-dcd6-dd89e88dbcee"
      },
      "execution_count": 35,
      "outputs": [
        {
          "output_type": "execute_result",
          "data": {
            "text/plain": [
              "[6, '김기원', 'a', '@']"
            ]
          },
          "metadata": {},
          "execution_count": 35
        }
      ]
    },
    {
      "cell_type": "code",
      "source": [
        "b = [\"z\",\"a\", \"d\", \"g\", \"k\"]\n",
        "b.sort()\n",
        "b"
      ],
      "metadata": {
        "colab": {
          "base_uri": "https://localhost:8080/"
        },
        "id": "cnLArtP4xEiB",
        "outputId": "df306753-b7a0-4850-92dd-a925eccf95a4"
      },
      "execution_count": 36,
      "outputs": [
        {
          "output_type": "execute_result",
          "data": {
            "text/plain": [
              "['a', 'd', 'g', 'k', 'z']"
            ]
          },
          "metadata": {},
          "execution_count": 36
        }
      ]
    },
    {
      "cell_type": "code",
      "source": [
        "c = [\"김기원\", \"김지선\", \"윤인영\", \"육진\"]\n",
        "c.sort()\n",
        "c"
      ],
      "metadata": {
        "colab": {
          "base_uri": "https://localhost:8080/"
        },
        "id": "vhyhev77xbL6",
        "outputId": "3f21cb7d-26a5-485b-aa05-618346586007"
      },
      "execution_count": 39,
      "outputs": [
        {
          "output_type": "execute_result",
          "data": {
            "text/plain": [
              "['김기원', '김지선', '육진', '윤인영']"
            ]
          },
          "metadata": {},
          "execution_count": 39
        }
      ]
    },
    {
      "cell_type": "code",
      "source": [
        "# 인덱스 반환하기 ->  .index(값)\n",
        "\n",
        "a = [1, 2, 3]\n",
        "#    0  1  2 인덱스\n",
        "a.index(3)\n",
        "\n",
        "# 3값이 몇번째에 있냐?"
      ],
      "metadata": {
        "colab": {
          "base_uri": "https://localhost:8080/"
        },
        "id": "1a2f8oWQx1Yk",
        "outputId": "389d99e1-1db1-4809-be0b-b1b55159e4e5"
      },
      "execution_count": 40,
      "outputs": [
        {
          "output_type": "execute_result",
          "data": {
            "text/plain": [
              "2"
            ]
          },
          "metadata": {},
          "execution_count": 40
        }
      ]
    },
    {
      "cell_type": "code",
      "source": [
        "a.index(1)"
      ],
      "metadata": {
        "colab": {
          "base_uri": "https://localhost:8080/"
        },
        "id": "jeuZQSNUyIQI",
        "outputId": "58a0697f-dad5-4bd0-c77b-ca450a7f076d"
      },
      "execution_count": 41,
      "outputs": [
        {
          "output_type": "execute_result",
          "data": {
            "text/plain": [
              "0"
            ]
          },
          "metadata": {},
          "execution_count": 41
        }
      ]
    },
    {
      "cell_type": "code",
      "source": [
        "a.index(4)"
      ],
      "metadata": {
        "colab": {
          "base_uri": "https://localhost:8080/",
          "height": 147
        },
        "id": "sU5xb8lDyNuw",
        "outputId": "5984668d-b013-4e32-df61-b1d0b52236af"
      },
      "execution_count": 42,
      "outputs": [
        {
          "output_type": "error",
          "ename": "ValueError",
          "evalue": "4 is not in list",
          "traceback": [
            "\u001b[0;31m---------------------------------------------------------------------------\u001b[0m",
            "\u001b[0;31mValueError\u001b[0m                                Traceback (most recent call last)",
            "\u001b[0;32m<ipython-input-42-bca86892130e>\u001b[0m in \u001b[0;36m<cell line: 1>\u001b[0;34m()\u001b[0m\n\u001b[0;32m----> 1\u001b[0;31m \u001b[0ma\u001b[0m\u001b[0;34m.\u001b[0m\u001b[0mindex\u001b[0m\u001b[0;34m(\u001b[0m\u001b[0;36m4\u001b[0m\u001b[0;34m)\u001b[0m\u001b[0;34m\u001b[0m\u001b[0;34m\u001b[0m\u001b[0m\n\u001b[0m",
            "\u001b[0;31mValueError\u001b[0m: 4 is not in list"
          ]
        }
      ]
    },
    {
      "cell_type": "code",
      "source": [
        "# 리스트에 요소 삽입하기 ->   .insert(인덱스, 값)\n",
        "\n",
        "a = [1, 2, 3]\n",
        "a.insert(0, 4)  # 0번 인덱스에 4를 추가하고 기존 인덱스가 밀린다.\n",
        "a"
      ],
      "metadata": {
        "colab": {
          "base_uri": "https://localhost:8080/"
        },
        "id": "L3oxz9rCySMB",
        "outputId": "a6a24834-ebb0-4466-d7b4-c8927fea0b95"
      },
      "execution_count": 43,
      "outputs": [
        {
          "output_type": "execute_result",
          "data": {
            "text/plain": [
              "[4, 1, 2, 3]"
            ]
          },
          "metadata": {},
          "execution_count": 43
        }
      ]
    },
    {
      "cell_type": "code",
      "source": [
        "a.insert(3, 5) # 3번 인덱스에 5를 추가하고 기존 인덱스는 밀린다.\n",
        "a"
      ],
      "metadata": {
        "colab": {
          "base_uri": "https://localhost:8080/"
        },
        "id": "KkdWCFszzTRp",
        "outputId": "3a8fc998-eb33-4e29-b237-ea9a20b720cf"
      },
      "execution_count": 44,
      "outputs": [
        {
          "output_type": "execute_result",
          "data": {
            "text/plain": [
              "[4, 1, 2, 5, 3]"
            ]
          },
          "metadata": {},
          "execution_count": 44
        }
      ]
    },
    {
      "cell_type": "code",
      "source": [
        "a.remove(3) # .remove(값)는 값이 제거 된다.\n",
        "a"
      ],
      "metadata": {
        "colab": {
          "base_uri": "https://localhost:8080/"
        },
        "id": "-yZ8EP4lze98",
        "outputId": "dea975ba-994b-4248-ad51-de10e601ada7"
      },
      "execution_count": 45,
      "outputs": [
        {
          "output_type": "execute_result",
          "data": {
            "text/plain": [
              "[4, 1, 2, 5]"
            ]
          },
          "metadata": {},
          "execution_count": 45
        }
      ]
    },
    {
      "cell_type": "code",
      "source": [
        "b = [3,1,3,1,3,1,3,1]\n",
        "b.remove(3)\n",
        "b\n",
        "\n",
        "# 중복된 값이 있을 경우 .remove() 할 경우 앞에 있는 요소만 제거된다."
      ],
      "metadata": {
        "colab": {
          "base_uri": "https://localhost:8080/"
        },
        "id": "SDqawkA-z8gY",
        "outputId": "a96ef84c-727b-4c0f-8f24-e7464fe3517f"
      },
      "execution_count": 46,
      "outputs": [
        {
          "output_type": "execute_result",
          "data": {
            "text/plain": [
              "[1, 3, 1, 3, 1, 3, 1]"
            ]
          },
          "metadata": {},
          "execution_count": 46
        }
      ]
    },
    {
      "cell_type": "code",
      "source": [
        "b.remove(3)\n",
        "b"
      ],
      "metadata": {
        "colab": {
          "base_uri": "https://localhost:8080/"
        },
        "id": "CgevXlSc0Qvd",
        "outputId": "e2387ece-9567-48f8-83cf-3c4c818e5e64"
      },
      "execution_count": 47,
      "outputs": [
        {
          "output_type": "execute_result",
          "data": {
            "text/plain": [
              "[1, 1, 3, 1, 3, 1]"
            ]
          },
          "metadata": {},
          "execution_count": 47
        }
      ]
    },
    {
      "cell_type": "code",
      "source": [
        "# 리스트 요소를 끄집어 내기 -> .pop(인덱스)\n",
        "\n",
        "c = [1,2,3,4,5,6]\n",
        "c.pop()\n",
        "\n",
        "# .pop() -> 맨 끝을 알려준다"
      ],
      "metadata": {
        "colab": {
          "base_uri": "https://localhost:8080/"
        },
        "id": "uWMQrWbS0ZB8",
        "outputId": "06442e0f-5f45-4c59-ec51-3cfb904a1a44"
      },
      "execution_count": 48,
      "outputs": [
        {
          "output_type": "execute_result",
          "data": {
            "text/plain": [
              "6"
            ]
          },
          "metadata": {},
          "execution_count": 48
        }
      ]
    },
    {
      "cell_type": "code",
      "source": [
        "c\n",
        "\n",
        "# 다시 c 를 불러오면 6이 끄집어내는 결과를 알 수 있다."
      ],
      "metadata": {
        "colab": {
          "base_uri": "https://localhost:8080/"
        },
        "id": "pZ-oUj4D07b6",
        "outputId": "685ac5a8-5737-4a7a-a232-583f4c283bae"
      },
      "execution_count": 50,
      "outputs": [
        {
          "output_type": "execute_result",
          "data": {
            "text/plain": [
              "[1, 2, 3, 4, 5]"
            ]
          },
          "metadata": {},
          "execution_count": 50
        }
      ]
    },
    {
      "cell_type": "code",
      "source": [
        "c.pop(3)"
      ],
      "metadata": {
        "colab": {
          "base_uri": "https://localhost:8080/"
        },
        "id": "n0oBNyeO1E5Q",
        "outputId": "10ef57e7-338a-4e75-bdfc-08e6f1bb51da"
      },
      "execution_count": 51,
      "outputs": [
        {
          "output_type": "execute_result",
          "data": {
            "text/plain": [
              "4"
            ]
          },
          "metadata": {},
          "execution_count": 51
        }
      ]
    },
    {
      "cell_type": "code",
      "source": [
        "c"
      ],
      "metadata": {
        "colab": {
          "base_uri": "https://localhost:8080/"
        },
        "id": "IbNH8a5F1KXR",
        "outputId": "a12a3c71-e54c-4dce-99ca-62f62589b976"
      },
      "execution_count": 52,
      "outputs": [
        {
          "output_type": "execute_result",
          "data": {
            "text/plain": [
              "[1, 2, 3, 5]"
            ]
          },
          "metadata": {},
          "execution_count": 52
        }
      ]
    },
    {
      "cell_type": "code",
      "source": [
        "d = [3,1,3,1,3,1,3,1,3,1]\n",
        "\n",
        "d.count(3)\n",
        "\n",
        "# .count() -> 값이 몇 개인지 알려준다."
      ],
      "metadata": {
        "colab": {
          "base_uri": "https://localhost:8080/"
        },
        "id": "uvMwosTe1ZRp",
        "outputId": "86eb9fa1-a6c4-4af0-9390-13ec7ef8c207"
      },
      "execution_count": 55,
      "outputs": [
        {
          "output_type": "execute_result",
          "data": {
            "text/plain": [
              "5"
            ]
          },
          "metadata": {},
          "execution_count": 55
        }
      ]
    },
    {
      "cell_type": "code",
      "source": [
        "len(d)\n",
        "\n",
        "# len() -> 길이 알려준다."
      ],
      "metadata": {
        "colab": {
          "base_uri": "https://localhost:8080/"
        },
        "id": "5TVFpQ4N18UJ",
        "outputId": "33b5b486-df18-408f-bf87-a9ee8ea76344"
      },
      "execution_count": 56,
      "outputs": [
        {
          "output_type": "execute_result",
          "data": {
            "text/plain": [
              "10"
            ]
          },
          "metadata": {},
          "execution_count": 56
        }
      ]
    },
    {
      "cell_type": "code",
      "source": [
        "# 리스트 확장 : extend(x) x는 리스트만 올 수 있으며 a[] + x[]\n",
        "\n",
        "e = [1, 2, 3]\n",
        "e.extend([4,5]) # 리스트 추가\n",
        "e\n"
      ],
      "metadata": {
        "colab": {
          "base_uri": "https://localhost:8080/"
        },
        "id": "3gRr4zq-2J2w",
        "outputId": "0fa65a91-fd37-43ce-ea62-55c56541522e"
      },
      "execution_count": 58,
      "outputs": [
        {
          "output_type": "execute_result",
          "data": {
            "text/plain": [
              "[1, 2, 3, 4, 5]"
            ]
          },
          "metadata": {},
          "execution_count": 58
        }
      ]
    },
    {
      "cell_type": "code",
      "source": [
        "f = [6, 7, 8]\n",
        "e.extend(f)\n",
        "e"
      ],
      "metadata": {
        "colab": {
          "base_uri": "https://localhost:8080/"
        },
        "id": "GRhA1bG52gyh",
        "outputId": "de245fbf-8de9-401f-efe7-57961822bcd1"
      },
      "execution_count": 59,
      "outputs": [
        {
          "output_type": "execute_result",
          "data": {
            "text/plain": [
              "[1, 2, 3, 4, 5, 6, 7, 8]"
            ]
          },
          "metadata": {},
          "execution_count": 59
        }
      ]
    },
    {
      "cell_type": "markdown",
      "source": [
        "👒 복습"
      ],
      "metadata": {
        "id": "_2V78SWH-fjC"
      }
    },
    {
      "cell_type": "code",
      "source": [
        "# 리스트의 생김새\n",
        "\n",
        "a = []\n",
        "d = [1, 2, \"sh\", \"tt\"]\n",
        "e = [1, 2, [\"list\", \"is\"]]\n",
        "\n",
        "# a는 비어있는 리스트 이며 a = list() 이렇게도 생성이 가능\n",
        "# 숫자와 문자열을 혼합하는 리스트도 가능하다."
      ],
      "metadata": {
        "id": "2boIxxSU-o3O"
      },
      "execution_count": null,
      "outputs": []
    },
    {
      "cell_type": "code",
      "source": [
        "# 리스트 인덱싱\n",
        "\n",
        "a = [1, 2, 3]\n",
        "\n",
        "a\n",
        "\n",
        "# 리스트의 인덱싱은 0번부터 시작한다는 점 유의하자.\n",
        "\n",
        "a[1] + a[2]\n",
        "# 1번 인덱스 = 2 + 2번 인덱스 = 3  = 5가 나오는걸 알 수 있다."
      ],
      "metadata": {
        "colab": {
          "base_uri": "https://localhost:8080/"
        },
        "id": "b3UbcI_1_kmy",
        "outputId": "3446e51c-c5ca-4648-92d1-0b3ddb64754b"
      },
      "execution_count": 61,
      "outputs": [
        {
          "output_type": "execute_result",
          "data": {
            "text/plain": [
              "5"
            ]
          },
          "metadata": {},
          "execution_count": 61
        }
      ]
    },
    {
      "cell_type": "code",
      "source": [
        "a = [1, 3, 5, [\"t\", \"r\", \"z\"]]\n",
        "#   0   1   2         3\n",
        "\n",
        "#이런 인덱스로 이루어져 있는데 여기서 -1을 붙이면?\n",
        "a[-1]\n",
        "\n",
        "# 마지막 인덱스인 t, r, z (3)이 출력이 된다."
      ],
      "metadata": {
        "colab": {
          "base_uri": "https://localhost:8080/"
        },
        "id": "kygantB9ADY4",
        "outputId": "70352532-16e7-4f9d-db92-25207797386c"
      },
      "execution_count": 62,
      "outputs": [
        {
          "output_type": "execute_result",
          "data": {
            "text/plain": [
              "['t', 'r', 'z']"
            ]
          },
          "metadata": {},
          "execution_count": 62
        }
      ]
    },
    {
      "cell_type": "code",
      "source": [
        "a = [1, 3, 5, [\"t\", \"r\", \"z\"]]\n",
        "\n",
        "# 여기서에서 a[-1][2] 입력하면?\n",
        "\n",
        "a[-1][2]\n",
        "\n",
        "# -1은 끝 인덱스 지칭하고, 2는 끝 인덱스에서 2번 인덱스를 뜻한다. 그래서 z가 출력이 된다."
      ],
      "metadata": {
        "colab": {
          "base_uri": "https://localhost:8080/",
          "height": 35
        },
        "id": "xvRZ5DkGBBLB",
        "outputId": "bb71fe4b-9173-4f6c-fed4-bc2284efe620"
      },
      "execution_count": 63,
      "outputs": [
        {
          "output_type": "execute_result",
          "data": {
            "text/plain": [
              "'z'"
            ],
            "application/vnd.google.colaboratory.intrinsic+json": {
              "type": "string"
            }
          },
          "metadata": {},
          "execution_count": 63
        }
      ]
    },
    {
      "cell_type": "code",
      "source": [
        "# 리스트 슬라이싱\n",
        "# 리스트에서도 슬라이싱 기법(잘라내기) 적용 할 수 있다.\n",
        "\n",
        "a = [5, 6, 7, 8]\n",
        "a[0:2]\n",
        "\n",
        "# 0:2 는 0부터 2번 인덱스까지 자른다는 건데 2번인덱스(나 빼고) 빼고 5, 6이 출력이 된다."
      ],
      "metadata": {
        "colab": {
          "base_uri": "https://localhost:8080/"
        },
        "id": "JGDJC08rBbbB",
        "outputId": "b08dd0af-3a82-4bce-944f-46b4c6c28646"
      },
      "execution_count": 65,
      "outputs": [
        {
          "output_type": "execute_result",
          "data": {
            "text/plain": [
              "[5, 6]"
            ]
          },
          "metadata": {},
          "execution_count": 65
        }
      ]
    },
    {
      "cell_type": "code",
      "source": [
        "# 중첩된 리스트에서 슬라이싱 하기\n",
        "\n",
        "a = [1, 2, 4, 6, [\"t\", \"v\", \"c\",\"e\"], 8, 0]\n",
        "#   0   1  2  3       4               5   6\n",
        "#                4(0    1     2   3)\n",
        "\n",
        "a[2:5]\n",
        "\n",
        "# 2번 인덱스에서 5번까지 슬라이싱 -> 2번 인덱스 4 부터 중첩리스트(4인덱스) 포함한 5번까지 값이 출력된다.\n",
        "\n",
        "a[4:6]\n",
        "\n",
        "# 4번 인덱스인 중첩 리스트 + 6번인덱스인데 나빼고 -> 8 이 출력이 된다."
      ],
      "metadata": {
        "colab": {
          "base_uri": "https://localhost:8080/"
        },
        "id": "jkthVCYaCOgT",
        "outputId": "84d9ad0b-36a5-4f7a-8b61-e26416daa850"
      },
      "execution_count": 69,
      "outputs": [
        {
          "output_type": "execute_result",
          "data": {
            "text/plain": [
              "[['t', 'v', 'c', 'e'], 8]"
            ]
          },
          "metadata": {},
          "execution_count": 69
        }
      ]
    },
    {
      "cell_type": "code",
      "source": [
        "# 리스트 더하기, 반복하기(*)\n",
        "# 이 부분은 문자열과 같은 처리 이며 단순히 더하기면 뒤에 붙여주는 거고, 곱하기(*) 이면 지정한 수 반복으로 출력이 된다."
      ],
      "metadata": {
        "id": "C23Sv9-lDfTh"
      },
      "execution_count": null,
      "outputs": []
    },
    {
      "cell_type": "code",
      "source": [
        "# 리스트 길이를 구할 때는 len() 함수를 사용한다.\n",
        "\n",
        "a = [1,2,3,4,5,6,7,23,45,663,54445]\n",
        "\n",
        "len(a)"
      ],
      "metadata": {
        "colab": {
          "base_uri": "https://localhost:8080/"
        },
        "id": "McSgjip5Dvqq",
        "outputId": "d5d1f9f9-337f-4e9c-e4dc-3112ba2c9589"
      },
      "execution_count": 74,
      "outputs": [
        {
          "output_type": "execute_result",
          "data": {
            "text/plain": [
              "11"
            ]
          },
          "metadata": {},
          "execution_count": 74
        }
      ]
    },
    {
      "cell_type": "code",
      "source": [
        "# 리스트 연산 오류\n",
        "\n",
        "a = [4, 5, 7]\n",
        "a[1] + \"zz\""
      ],
      "metadata": {
        "colab": {
          "base_uri": "https://localhost:8080/",
          "height": 184
        },
        "id": "6ta22VTEEahK",
        "outputId": "1492f356-d2ed-4279-bdd7-227cd7872ce0"
      },
      "execution_count": 75,
      "outputs": [
        {
          "output_type": "error",
          "ename": "TypeError",
          "evalue": "unsupported operand type(s) for +: 'int' and 'str'",
          "traceback": [
            "\u001b[0;31m---------------------------------------------------------------------------\u001b[0m",
            "\u001b[0;31mTypeError\u001b[0m                                 Traceback (most recent call last)",
            "\u001b[0;32m<ipython-input-75-77ba6ae51276>\u001b[0m in \u001b[0;36m<cell line: 4>\u001b[0;34m()\u001b[0m\n\u001b[1;32m      2\u001b[0m \u001b[0;34m\u001b[0m\u001b[0m\n\u001b[1;32m      3\u001b[0m \u001b[0ma\u001b[0m \u001b[0;34m=\u001b[0m \u001b[0;34m[\u001b[0m\u001b[0;36m4\u001b[0m\u001b[0;34m,\u001b[0m \u001b[0;36m5\u001b[0m\u001b[0;34m,\u001b[0m \u001b[0;36m7\u001b[0m\u001b[0;34m]\u001b[0m\u001b[0;34m\u001b[0m\u001b[0;34m\u001b[0m\u001b[0m\n\u001b[0;32m----> 4\u001b[0;31m \u001b[0ma\u001b[0m\u001b[0;34m[\u001b[0m\u001b[0;36m1\u001b[0m\u001b[0;34m]\u001b[0m \u001b[0;34m+\u001b[0m \u001b[0;34m\"zz\"\u001b[0m\u001b[0;34m\u001b[0m\u001b[0;34m\u001b[0m\u001b[0m\n\u001b[0m",
            "\u001b[0;31mTypeError\u001b[0m: unsupported operand type(s) for +: 'int' and 'str'"
          ]
        }
      ]
    },
    {
      "cell_type": "code",
      "source": [
        "# 위의 오류에서 배열의 값(정수)와 문자열은 더할수가 없기 때문에 오류가 나온다.\n",
        "# 더하려고 하면 숫자를 문자로 변환해야 한다.\n",
        "\n",
        "str(a[2]) + \"zz\"\n",
        "\n",
        "# a[2]인 숫자 값을 str() 함수로 이용하여 문자로 변환해주고, 문자인 zz를 합할 수 있기 때문에 7zz 이 나온다.\n",
        "# str은 정수, 실수를 문자열로 바꿔주는 파이썬의 내장 함수"
      ],
      "metadata": {
        "colab": {
          "base_uri": "https://localhost:8080/",
          "height": 35
        },
        "id": "CjUm4ZJHEllf",
        "outputId": "7232b0b9-6381-42f1-af8a-412ff99358eb"
      },
      "execution_count": 76,
      "outputs": [
        {
          "output_type": "execute_result",
          "data": {
            "text/plain": [
              "'7zz'"
            ],
            "application/vnd.google.colaboratory.intrinsic+json": {
              "type": "string"
            }
          },
          "metadata": {},
          "execution_count": 76
        }
      ]
    },
    {
      "cell_type": "code",
      "source": [
        "# 리스트의 수정과 삭제\n",
        "\n",
        "b = [3, 5, 7, 4, 223, 444]\n",
        "b[5] = 777\n",
        "b\n",
        "\n",
        "# 배열에 있는 인덱스의 값을 단순히 수정할 값을 지정하여 수정할 뿐이다."
      ],
      "metadata": {
        "colab": {
          "base_uri": "https://localhost:8080/"
        },
        "id": "MCKuCZsaFQb4",
        "outputId": "fbd687db-fb1c-45b0-b1f0-db365dea7b00"
      },
      "execution_count": 77,
      "outputs": [
        {
          "output_type": "execute_result",
          "data": {
            "text/plain": [
              "[3, 5, 7, 4, 223, 777]"
            ]
          },
          "metadata": {},
          "execution_count": 77
        }
      ]
    },
    {
      "cell_type": "code",
      "source": [
        "# 삭제를 할 때는 del 이라는 함수를 이용해서 리스트 요소를 삭제 할 수 가 있다.\n",
        "b = [3, 5, 7, 4, 223, 444]\n",
        "\n",
        "del b[5]\n",
        "b\n",
        "\n",
        "# del 함수로 이용해서 원래 있던 b배열의 444를 삭제할수가있다.\n",
        "# 즉, del a[x]는 x번째 요솟값을 삭제한다."
      ],
      "metadata": {
        "colab": {
          "base_uri": "https://localhost:8080/"
        },
        "id": "PppXRsj4Fnbg",
        "outputId": "d3ded848-2c97-4221-a52c-cbc2df30b946"
      },
      "execution_count": 80,
      "outputs": [
        {
          "output_type": "execute_result",
          "data": {
            "text/plain": [
              "[3, 5, 7, 4, 223]"
            ]
          },
          "metadata": {},
          "execution_count": 80
        }
      ]
    },
    {
      "cell_type": "code",
      "source": [
        "# 슬라이싱 기법 사용해서 리스트 요소 여러 개 한꺼번에 삭제\n",
        "b = [3, 5, 7, 4, 223, 444]\n",
        "\n",
        "del b[4:]\n",
        "b\n",
        "\n",
        "# del b[4:] 이용하여 b 배열의 4번째 인덱스 부터인 값 요소를 한꺼번에 삭제할 수 있다."
      ],
      "metadata": {
        "colab": {
          "base_uri": "https://localhost:8080/"
        },
        "id": "1_OJou5rGLJB",
        "outputId": "23756250-0076-4174-d197-dd9bcfa07017"
      },
      "execution_count": 81,
      "outputs": [
        {
          "output_type": "execute_result",
          "data": {
            "text/plain": [
              "[3, 5, 7, 4]"
            ]
          },
          "metadata": {},
          "execution_count": 81
        }
      ]
    },
    {
      "cell_type": "markdown",
      "source": [
        "\n",
        "\n",
        "\n",
        "> 리스트 관련 함수\n",
        "\n",
        "1.   append\n",
        "2.   sort\n",
        "3. reverse\n",
        "4.index\n",
        "5.insert\n",
        "6.remove\n",
        "7.pop\n",
        "8.count\n",
        "9.extend\n",
        "\n",
        "\n",
        "\n",
        "\n"
      ],
      "metadata": {
        "id": "2SbEJOA9HGhB"
      }
    },
    {
      "cell_type": "code",
      "source": [
        "# append -> 의미는 덧붙이다, 첨부하다 즉, 요소를 새로 추가한다.\n",
        "\n",
        "a = [33, 55]\n",
        "a.append(777)\n",
        "a\n",
        "\n",
        "# .append를 이용해서 777를 추가"
      ],
      "metadata": {
        "colab": {
          "base_uri": "https://localhost:8080/"
        },
        "id": "74vDNKhmHvMh",
        "outputId": "5f903f0a-fcf9-4a40-ba66-ff995b596cb5"
      },
      "execution_count": 82,
      "outputs": [
        {
          "output_type": "execute_result",
          "data": {
            "text/plain": [
              "[33, 55, 777]"
            ]
          },
          "metadata": {},
          "execution_count": 82
        }
      ]
    },
    {
      "cell_type": "code",
      "source": [
        "# sort -> 리스트의 요소를 순서대로 정렬해준다.\n",
        "# 숫자, 문자를 순서대로 정렬해준다.\n",
        "\n",
        "# reverse -> 리스트의 요소를 반대로 정렬해준다.\n",
        "\n",
        "#단, 리스트의 요소들 중 타입이 안맞는 경우(숫자, 숫자, 문자) 가 있을 경우 정렬이 안된다는 점 유의하자."
      ],
      "metadata": {
        "id": "ZpRpQQaaIMFy"
      },
      "execution_count": null,
      "outputs": []
    },
    {
      "cell_type": "code",
      "source": [
        "# index(값) -> 리스트에 값이 있으면 값의 인덱스 값이 나온다.\n",
        "\n",
        "a = [23, 34,35,323,3434,342342,3422]\n",
        "a.index(342342)\n",
        "\n",
        "# a배열에서 342342 값은 인덱스 몇번 값인지 나온다. 그래서 342342은 5번 인덱스에 있다고 결과를 내줌.\n"
      ],
      "metadata": {
        "colab": {
          "base_uri": "https://localhost:8080/"
        },
        "id": "k4KW5dYVIrL4",
        "outputId": "cf46303b-4547-46b7-aaad-5c18179a8bf1"
      },
      "execution_count": 91,
      "outputs": [
        {
          "output_type": "execute_result",
          "data": {
            "text/plain": [
              "5"
            ]
          },
          "metadata": {},
          "execution_count": 91
        }
      ]
    },
    {
      "cell_type": "code",
      "source": [
        "# insert(인덱스, 값) -> 리스트의 인덱스 위치에다가 값을 삽입하는 함수이며, 파이썬은 숫자를 0부터 세고 있다는걸 기억하자.\n",
        "a = [1,4,6]\n",
        "a.insert(1, 8)\n",
        "a\n",
        "\n",
        "# 1번 인덱스 자리에다가 8 값을 넣으라는 이야기가 되고 원래 있던 값은 뒤로 밀려난다."
      ],
      "metadata": {
        "colab": {
          "base_uri": "https://localhost:8080/"
        },
        "id": "xusNjaVwUm8x",
        "outputId": "37118b6f-46d1-4dbc-a73d-aac63c015562"
      },
      "execution_count": 1,
      "outputs": [
        {
          "output_type": "execute_result",
          "data": {
            "text/plain": [
              "[1, 8, 4, 6]"
            ]
          },
          "metadata": {},
          "execution_count": 1
        }
      ]
    },
    {
      "cell_type": "code",
      "source": [
        "# remove(값) -> 리스트 요소를 삭제하는 함수.\n",
        "\n",
        "a = [1, 2, 3, 1, 2, 3]\n",
        "a.remove(3)\n",
        "a\n",
        "\n",
        "# 해당된 값이 사라지지만, 값이 중복이 될 경우 앞에 있는 값이 먼저 제거가 되는걸 알 수 있다."
      ],
      "metadata": {
        "colab": {
          "base_uri": "https://localhost:8080/"
        },
        "id": "FaPGi-iretuT",
        "outputId": "01703ca3-1f81-46f7-a7bd-93c66b884ba6"
      },
      "execution_count": 2,
      "outputs": [
        {
          "output_type": "execute_result",
          "data": {
            "text/plain": [
              "[1, 2, 1, 2, 3]"
            ]
          },
          "metadata": {},
          "execution_count": 2
        }
      ]
    },
    {
      "cell_type": "code",
      "source": [
        "# pop -> 리스트 요소 끄집어 내기\n",
        "# pop() 은 리스트의 맨 마지막 요소를 끄집어 내며 삭제 한다.\n",
        "\n",
        "a = [1, 2, 3]\n",
        "a.pop()"
      ],
      "metadata": {
        "colab": {
          "base_uri": "https://localhost:8080/"
        },
        "id": "qmyUz-s-e_YS",
        "outputId": "40bd6712-46c2-4521-dd5c-b32d97f0d3d6"
      },
      "execution_count": 4,
      "outputs": [
        {
          "output_type": "execute_result",
          "data": {
            "text/plain": [
              "3"
            ]
          },
          "metadata": {},
          "execution_count": 4
        }
      ]
    },
    {
      "cell_type": "code",
      "source": [
        "# pop(값) -> 리스트의 인덱스 요소를 끄집어 내며 삭제\n",
        "\n",
        "a = [1, 2, 3]\n",
        "a.pop(1)\n",
        "\n",
        "a\n",
        "\n",
        "# 1번째의 인덱스(2)를 가져오고 삭제하며, 다시 실행해보면 2가 사라진 배열이 나온다."
      ],
      "metadata": {
        "colab": {
          "base_uri": "https://localhost:8080/"
        },
        "id": "8qTDriZhfkhn",
        "outputId": "2865f26f-ffbc-47ff-9011-a7f46e8c2459"
      },
      "execution_count": 7,
      "outputs": [
        {
          "output_type": "execute_result",
          "data": {
            "text/plain": [
              "[1, 3]"
            ]
          },
          "metadata": {},
          "execution_count": 7
        }
      ]
    },
    {
      "cell_type": "code",
      "source": [
        "# count -> 리스트에 포함된 요소의 개수 세기\n",
        "\n",
        "a = [1, 2, 3, 5]\n",
        "a.count(3)\n",
        "\n",
        "# 리스트 안에 값이 몇 개가 있는지 조사해서 개수를 알려주는 함수"
      ],
      "metadata": {
        "colab": {
          "base_uri": "https://localhost:8080/"
        },
        "id": "hfQUUy1_gAgn",
        "outputId": "d54199b0-cd86-45f9-b8f0-e8007b64a34c"
      },
      "execution_count": 10,
      "outputs": [
        {
          "output_type": "execute_result",
          "data": {
            "text/plain": [
              "1"
            ]
          },
          "metadata": {},
          "execution_count": 10
        }
      ]
    },
    {
      "cell_type": "code",
      "source": [
        "# extend -> 원래의 a 리스트에 값을 더하게 된다.\n",
        "\n",
        "a = [1, 2, 4]\n",
        "a.extend([7,8])\n",
        "a\n",
        "\n",
        "[1,5,7,8,9]\n",
        "b = [9, 7]\n",
        "a.append(b)\n",
        "a\n"
      ],
      "metadata": {
        "colab": {
          "base_uri": "https://localhost:8080/"
        },
        "id": "Gz2ULcScge4Y",
        "outputId": "101f1cac-e0bf-4870-ce92-66030be1079b"
      },
      "execution_count": 12,
      "outputs": [
        {
          "output_type": "execute_result",
          "data": {
            "text/plain": [
              "[1, 2, 4, 7, 8, [9, 7]]"
            ]
          },
          "metadata": {},
          "execution_count": 12
        }
      ]
    }
  ]
}