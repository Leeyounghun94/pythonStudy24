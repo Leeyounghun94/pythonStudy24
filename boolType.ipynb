{
  "nbformat": 4,
  "nbformat_minor": 0,
  "metadata": {
    "colab": {
      "provenance": [],
      "authorship_tag": "ABX9TyPJP0zQBQe4zPBcSlcBdBwm",
      "include_colab_link": true
    },
    "kernelspec": {
      "name": "python3",
      "display_name": "Python 3"
    },
    "language_info": {
      "name": "python"
    }
  },
  "cells": [
    {
      "cell_type": "markdown",
      "metadata": {
        "id": "view-in-github",
        "colab_type": "text"
      },
      "source": [
        "<a href=\"https://colab.research.google.com/github/Leeyounghun94/pythonStudy24/blob/master/boolType.ipynb\" target=\"_parent\"><img src=\"https://colab.research.google.com/assets/colab-badge.svg\" alt=\"Open In Colab\"/></a>"
      ]
    },
    {
      "cell_type": "markdown",
      "source": [
        "# **불 자료형에 대해서 알아보자!**\n",
        "\n",
        "불(bool) 자료형이란 참과 거짓을 나타내는 자료형이며 2가지 값만을 가질 수 있다\n",
        "TRUE : 참\n",
        "False : 거짓\n",
        "\n",
        "True나 False는 파이썬의 예약어로, true, false와 같이 작성하면 안 되고 첫 문자를 항상 대문자로 작성해야 한다."
      ],
      "metadata": {
        "id": "tD6I5VWn2a3f"
      }
    },
    {
      "cell_type": "code",
      "execution_count": 4,
      "metadata": {
        "colab": {
          "base_uri": "https://localhost:8080/"
        },
        "id": "5pAEP-DO2QHT",
        "outputId": "43a98ea4-6a5a-44c9-8098-62a2202dd35c"
      },
      "outputs": [
        {
          "output_type": "execute_result",
          "data": {
            "text/plain": [
              "bool"
            ]
          },
          "metadata": {},
          "execution_count": 4
        }
      ],
      "source": [
        "# 불 자료형은 어떻게 사용할까?\n",
        "\n",
        "a = True\n",
        "b = False\n",
        "\n",
        "type(a)\n",
        "type(b)\n",
        "\n",
        "# type(x)는 x의 자료형을 확인하는 파이썬의 내장 함수이다"
      ]
    },
    {
      "cell_type": "code",
      "source": [
        "# 불 자료형은 조건문의 리턴값으로 사용되는데\n",
        "\n",
        "1 == 1\n",
        "\n",
        "# 1과 1은 같냐? 라는 조건문인데 이런 조건문은 결과로 true, false에 해당하는 값을 리턴한다. 당연히 1 = 1 true"
      ],
      "metadata": {
        "colab": {
          "base_uri": "https://localhost:8080/"
        },
        "id": "Svxx-uDC3IWI",
        "outputId": "6f523a61-6a3d-4b02-a716-76fea0e0a9f6"
      },
      "execution_count": 5,
      "outputs": [
        {
          "output_type": "execute_result",
          "data": {
            "text/plain": [
              "True"
            ]
          },
          "metadata": {},
          "execution_count": 5
        }
      ]
    },
    {
      "cell_type": "code",
      "source": [
        "# 자료형의 참과 거짓\n",
        "\n",
        "# 자료형에 참과 거짓이 있다? 이상하게 들리지만 참과 거짓은 분명히 있다고 한다. 이는 매우 중요한 특징.\n",
        "\n",
        "# 문자열, 리스트, 튜플, 딕셔너리 등 값이 비어 있으면 (\"\", [], (), {}) 거짓이 되고 비어 있지 않으면 참이 됨\n",
        "# 숫자에서는 0일때 거짓이 되고 None도 거짓으로 표현이 된다. None은 거짓을 뜻한다는 것만 알아두자."
      ],
      "metadata": {
        "id": "tpCngl3a3ZTc"
      },
      "execution_count": null,
      "outputs": []
    },
    {
      "cell_type": "code",
      "source": [
        "a = [1, 2, 3, 4]\n",
        "while a:\n",
        "  print(a.pop())\n",
        "\n",
        "\n",
        "  # 여기서, while 조건문 :\n",
        "  #             수행할_문장\n",
        "\n",
        "  # a가 참일 때 a.pop()를 계속 실행하라는 의미.\n",
        "  # a.pop()는 리스트 a의 마지막 요소를 끄집어 내는 함수인데 리스트 안에 요소가 존재하는 한 마지막 요소를 계속 그집어 낸다.\n",
        "  # 더 이상 낼 것이 없으면 a가 []빈 리스트가 되어 거짓이 된다. 거짓이 되면 while문을 빠져나오게 된다."
      ],
      "metadata": {
        "colab": {
          "base_uri": "https://localhost:8080/"
        },
        "id": "cCqE3skv38fN",
        "outputId": "7593e618-c85f-4964-dca5-e417b2c60818"
      },
      "execution_count": 6,
      "outputs": [
        {
          "output_type": "stream",
          "name": "stdout",
          "text": [
            "4\n",
            "3\n",
            "2\n",
            "1\n"
          ]
        }
      ]
    },
    {
      "cell_type": "code",
      "source": [
        "# 불 연산\n",
        "\n",
        "bool('python')\n",
        "\n",
        "bool('')\n",
        "\n",
        "# 글자가 있으면 참, 비어있으면 거짓으로 산출한다."
      ],
      "metadata": {
        "colab": {
          "base_uri": "https://localhost:8080/"
        },
        "id": "DNv52cPL449c",
        "outputId": "c85fcbd9-8c2d-417c-ec21-8d645a058709"
      },
      "execution_count": 10,
      "outputs": [
        {
          "output_type": "execute_result",
          "data": {
            "text/plain": [
              "False"
            ]
          },
          "metadata": {},
          "execution_count": 10
        }
      ]
    },
    {
      "cell_type": "code",
      "source": [
        "bool([1, 2, 3])\n",
        "\n",
        "bool([])\n",
        "\n",
        "bool(0)\n",
        "\n",
        "bool(3)\n",
        "\n",
        "# 문자와 숫자가 있으면 참, 비어있거나, 숫자 0 있으면 거짓으로 나오는 결과를 볼 수 있다."
      ],
      "metadata": {
        "colab": {
          "base_uri": "https://localhost:8080/"
        },
        "id": "GfnI-pBS5O-b",
        "outputId": "cbfaa675-2bbc-4d98-81b6-8778416f46be"
      },
      "execution_count": 14,
      "outputs": [
        {
          "output_type": "execute_result",
          "data": {
            "text/plain": [
              "True"
            ]
          },
          "metadata": {},
          "execution_count": 14
        }
      ]
    }
  ]
}