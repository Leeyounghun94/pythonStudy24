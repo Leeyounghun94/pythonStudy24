{
  "nbformat": 4,
  "nbformat_minor": 0,
  "metadata": {
    "colab": {
      "provenance": [],
      "authorship_tag": "ABX9TyPj2tkSbIXLWa9zfNdBb5q9",
      "include_colab_link": true
    },
    "kernelspec": {
      "name": "python3",
      "display_name": "Python 3"
    },
    "language_info": {
      "name": "python"
    }
  },
  "cells": [
    {
      "cell_type": "markdown",
      "metadata": {
        "id": "view-in-github",
        "colab_type": "text"
      },
      "source": [
        "<a href=\"https://colab.research.google.com/github/Leeyounghun94/pythonStudy24/blob/master/dictionaryType.ipynb\" target=\"_parent\"><img src=\"https://colab.research.google.com/assets/colab-badge.svg\" alt=\"Open In Colab\"/></a>"
      ]
    },
    {
      "cell_type": "markdown",
      "source": [
        "# **딕셔너리 자료형**\n",
        "\n",
        "-> 파이썬은 대응관계를 나타내는 자료형을 가지고 있는데 이를 딕셔너리라고 하며, \"연관 배열\", \"해시\" 라고도 한다.\n",
        "\n",
        "말 그대로 사전이라는 뜻이며 딕셔너리는 key와 value를 한 쌍으로 가지고 있는 자료형이다.\n",
        "사전에서 apple = 사과 라고 하듯이 apple = key, 사과 = value 가 된다.\n",
        "\n",
        "또한, 리스트나 튜플 처럼 순차적으로 해당 요솟값을 구하지 않고 key를 통해서 value를 얻는다. 이것이 딕셔너리의 가장 큰 특징!\n",
        "즉, apple이라는 단어의 뜻을 찾기 위해 순차적으로 검색하는것이 아닌 apple이 있는 단어있는 곳만 펼쳐 보는 것."
      ],
      "metadata": {
        "id": "oMeCrqg2iH-3"
      }
    },
    {
      "cell_type": "code",
      "execution_count": 2,
      "metadata": {
        "id": "HdE-jdyqhsrA"
      },
      "outputs": [],
      "source": [
        "# 딕셔너리의 기본 모습\n",
        "\n",
        "# {Key1: Value1, Key2:Value2, Key3:Value3 . . . .}\n",
        "\n",
        "# key:value의 쌍 여러개가 {} 둘러 쌓여 있으며 구분은 쉼표로 구분한다."
      ]
    },
    {
      "cell_type": "code",
      "source": [
        "dic = {'name':'pey', 'phone':'010-1234-4444', 'birth':'1010'}\n",
        "\n",
        "  #key\tvalue\n",
        "# name\tpey\n",
        "# phone\t010-9999-1234\n",
        "# birth\t1118"
      ],
      "metadata": {
        "id": "e9-KzO0Ij5-F"
      },
      "execution_count": 3,
      "outputs": []
    },
    {
      "cell_type": "code",
      "source": [
        "a = {1:\"ji\"}\n",
        "\n",
        "a = {'b' : [1,2,3]}"
      ],
      "metadata": {
        "id": "EBaEmGfZkbTi"
      },
      "execution_count": 4,
      "outputs": []
    },
    {
      "cell_type": "code",
      "source": [
        "# 딕셔너리 쌍 추가하기\n",
        "\n",
        "a = {1: 'a'}\n",
        "a[2] = 'b'\n",
        "a\n",
        "\n",
        "# a = {1: 'a'} 딕셔너리에다가 a[2] = 'b'를 추가하면 쌍이 추가 됨."
      ],
      "metadata": {
        "colab": {
          "base_uri": "https://localhost:8080/"
        },
        "id": "ICmJI4DpkkwT",
        "outputId": "2577ebc5-1ea1-42b7-8d56-5ab92b5998d2"
      },
      "execution_count": 5,
      "outputs": [
        {
          "output_type": "execute_result",
          "data": {
            "text/plain": [
              "{1: 'a', 2: 'b'}"
            ]
          },
          "metadata": {},
          "execution_count": 5
        }
      ]
    },
    {
      "cell_type": "code",
      "source": [
        "a['name'] = 'pey'\n",
        "a\n",
        "\n",
        "# 위에서 한 딕셔너리 a를 name:pey를 추가해서 쌍이 추가 됨."
      ],
      "metadata": {
        "colab": {
          "base_uri": "https://localhost:8080/"
        },
        "id": "XFstFLiTlHpU",
        "outputId": "15c04f43-4e9a-4c78-d3e8-e007c1f29460"
      },
      "execution_count": 6,
      "outputs": [
        {
          "output_type": "execute_result",
          "data": {
            "text/plain": [
              "{1: 'a', 2: 'b', 'name': 'pey'}"
            ]
          },
          "metadata": {},
          "execution_count": 6
        }
      ]
    },
    {
      "cell_type": "code",
      "source": [
        "# 딕셔너리 요소 삭제하기\n",
        "\n",
        "del a[1]\n",
        "a\n",
        "\n",
        "# del 함수로 a[key] 입력하면 key에 해당되는 key:value 쌍이 삭제 된다."
      ],
      "metadata": {
        "colab": {
          "base_uri": "https://localhost:8080/"
        },
        "id": "LWaj6ZyclYqy",
        "outputId": "2e456e2d-16c3-4088-f589-56e501bfd38c"
      },
      "execution_count": 7,
      "outputs": [
        {
          "output_type": "execute_result",
          "data": {
            "text/plain": [
              "{2: 'b', 'name': 'pey'}"
            ]
          },
          "metadata": {},
          "execution_count": 7
        }
      ]
    },
    {
      "cell_type": "code",
      "source": [
        "# 딕셔너리의 개념은 알았는데 이걸 어떻게 사용해야 하나?\n",
        "\n",
        "# 예를 들어 5명의 사람이 있는데 각자의 특기를 표현할 수 있는 방법은 뭐가 있을까 ?\n",
        "# 이걸 리스트, 문자열로 표현하기는 매우 까다로울텐데 이것을 딕셔너리로 사용하면 표현하기가 쉬워진다.\n",
        "\n",
        "{\"김연아\": \"피겨스케이팅\", \"류현진\": \"야구\", \"손흥민\": \"축구\", \"귀도\": \"파이썬\"}\n"
      ],
      "metadata": {
        "id": "J1ei8DVUly2Z"
      },
      "execution_count": null,
      "outputs": []
    },
    {
      "cell_type": "code",
      "source": [
        "# 그럼 딕셔너리의 활용하기 위해서는?\n",
        "\n",
        "# 딕셔너리에서 Key를 사용해서 Value 얻기\n",
        "\n",
        "grade = {'pey':10, 'jupiter':11}\n",
        "grade['jupiter']\n",
        "\n",
        "# 요소값을 얻고자 할 때는 리스트나, 튜플, 문자열에서는 인덱싱, 슬라이싱 방법으로 사용했으나 딕셔너리에서는 다르다.\n",
        "# 딕셔너리에서는 key를 사용해서 value 구하는 방법이다.\n",
        "\n",
        "#pey라는 key의 value 얻기 위해서는 '딕셔너리_변수_이름[Key]'를 사용해야 한다."
      ],
      "metadata": {
        "colab": {
          "base_uri": "https://localhost:8080/"
        },
        "id": "8ribcUgVmG4n",
        "outputId": "c55dd5b5-b0db-4439-c7cf-2dc64b00c5b3"
      },
      "execution_count": 10,
      "outputs": [
        {
          "output_type": "execute_result",
          "data": {
            "text/plain": [
              "11"
            ]
          },
          "metadata": {},
          "execution_count": 10
        }
      ]
    },
    {
      "cell_type": "code",
      "source": [
        "a = {1:'a', 2:'b'}\n",
        "a[2]\n",
        "\n",
        "# a[1]은 a를 , a[2]는 b를 나타낸다. 여기서 주의할점이 a[1]이 의미하는 것은 리스트, 튜플과는 전혀 다르다.\n",
        "# 딕셔너리의 []안의 숫자 1은 두번 째 요소를 나타내는 것이 아닌 key에 해당하는 1을 나타낸다.\n",
        "# 즉, a[1]은 딕셔너리  {1: 'a', 2: 'b'}에서 Key가 1인 것의 Value인 'a'를 나타낸다."
      ],
      "metadata": {
        "colab": {
          "base_uri": "https://localhost:8080/",
          "height": 35
        },
        "id": "SnxMhzgXnHBZ",
        "outputId": "04cb3d84-f553-456f-b5d1-d78534c07f1f"
      },
      "execution_count": 12,
      "outputs": [
        {
          "output_type": "execute_result",
          "data": {
            "text/plain": [
              "'b'"
            ],
            "application/vnd.google.colaboratory.intrinsic+json": {
              "type": "string"
            }
          },
          "metadata": {},
          "execution_count": 12
        }
      ]
    },
    {
      "cell_type": "code",
      "source": [
        "a = {'a':1, 'b':2}\n",
        "a['b']\n",
        "\n",
        "# 위에서의 순서가 바뀌어도 key를 사용해서 value를 얻을 수 있다.  a는 a[Key]로 Key에 해당하는 Value를 얻는다."
      ],
      "metadata": {
        "colab": {
          "base_uri": "https://localhost:8080/"
        },
        "id": "GBObbrD0n7GN",
        "outputId": "819e2d55-ff5d-4c3c-aec4-584c163e36d3"
      },
      "execution_count": 14,
      "outputs": [
        {
          "output_type": "execute_result",
          "data": {
            "text/plain": [
              "2"
            ]
          },
          "metadata": {},
          "execution_count": 14
        }
      ]
    },
    {
      "cell_type": "code",
      "source": [
        "dic = {'name':'pey', 'phone':'010-9999-1234', 'birth': '1118'}\n",
        "dic['name']\n",
        "'pey'\n",
        "dic['phone']\n",
        "'010-9999-1234'\n",
        "dic['birth']\n",
        "'1118'\n",
        "\n",
        "# 순서가 뒤바뀌든 상관 없이 앞에 있는 KEY값이 무엇이든 해당 연결되는 Value가 나오는걸 확인할 수가 있다."
      ],
      "metadata": {
        "colab": {
          "base_uri": "https://localhost:8080/",
          "height": 35
        },
        "id": "o6VYyNgLoX_f",
        "outputId": "67ddcea4-f98a-4f6c-c73b-252b40dab2d4"
      },
      "execution_count": 15,
      "outputs": [
        {
          "output_type": "execute_result",
          "data": {
            "text/plain": [
              "'1118'"
            ],
            "application/vnd.google.colaboratory.intrinsic+json": {
              "type": "string"
            }
          },
          "metadata": {},
          "execution_count": 15
        }
      ]
    },
    {
      "cell_type": "code",
      "source": [
        "# 딕셔너리 만들 때 주의 사항\n",
        "\n",
        "# 딕셔너리에서는 key가 고유한 값이기 때문에 중복된 값을 설정해 놓으면 하나를 제외한 나머지가 모두 무시가 된다는 점을 유의하자.\n",
        "\n",
        "a = {1:'a', 1:'c'}\n",
        "a\n",
        "# 이렇게 key가 중복일 때 1개를 제외한 나머지가 무시되는 이유는 key통해서 value를 얻는 딕셔너리의 특징 때문이다.\n",
        "\n",
        "#즉, 딕셔너리에는 동일한 key가 중복으로 존재 할 수 없다."
      ],
      "metadata": {
        "colab": {
          "base_uri": "https://localhost:8080/"
        },
        "id": "GnCz3rOpotLi",
        "outputId": "f16e94ee-2f0e-4369-d760-66281474f3f6"
      },
      "execution_count": 16,
      "outputs": [
        {
          "output_type": "execute_result",
          "data": {
            "text/plain": [
              "{1: 'c'}"
            ]
          },
          "metadata": {},
          "execution_count": 16
        }
      ]
    },
    {
      "cell_type": "code",
      "source": [
        "# 딕셔너리 만들 때 주의 사항 2\n",
        "\n",
        "# key를 리스트에 쓸 수 없다는 점이다. 단, 튜플은 key를 리스트에 쓸 수 있다.\n",
        "\n",
        "# 딕셔너리의 key로 쓸수있냐 없냐는 key가 변하는 값인지 변하지 않는 값인지에 달려 있다.\n",
        "#즉, 변하는 값이면 key로 쓸 수 없다.\n",
        "\n",
        "a = {[1,2] : 'zz'}"
      ],
      "metadata": {
        "colab": {
          "base_uri": "https://localhost:8080/",
          "height": 184
        },
        "id": "BRmWkvPopK-A",
        "outputId": "8575fc9b-671f-4de6-f1c2-a913d10e5247"
      },
      "execution_count": 17,
      "outputs": [
        {
          "output_type": "error",
          "ename": "TypeError",
          "evalue": "unhashable type: 'list'",
          "traceback": [
            "\u001b[0;31m---------------------------------------------------------------------------\u001b[0m",
            "\u001b[0;31mTypeError\u001b[0m                                 Traceback (most recent call last)",
            "\u001b[0;32m<ipython-input-17-ac02d3824585>\u001b[0m in \u001b[0;36m<cell line: 8>\u001b[0;34m()\u001b[0m\n\u001b[1;32m      6\u001b[0m \u001b[0;31m#즉, 변하는 값이면 key로 쓸 수 없다.\u001b[0m\u001b[0;34m\u001b[0m\u001b[0;34m\u001b[0m\u001b[0m\n\u001b[1;32m      7\u001b[0m \u001b[0;34m\u001b[0m\u001b[0m\n\u001b[0;32m----> 8\u001b[0;31m \u001b[0ma\u001b[0m \u001b[0;34m=\u001b[0m \u001b[0;34m{\u001b[0m\u001b[0;34m[\u001b[0m\u001b[0;36m1\u001b[0m\u001b[0;34m,\u001b[0m\u001b[0;36m2\u001b[0m\u001b[0;34m]\u001b[0m \u001b[0;34m:\u001b[0m \u001b[0;34m'zz'\u001b[0m\u001b[0;34m}\u001b[0m\u001b[0;34m\u001b[0m\u001b[0;34m\u001b[0m\u001b[0m\n\u001b[0m",
            "\u001b[0;31mTypeError\u001b[0m: unhashable type: 'list'"
          ]
        }
      ]
    },
    {
      "cell_type": "code",
      "source": [
        "# Key를 리스트에다가 쓸 수 없지만 (변하는 값이기 때문에)\n",
        "# Value에는 변하든 말든 아무 값이나 넣을 수 있다."
      ],
      "metadata": {
        "id": "VLC1J-hOputd"
      },
      "execution_count": 18,
      "outputs": []
    },
    {
      "cell_type": "markdown",
      "source": [
        "\n",
        "\n",
        "> 딕셔너리 관련 함수\n",
        "\n",
        "*   keys\n",
        "*   values\n",
        "* items\n",
        "* clear\n",
        "* get\n",
        "* in\n",
        "\n",
        "\n",
        "\n"
      ],
      "metadata": {
        "id": "EDmBFan7qL2v"
      }
    },
    {
      "cell_type": "code",
      "source": [
        "# key 리스트 만들기 - keys\n",
        "\n",
        "a = {'name': 'pey', 'phone': '010-9999-1234', 'birth': '1118'}\n",
        "a.keys()\n",
        "\n",
        "# 아 이거는 오로지 Key로만 모아서 배열로 만든거구나?"
      ],
      "metadata": {
        "colab": {
          "base_uri": "https://localhost:8080/"
        },
        "id": "1egDcW2oqB9g",
        "outputId": "151d5275-8355-4d48-a8c6-7f4378a7ecec"
      },
      "execution_count": 19,
      "outputs": [
        {
          "output_type": "execute_result",
          "data": {
            "text/plain": [
              "dict_keys(['name', 'phone', 'birth'])"
            ]
          },
          "metadata": {},
          "execution_count": 19
        }
      ]
    },
    {
      "cell_type": "code",
      "source": [
        "for k in a.keys():\n",
        "  print(k)\n",
        "\n",
        "  # print(k) 입력할 때 들여쓰기 하지 않으면 오류가 발생하는데 직접 해보니까 : 입력하니까 빨간색이 띄어졌고\n",
        "  # print 적어 주니 오류가 안났다."
      ],
      "metadata": {
        "colab": {
          "base_uri": "https://localhost:8080/"
        },
        "id": "7Be0Tlq7rI31",
        "outputId": "333bdfac-4115-4feb-8dc7-30f165feddff"
      },
      "execution_count": 20,
      "outputs": [
        {
          "output_type": "stream",
          "name": "stdout",
          "text": [
            "name\n",
            "phone\n",
            "birth\n"
          ]
        }
      ]
    },
    {
      "cell_type": "code",
      "source": [
        "list(a.keys())"
      ],
      "metadata": {
        "colab": {
          "base_uri": "https://localhost:8080/"
        },
        "id": "CZqrzUjFrjND",
        "outputId": "cc727db8-1bf2-4c7c-cd73-2e65e6599534"
      },
      "execution_count": 23,
      "outputs": [
        {
          "output_type": "execute_result",
          "data": {
            "text/plain": [
              "['name', 'phone', 'birth']"
            ]
          },
          "metadata": {},
          "execution_count": 23
        }
      ]
    },
    {
      "cell_type": "code",
      "source": [
        "# Value 리스트 만들기 - values\n",
        "\n",
        "a.values()\n",
        "\n",
        "# key 얻는 것과 마찬가지로 Value만 얻고 싶으면 values 함수를 사용하면 된다."
      ],
      "metadata": {
        "colab": {
          "base_uri": "https://localhost:8080/"
        },
        "id": "KfGxOVrHrz4b",
        "outputId": "0b42d9ec-84f9-40b4-e04f-d38c9ee3ce72"
      },
      "execution_count": 24,
      "outputs": [
        {
          "output_type": "execute_result",
          "data": {
            "text/plain": [
              "dict_values(['pey', '010-9999-1234', '1118'])"
            ]
          },
          "metadata": {},
          "execution_count": 24
        }
      ]
    },
    {
      "cell_type": "code",
      "source": [
        "# Key, Value 쌍 얻기 - items\n",
        "\n",
        "a.items()\n",
        "\n",
        "# items 함수는 key와 value의 쌍을 튜플로 묶은 값을 보여준다."
      ],
      "metadata": {
        "colab": {
          "base_uri": "https://localhost:8080/"
        },
        "id": "L-FHYDZksCeA",
        "outputId": "999f8a0b-d87c-41af-c4da-d1dc37477cea"
      },
      "execution_count": 25,
      "outputs": [
        {
          "output_type": "execute_result",
          "data": {
            "text/plain": [
              "dict_items([('name', 'pey'), ('phone', '010-9999-1234'), ('birth', '1118')])"
            ]
          },
          "metadata": {},
          "execution_count": 25
        }
      ]
    },
    {
      "cell_type": "code",
      "source": [
        "# Key: Value 쌍 모두 지우기 - clear\n",
        "\n",
        "a.clear()\n",
        "a\n",
        "\n",
        "# clear는 딕셔너리 안의 모든 요소를 삭제한다."
      ],
      "metadata": {
        "colab": {
          "base_uri": "https://localhost:8080/"
        },
        "id": "CmZTFfQLsQMo",
        "outputId": "b6cdaf83-0c46-47f7-a6fc-49cd8d65430b"
      },
      "execution_count": 26,
      "outputs": [
        {
          "output_type": "execute_result",
          "data": {
            "text/plain": [
              "{}"
            ]
          },
          "metadata": {},
          "execution_count": 26
        }
      ]
    },
    {
      "cell_type": "code",
      "source": [
        "# Key로 Value 얻기 - get\n",
        "\n",
        "a = {'name': 'pey', 'phone': '010-9999-1234', 'birth': '1118'}\n",
        "a.get('phone')\n",
        "\n",
        "# 아 이거는 get함수에다가 key값을 집어 넣으면 value가 결과로 나오는구나.\n",
        "\n",
        "# get(값) key에 대응 하는 value값이 나온다. 물론 순서 뒤 바뀌어도 나오는건 변함 없음."
      ],
      "metadata": {
        "colab": {
          "base_uri": "https://localhost:8080/",
          "height": 35
        },
        "id": "BcGFhx8ZsaFQ",
        "outputId": "ccbda8e9-f17d-4e06-a7a9-6b79f324b16c"
      },
      "execution_count": 28,
      "outputs": [
        {
          "output_type": "execute_result",
          "data": {
            "text/plain": [
              "'010-9999-1234'"
            ],
            "application/vnd.google.colaboratory.intrinsic+json": {
              "type": "string"
            }
          },
          "metadata": {},
          "execution_count": 28
        }
      ]
    },
    {
      "cell_type": "code",
      "source": [
        "a = {'name':'pey', 'phone':'010-9999-1234', 'birth': '1118'}\n",
        "print(a.get('nokey'))\n",
        "\n",
        "\n",
        "# 다만, 딕셔너리에 존재 하지 않는 키 값을 가져오라고 하면 \"None\"이라고 나오는데 이것은 거짓 이라는 뜻으로만 알자."
      ],
      "metadata": {
        "colab": {
          "base_uri": "https://localhost:8080/"
        },
        "id": "qW9F9uOws7Y2",
        "outputId": "164ce4e3-b3c6-4d90-b196-ab146406b844"
      },
      "execution_count": 33,
      "outputs": [
        {
          "output_type": "stream",
          "name": "stdout",
          "text": [
            "None\n"
          ]
        }
      ]
    },
    {
      "cell_type": "code",
      "source": [
        "# 해당 Key가 딕셔너리 안에 있는지 조사하기 - in\n",
        "\n",
        "a = {'name':'pey', 'phone':'010-9999-1234', 'birth': '1118'}\n",
        "'email' in a\n",
        "\n",
        "# in 이라는 걸 쓰면 해당 key, value에 있는 값들 중에 있는지 조사한다.\n",
        "# 값이 있으면 true, 없으면 false 를 표출한다."
      ],
      "metadata": {
        "colab": {
          "base_uri": "https://localhost:8080/"
        },
        "id": "5kr8mlA_s_4f",
        "outputId": "f2a3e678-4d8c-4a6c-c9c4-70dac2c0e3d5"
      },
      "execution_count": 35,
      "outputs": [
        {
          "output_type": "execute_result",
          "data": {
            "text/plain": [
              "False"
            ]
          },
          "metadata": {},
          "execution_count": 35
        }
      ]
    }
  ]
}