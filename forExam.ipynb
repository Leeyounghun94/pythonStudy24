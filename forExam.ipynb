{
  "nbformat": 4,
  "nbformat_minor": 0,
  "metadata": {
    "colab": {
      "provenance": [],
      "authorship_tag": "ABX9TyOLTmuEYHptymtDPwkRf9l5",
      "include_colab_link": true
    },
    "kernelspec": {
      "name": "python3",
      "display_name": "Python 3"
    },
    "language_info": {
      "name": "python"
    }
  },
  "cells": [
    {
      "cell_type": "markdown",
      "metadata": {
        "id": "view-in-github",
        "colab_type": "text"
      },
      "source": [
        "<a href=\"https://colab.research.google.com/github/Leeyounghun94/pythonStudy24/blob/master/forExam.ipynb\" target=\"_parent\"><img src=\"https://colab.research.google.com/assets/colab-badge.svg\" alt=\"Open In Colab\"/></a>"
      ]
    },
    {
      "cell_type": "markdown",
      "source": [
        "# **for문 연습을 해보자.**\n",
        "\n",
        "for문은 while문과 같은 반복문으로 차이점은 Max가 있냐 없냐 이다.\n",
        "\n",
        "for문은 구구단과 같이 9라는 Max 값이 있을 때 사용하고, while문은 Max가 없지만 종료되는 시점을 만들어 제공한다.(강제 종료 할 때 Ctrl + c)\n",
        "\n",
        ">\n",
        "    for 변수 in ( 리스트, 튜플, 문자열 ) :\n",
        "\n",
        "    실행문1\n",
        "    실행문2\n",
        "\n",
        "    -> Java의 향상 for문(forEach문 과 같다.)\n",
        "\n",
        "\n",
        "\n"
      ],
      "metadata": {
        "id": "sgncUYvABxKa"
      }
    },
    {
      "cell_type": "code",
      "execution_count": 1,
      "metadata": {
        "colab": {
          "base_uri": "https://localhost:8080/"
        },
        "id": "JcQWZ2xDBpTF",
        "outputId": "8a4da4b5-e81a-4545-e4bf-247ad7c9364d"
      },
      "outputs": [
        {
          "output_type": "stream",
          "name": "stdout",
          "text": [
            "one\n",
            "two\n",
            "three\n"
          ]
        }
      ],
      "source": [
        "# 전형적인 for문\n",
        "\n",
        "test_list = ['one', 'two', 'three']\n",
        "for i in test_list:\n",
        "  print(i)"
      ]
    },
    {
      "cell_type": "code",
      "source": [
        "# 다양한 for문 사용하기\n",
        "\n",
        "a = [(1,2), (3,4), (5,6)]\n",
        "for (first, last) in a:\n",
        "  print(first + last)"
      ],
      "metadata": {
        "colab": {
          "base_uri": "https://localhost:8080/"
        },
        "id": "EDhSfjjaErc1",
        "outputId": "25431d9d-6c13-4300-aafd-05648eb3e791"
      },
      "execution_count": 2,
      "outputs": [
        {
          "output_type": "stream",
          "name": "stdout",
          "text": [
            "3\n",
            "7\n",
            "11\n"
          ]
        }
      ]
    },
    {
      "cell_type": "code",
      "source": [
        "# 총 다섯명의 학생이 시험을 봤는데 시험 점수가 60점 이상이면 합격 그렇지 않으면 불합격이다.\n",
        "\n",
        "# 배열에다가 s를 붙이고 요소들은 s 빼자.\n",
        "\n",
        "marks = [90,26,67,43,80]    # 학생 별 시험 점수 -> 5명\n",
        "number = 0  # 학생 출력 시 번호 지정\n",
        "\n",
        "for mark in marks:  # marks라는 배열 안에 mark 가 있는지? -> 리스트(marks)에 있는 객체를 앞에서부터 1개씩 가져와서 mark 변수에 넣는다.\n",
        "  number = number + 1\n",
        "  if mark >= 60:\n",
        "    print(\"%d번 학생은 합격입니다.\" % number)\n",
        "  else :\n",
        "    print(\"%d번 학생은 불합격입니다.\" % number)"
      ],
      "metadata": {
        "colab": {
          "base_uri": "https://localhost:8080/"
        },
        "id": "LPLznw2SFL1q",
        "outputId": "7ea78820-236b-4062-fe78-4ddb58e4000a"
      },
      "execution_count": 5,
      "outputs": [
        {
          "output_type": "stream",
          "name": "stdout",
          "text": [
            "1번 학생은 합격입니다.\n",
            "2번 학생은 불합격입니다.\n",
            "3번 학생은 합격입니다.\n",
            "4번 학생은 불합격입니다.\n",
            "5번 학생은 합격입니다.\n"
          ]
        }
      ]
    },
    {
      "cell_type": "code",
      "source": [
        "# for + continue\n",
        "\n",
        "marks = [90, 25, 67, 45, 80]    # 학생들의 점수 리스트\n",
        "number = 0                      # 학생 번호\n",
        "for mark in marks:              # 리스트 반복문\n",
        "  number = number + 1           # 학생 번호 증가\n",
        "  if mark < 60:                 # 점수가 60 보다 작으면\n",
        "      continue                  # 점수가 60보다 작을 때 위로 올라간다. (continue는 위로 올라간다.)\n",
        "  print(\"%d번 학생 축하합니다. 합격입니다.\" % number)   # 60이상일때 처리문"
      ],
      "metadata": {
        "colab": {
          "base_uri": "https://localhost:8080/"
        },
        "id": "Xfal2HHlJXp0",
        "outputId": "ed536030-4971-4eb8-dd37-187838e8d3e3"
      },
      "execution_count": 9,
      "outputs": [
        {
          "output_type": "stream",
          "name": "stdout",
          "text": [
            "1번 학생 축하합니다. 합격입니다.\n",
            "3번 학생 축하합니다. 합격입니다.\n",
            "5번 학생 축하합니다. 합격입니다.\n"
          ]
        }
      ]
    },
    {
      "cell_type": "code",
      "source": [
        "# for문과 같이 자주 쓰이는 range()\n",
        "\n",
        "a = range(10)   # 0부터 10미만 숫자를 포함하는 객체를 만들어준다.\n",
        "a               # 0부터 9까지의 값을 가지고 있음"
      ],
      "metadata": {
        "colab": {
          "base_uri": "https://localhost:8080/"
        },
        "id": "bOU-z9bxKUIA",
        "outputId": "6d51ae0b-8132-4f92-90bc-f7ee01fdd125"
      },
      "execution_count": 12,
      "outputs": [
        {
          "output_type": "execute_result",
          "data": {
            "text/plain": [
              "range(0, 10)"
            ]
          },
          "metadata": {},
          "execution_count": 12
        }
      ]
    },
    {
      "cell_type": "code",
      "source": [
        "a = range(1, 11)    # range(시작값, 끝값 : 끝 숫자는 포함되지 않는다.)\n",
        "a                   # 1 ~ 10까지의 값을 가지고 있음"
      ],
      "metadata": {
        "colab": {
          "base_uri": "https://localhost:8080/"
        },
        "id": "TuRMjFfzK0-1",
        "outputId": "0ddf2938-8873-49dd-fc5e-3d2db14ae080"
      },
      "execution_count": 14,
      "outputs": [
        {
          "output_type": "execute_result",
          "data": {
            "text/plain": [
              "range(1, 11)"
            ]
          },
          "metadata": {},
          "execution_count": 14
        }
      ]
    },
    {
      "cell_type": "code",
      "source": [
        "for i in range(1, 11):\n",
        "    print(i)"
      ],
      "metadata": {
        "colab": {
          "base_uri": "https://localhost:8080/"
        },
        "id": "7VaHElGoLK88",
        "outputId": "7024159e-bd5e-4bdd-93f4-07ba1beab1c3"
      },
      "execution_count": 15,
      "outputs": [
        {
          "output_type": "stream",
          "name": "stdout",
          "text": [
            "1\n",
            "2\n",
            "3\n",
            "4\n",
            "5\n",
            "6\n",
            "7\n",
            "8\n",
            "9\n",
            "10\n"
          ]
        }
      ]
    },
    {
      "cell_type": "code",
      "source": [
        "marks = [90, 25, 67, 45, 80]\n",
        "for number in range(len(marks)):\n",
        "    if marks[number] < 60:\n",
        "        continue\n",
        "    print(\"%d번 학생 축하합니다. 합격입니다.\" % (number+1))"
      ],
      "metadata": {
        "colab": {
          "base_uri": "https://localhost:8080/"
        },
        "id": "0__MCB8YLlHc",
        "outputId": "99b8faa4-c1b7-4e36-ab0a-3fd0773fbbcc"
      },
      "execution_count": 16,
      "outputs": [
        {
          "output_type": "stream",
          "name": "stdout",
          "text": [
            "1번 학생 축하합니다. 합격입니다.\n",
            "3번 학생 축하합니다. 합격입니다.\n",
            "5번 학생 축하합니다. 합격입니다.\n"
          ]
        }
      ]
    },
    {
      "cell_type": "code",
      "source": [
        "# 구구단을 만들어보자. 2 * 1 ~ 9 * 9 = 81\n",
        "# 다중 for문\n",
        "\n",
        "for i in range(2, 10):  # 2단 ~ 9단\n",
        "    for j in range(1, 10):  # 단 마다 곱해지는 값 : 1 ~ 9\n",
        "        print(i * j, end = \" \") # 각 단 마다 곱하고 출력\n",
        "                                # print end 파라미터는 기본 엔터를 하지 않고 \" \"로 출력\n",
        "    print('')                   # 단이 끝나면 엔터 효과 처리    (paython의 print는 기본으로 println이 있기 때문)"
      ],
      "metadata": {
        "colab": {
          "base_uri": "https://localhost:8080/"
        },
        "id": "Px5tVrryMBDO",
        "outputId": "781d64eb-b0f7-4d3a-8104-5cd0883d4933"
      },
      "execution_count": 17,
      "outputs": [
        {
          "output_type": "stream",
          "name": "stdout",
          "text": [
            "2 4 6 8 10 12 14 16 18 \n",
            "3 6 9 12 15 18 21 24 27 \n",
            "4 8 12 16 20 24 28 32 36 \n",
            "5 10 15 20 25 30 35 40 45 \n",
            "6 12 18 24 30 36 42 48 54 \n",
            "7 14 21 28 35 42 49 56 63 \n",
            "8 16 24 32 40 48 56 64 72 \n",
            "9 18 27 36 45 54 63 72 81 \n"
          ]
        }
      ]
    },
    {
      "cell_type": "code",
      "source": [
        "# 리스트 컴프리헨션 -> 결과를 리스트로 저장하는 기법\n",
        "\n",
        "# 리스트 컴프리헨션을 사용하지 않는 방법\n",
        "a = [1,2,3,4]            # 입력 리스트 값\n",
        "result = []             # 출력 리스트 값\n",
        "for num in a:            # 입력 리스트 값을 1개씩 가져와서 num에 넣는다.\n",
        "  result.append(num*3)  # 출력 리스트 값에 3을 곱해서 추가하기(.append)\n",
        "print(result)           # 반복 후에 출력"
      ],
      "metadata": {
        "colab": {
          "base_uri": "https://localhost:8080/"
        },
        "id": "tYbf5xA9NYg_",
        "outputId": "32c93206-9494-42b5-9ad2-99ec9c12bc5e"
      },
      "execution_count": 18,
      "outputs": [
        {
          "output_type": "stream",
          "name": "stdout",
          "text": [
            "[3, 6, 9, 12]\n"
          ]
        }
      ]
    },
    {
      "cell_type": "code",
      "source": [
        "a = [1,2,3,4]\n",
        "result = [num * 3 for num in a] #   변수 = [ 실행문 for 변수 in 배열 ]리스트화\n",
        "print(result)\n",
        "\n",
        "# 패션 코딩"
      ],
      "metadata": {
        "colab": {
          "base_uri": "https://localhost:8080/"
        },
        "id": "zoTGq_MHObrU",
        "outputId": "b1e2fad1-840d-4ec5-b4d3-c4c91f46e739"
      },
      "execution_count": 19,
      "outputs": [
        {
          "output_type": "stream",
          "name": "stdout",
          "text": [
            "[3, 6, 9, 12]\n"
          ]
        }
      ]
    },
    {
      "cell_type": "code",
      "source": [
        "# 짝수만 3을 곱해서 리스트에 담고 싶다면\n",
        "a = [1, 2, 3, 4]\n",
        "result = [num * 3 for num in a if num % 2 == 0]\n",
        "# 결과 배열 = [실행문 for      if   조건]\n",
        "print(result)"
      ],
      "metadata": {
        "colab": {
          "base_uri": "https://localhost:8080/"
        },
        "id": "T4ZijuNMPVOA",
        "outputId": "84915379-5bb6-4d06-da01-4ba43328074d"
      },
      "execution_count": 20,
      "outputs": [
        {
          "output_type": "stream",
          "name": "stdout",
          "text": [
            "[6, 12]\n"
          ]
        }
      ]
    },
    {
      "cell_type": "code",
      "source": [
        "# 미션 - 커피 자판기를 리스트화 해서 for문으로 구현하기.\n",
        "\n",
        "# 커피 종류가 5개(커피명, 수량, 단가)\n",
        "# 사용자 커피를 반복 구매\n",
        "# 관리자가 판매 종료 후 통계 보기 출력\n",
        "\n",
        "\n",
        "\n",
        "coffee_menu = [\n",
        "{\"name\" : \"아메리카노\", \"price\" : 2000, \"cellCount\" : 100},\n",
        "{\"name\" : \"카페라떼\", \"price\" : 3000, \"cellCount\" : 100},\n",
        "{\"name\" : \"카라멜마끼아또\", \"price\" : 3500, \"cellCount\" : 100},\n",
        "{\"name\" : \"바닐라라떼\", \"price\" : 3800, \"cellCount\" : 100},\n",
        "{\"name\" : \"콜드브루\", \"price\" : 4000, \"cellCount\" : 100}]\n",
        "\n",
        "totalMoney = 0  # 총액\n",
        "totalSell = 0   # 총 갯수\n",
        "exit_program = False  # 종료 여부\n",
        "\n",
        "while not exit_program:\n",
        "\n",
        "    print(\"\"\"\n",
        " ☕ 커피 자판기에 오신걸 환영합니다.(version.2.0.0) ☕\n",
        "\n",
        "1. 커피 구입하기\n",
        "2. 관리자 메뉴\n",
        "3. 통계 보기\n",
        "4. 판매 종료\n",
        "\"\"\")\n",
        "\n",
        "    try:\n",
        "        main_Menu_num = int(input(\"메뉴를 선택해주세요. : \"))\n",
        "    except ValueError:\n",
        "        print(\"잘못된 입력입니다. 숫자를 입력해주세요.\")\n",
        "        continue\n",
        "\n",
        "    if main_Menu_num == 1 :\n",
        "        while True:\n",
        "            print(\"\\n구매할 커피를 고르세요\")\n",
        "            print(\"=====================\")\n",
        "\n",
        "\n",
        "            # 파이썬 내장함수 -> enumerate : 순서가 있는 자료형(list, set, string , dictionary, tuple)을 입력 받았을 때 인덱스 포함해서 리턴, for문과 자주 사용된다. 인덱스와 값을 동시에 접근하면서 루프를 돌릴 때 사용한다.\n",
        "            # 형식 : enumerate(순서가 있는 객체, start=0)\n",
        "            for idx, coffee in enumerate(coffee_menu, start=1):\n",
        "                print(f\"{idx}. {coffee['name']} : {coffee['price']}원 (재고: {coffee['cellCount']}개)\")\n",
        "            print(\"0. 이전 메뉴 돌아가기\")\n",
        "            print(\"=====================\")\n",
        "\n",
        "            try:\n",
        "                coffee_choice = int(input(\"입력 : \"))\n",
        "            except ValueError:\n",
        "                print(\"잘못된 입력입니다. 숫자를 입력해주세요.\")\n",
        "                continue\n",
        "\n",
        "            if coffee_choice == 0:\n",
        "                print(\"이전 메뉴로 돌아갑니다.\")\n",
        "                break\n",
        "\n",
        "            elif 1 <= coffee_choice <= len(coffee_menu):\n",
        "                selected_coffee = coffee_menu[coffee_choice - 1]\n",
        "\n",
        "                if selected_coffee[\"cellCount\"] > 0:\n",
        "                    print(f\"{selected_coffee['name']}를 선택하셨습니다. 가격은 {selected_coffee['price']}원 입니다.\" )\n",
        "\n",
        "                    try:\n",
        "                        money = int(input(\"돈을 넣어주세요 : \"))\n",
        "                    except ValueError:\n",
        "                        print(\"잘못된 입력입니다. 숫자를 입력해주세요.\")\n",
        "                        continue\n",
        "\n",
        "                    if money >= selected_coffee[\"price\"]:\n",
        "                        change = money - selected_coffee[\"price\"]\n",
        "                        selected_coffee[\"cellCount\"] -= 1\n",
        "                        totalMoney += selected_coffee[\"price\"]\n",
        "                        totalSell += 1\n",
        "\n",
        "                        print(f\"{selected_coffee['name']}를 구매하셨습니다. 거스름돈은 {change}원 입니다.\")\n",
        "                        print(f\"남은 {selected_coffee['name']} 재고는 {selected_coffee['cellCount']} 개 입니다.\")\n",
        "\n",
        "                    else:\n",
        "                        print(\"돈이 부족합니다. 돈을 다시 넣어주세요\")\n",
        "                        continue\n",
        "\n",
        "                else:\n",
        "                    print(\"잔여 수량이 없습니다. 다시 선택해주세요.\")\n",
        "\n",
        "            else:\n",
        "                print(\"잘못된 입력입니다. 다시 선택해주세요.\")\n",
        "\n",
        "    elif  main_Menu_num == 2 :\n",
        "        print(\"관리자 메뉴입니다.\")\n",
        "        while True:\n",
        "            print(\"=====================\")\n",
        "            print(\"1.커피 등록하기\")\n",
        "            print(\"2.커피 수량 수정\")\n",
        "            print(\"3.커피 단가 수정\")\n",
        "            print(\"4.이전 메뉴로 돌아가기\")\n",
        "            print(\"=====================\")\n",
        "\n",
        "            try:\n",
        "                admin_choice = int(input(\"입력 : \"))\n",
        "            except ValueError:\n",
        "                print(\"잘못된 입력입니다. 숫자를 입력해주세요.\")\n",
        "                continue\n",
        "\n",
        "            if admin_choice == 4:\n",
        "                print(\"이전 메뉴로 돌아갑니다.\")\n",
        "                break\n",
        "\n",
        "            elif admin_choice == 1:\n",
        "                print(\"커피를 등록합니다.\")\n",
        "                new_coffee_name = input(\"커피 이름을 입력하세요 : \")\n",
        "                new_coffee_price = int(input(\"커피 가격을 입력하세요 : \"))\n",
        "                new_coffee_count = int(input(\"커피 재고를 입력하세요 : \"))\n",
        "                new_coffee = {\"name\" : new_coffee_name, \"price\" : new_coffee_price, \"cellCount\" : new_coffee_count}\n",
        "                coffee_menu.append(new_coffee)\n",
        "                print(\"커피가 등록되었습니다.\")\n",
        "\n",
        "            elif admin_choice == 2:\n",
        "                print(\"커피 수량을 수정합니다.\")\n",
        "                for idx, coffee in enumerate(coffee_menu, start=1):\n",
        "                    print(f\"{idx}. {coffee['name']} : {coffee['price']}원 (재고: {coffee['cellCount']}개)\")\n",
        "                coffee_choice = int(input(\"수정할 커피의 번호를 입력하세요 : \"))\n",
        "                coffee_menu[coffee_choice - 1][\"cellCount\"] = int(input(\"수정할 수량을 입력하세요 : \"))\n",
        "                print(\"커피 수량이 수정되었습니다.\")\n",
        "\n",
        "            elif admin_choice == 3:\n",
        "                print(\"커피 단가를 수정합니다.\")\n",
        "                for idx, coffee in enumerate(coffee_menu, start=1):\n",
        "                    print(f\"{idx}. {coffee['name']} : {coffee['price']}원 (재고: {coffee['cellCount']}개)\")\n",
        "                coffee_choice = int(input(\"수정할 커피의 번호를 입력하세요 : \"))\n",
        "                coffee_menu[coffee_choice - 1][\"price\"] = int(input(\"수정할 가격을 입력하세요 : \"))\n",
        "                print(\"커피 단가가 수정되었습니다.\")\n",
        "\n",
        "            else:\n",
        "                print(\"잘못된 입력입니다. 다시 입력해주세요.\")\n",
        "\n",
        "    elif main_Menu_num == 3:\n",
        "        print(\"\\n커피 판매를 종료합니다. 통계가 출력이 됩니다.\")\n",
        "        print(\"=====================\")\n",
        "        print(f\"총 판매 금액 : {totalMoney}원\")\n",
        "        print(f\"총 판매 갯수 : {totalSell}개\")\n",
        "\n",
        "        if totalSell > 0 :\n",
        "            print(f\"평균 판매 금액 : {totalMoney / totalSell}원\")\n",
        "\n",
        "        else:\n",
        "            print(\"판매된 커피가 없습니다.\")\n",
        "        print(\"=====================\")\n",
        "        exit_program = True\n",
        "\n",
        "    elif main_Menu_num == 4:\n",
        "        print(\"커피 판매 프로그램을 종료합니다. 이용해 주셔서 감사합니다.\")\n",
        "        exit_program = True\n",
        "\n",
        "    else:\n",
        "        print(\"잘못된 입력입니다. 다시 입력해주세요.\")\n",
        "\n",
        "# 개발하는 것은 밑도 끝도 없기 때문에 프로그램 개발 하기 앞서 C R U D를 먼저 체계적으로 잡아놔야 가지를 뻗어 나갈 수 있다."
      ],
      "metadata": {
        "colab": {
          "base_uri": "https://localhost:8080/"
        },
        "id": "-wP7HE20QU7O",
        "outputId": "ddba2b2a-d875-45db-fc20-965be12a2d5b"
      },
      "execution_count": 39,
      "outputs": [
        {
          "output_type": "stream",
          "name": "stdout",
          "text": [
            "\n",
            " ☕ 커피 자판기에 오신걸 환영합니다.(version.2.0.0) ☕\n",
            "\n",
            "1. 커피 구입하기\n",
            "2. 관리자 메뉴\n",
            "3. 통계 보기\n",
            "4. 판매 종료\n",
            "\n",
            "메뉴를 선택해주세요. : 1\n",
            "\n",
            "구매할 커피를 고르세요\n",
            "=====================\n",
            "1. 아메리카노 : 2000원 (재고: 100개)\n",
            "2. 카페라떼 : 3000원 (재고: 100개)\n",
            "3. 카라멜마끼아또 : 3500원 (재고: 100개)\n",
            "4. 바닐라라떼 : 3800원 (재고: 100개)\n",
            "5. 콜드브루 : 4000원 (재고: 100개)\n",
            "0. 이전 메뉴 돌아가기\n",
            "=====================\n",
            "입력 : 3\n",
            "카라멜마끼아또를 선택하셨습니다. 가격은 3500원 입니다.\n",
            "돈을 넣어주세요 : 5000\n",
            "카라멜마끼아또를 구매하셨습니다. 거스름돈은 1500원 입니다.\n",
            "남은 카라멜마끼아또 재고는 99 개 입니다.\n",
            "\n",
            "구매할 커피를 고르세요\n",
            "=====================\n",
            "1. 아메리카노 : 2000원 (재고: 100개)\n",
            "2. 카페라떼 : 3000원 (재고: 100개)\n",
            "3. 카라멜마끼아또 : 3500원 (재고: 99개)\n",
            "4. 바닐라라떼 : 3800원 (재고: 100개)\n",
            "5. 콜드브루 : 4000원 (재고: 100개)\n",
            "0. 이전 메뉴 돌아가기\n",
            "=====================\n",
            "입력 : 5\n",
            "콜드브루를 선택하셨습니다. 가격은 4000원 입니다.\n",
            "돈을 넣어주세요 : 3000\n",
            "돈이 부족합니다. 돈을 다시 넣어주세요\n",
            "\n",
            "구매할 커피를 고르세요\n",
            "=====================\n",
            "1. 아메리카노 : 2000원 (재고: 100개)\n",
            "2. 카페라떼 : 3000원 (재고: 100개)\n",
            "3. 카라멜마끼아또 : 3500원 (재고: 99개)\n",
            "4. 바닐라라떼 : 3800원 (재고: 100개)\n",
            "5. 콜드브루 : 4000원 (재고: 100개)\n",
            "0. 이전 메뉴 돌아가기\n",
            "=====================\n",
            "입력 : 0\n",
            "이전 메뉴로 돌아갑니다.\n",
            "\n",
            " ☕ 커피 자판기에 오신걸 환영합니다.(version.2.0.0) ☕\n",
            "\n",
            "1. 커피 구입하기\n",
            "2. 관리자 메뉴\n",
            "3. 통계 보기\n",
            "4. 판매 종료\n",
            "\n",
            "메뉴를 선택해주세요. : 4\n",
            "커피 판매 프로그램을 종료합니다. 이용해 주셔서 감사합니다.\n"
          ]
        }
      ]
    },
    {
      "cell_type": "code",
      "source": [],
      "metadata": {
        "id": "kbQnhU--s10a"
      },
      "execution_count": null,
      "outputs": []
    }
  ]
}