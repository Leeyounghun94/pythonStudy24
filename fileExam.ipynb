{
  "nbformat": 4,
  "nbformat_minor": 0,
  "metadata": {
    "colab": {
      "provenance": [],
      "authorship_tag": "ABX9TyMQat27MDbDSIVLyNZ8KFYa",
      "include_colab_link": true
    },
    "kernelspec": {
      "name": "python3",
      "display_name": "Python 3"
    },
    "language_info": {
      "name": "python"
    }
  },
  "cells": [
    {
      "cell_type": "markdown",
      "metadata": {
        "id": "view-in-github",
        "colab_type": "text"
      },
      "source": [
        "<a href=\"https://colab.research.google.com/github/Leeyounghun94/pythonStudy24/blob/master/fileExam.ipynb\" target=\"_parent\"><img src=\"https://colab.research.google.com/assets/colab-badge.svg\" alt=\"Open In Colab\"/></a>"
      ]
    },
    {
      "cell_type": "markdown",
      "source": [
        "# **파이썬의 파일 읽고 쓰기 연습**\n",
        "\n",
        "* 파이썬은 실무에서 엑셀파일을 .csv 파일로 저장하여 불러와 데이터 분석 등을 한다.\n",
        "* .csv 는 엑셀에서 표에 있는 값을 텍스트로 저장하는 다른 이름으로 저장하는 기법을 말한다.\n",
        "\n",
        "- 현재 Colab으로 실습을 진행하면 구글에서 제공하는 vm을 사용함\n",
        "리눅스 커널로 되어 있어 content 디렉토리에 저장됨\n",
        "C:\\ 으로 되어 있는 것은 윈도우 커널로 파이참에서 실습을 함."
      ],
      "metadata": {
        "id": "x574ZYAiSBWa"
      }
    },
    {
      "cell_type": "code",
      "execution_count": 2,
      "metadata": {
        "id": "YYC_x93ysfbF"
      },
      "outputs": [],
      "source": [
        "# 파일 생성하기 실습\n",
        "\n",
        "f = open(\"새파일.txt\", 'w') # open()는 파일을 연다.\n",
        "for i in range(1, 11):      # 1부터 10까지 숫자 범위를 만들어서 i에 넣음\n",
        "    data = \"%d번째 줄입니다.\\n\" % i\n",
        "    f.write(data)       # write -> data값을 파일 기록할 때 쓴다\n",
        "\n",
        "f.close()    # f.close()는 열려 있는 파일 객체를 닫아 주는 역할을 한다, 생략이 가능하지만 초보자는 오류 방지(엑세스거부)를 위해 직접 닫아주는게 좋다.\n",
        "\n",
        "# 파일_객체 = open(\"파일이름\", '파일열기모드')\n",
        "\n",
        "# 파일 열기 모드(파일에 권한 부여)\n",
        "# 'r' = 읽기 모드 : 파일을 읽기만 할 때\n",
        "# 'w' = 쓰기 모드 : 파일에 내용 쓸 때\n",
        "# 'a' = 추가 모드 : 파일의 마지막에 새로운 내용 추가 할 때\n",
        "\n",
        "# 파일 쓰기 모드로 열게 되면 파일이 존재할 경우 원래 내용이 사라지며, 파일이 존재하지 않으면 새로운 파일이 생성된다."
      ]
    },
    {
      "cell_type": "code",
      "source": [
        "# 저장된 파일 내용 가져와 출력하기\n",
        "\n",
        "f = open(\"새파일.txt\", 'r')\n",
        "line = f.readline()     # 첫줄의 내용을 가져와서 line 변수에 넣는다.\n",
        "print(line)\n",
        "f.close()\n",
        "\n",
        "#‘새파일.txt’ 파일을 읽기 모드로 연 후 readline()을 사용해서 파일의 첫 번째 줄을 읽어 출력한다."
      ],
      "metadata": {
        "colab": {
          "base_uri": "https://localhost:8080/"
        },
        "id": "b-5y65B9TK-K",
        "outputId": "716c05ae-a744-4d78-bd72-8261a2c1b4c7"
      },
      "execution_count": 3,
      "outputs": [
        {
          "output_type": "stream",
          "name": "stdout",
          "text": [
            "1번째 줄입니다.\n",
            "\n"
          ]
        }
      ]
    },
    {
      "cell_type": "code",
      "source": [
        "# 무한 루프 while로 가져오기\n",
        "\n",
        "f = open(\"새파일.txt\", 'r')\n",
        "while True:                         # 무한 루프 동작\n",
        "    line = f.readline()             # 한 줄씩 읽어오기\n",
        "    if not line: break              # 마지막 줄인지 확인하기 : break\n",
        "    print(line)                     # 출력\n",
        "f.close()                           # 파일 닫기\n",
        "\n",
        "# while True: 무한 루프 안에서 f.readline()사용해 파일을 한 줄 씩 읽어온다. 만약 더 이상 읽을 줄이 없으면 break 수행한다.\n",
        "# readline()은 더 이상 읽을 줄이 없는 경우 \"\" 리턴한다."
      ],
      "metadata": {
        "colab": {
          "base_uri": "https://localhost:8080/"
        },
        "id": "eWhK0HVOVXyc",
        "outputId": "68378016-76a6-4d2d-d4fa-0625e855be2a"
      },
      "execution_count": 4,
      "outputs": [
        {
          "output_type": "stream",
          "name": "stdout",
          "text": [
            "1번째 줄입니다.\n",
            "\n",
            "2번째 줄입니다.\n",
            "\n",
            "3번째 줄입니다.\n",
            "\n",
            "4번째 줄입니다.\n",
            "\n",
            "5번째 줄입니다.\n",
            "\n",
            "6번째 줄입니다.\n",
            "\n",
            "7번째 줄입니다.\n",
            "\n",
            "8번째 줄입니다.\n",
            "\n",
            "9번째 줄입니다.\n",
            "\n",
            "10번째 줄입니다.\n",
            "\n"
          ]
        }
      ]
    },
    {
      "cell_type": "code",
      "source": [
        "# .readlines()\n",
        "\n",
        "f = open(\"새파일.txt\", 'r')\n",
        "lines = f.readlines()       # 새파일 텍스트 문자열을 리스트로 만든다.\n",
        "for line in lines :\n",
        "    print(line.strip())            # 리스트 내용 출력\n",
        "             # .strip() 메서드는 줄 끝의 줄 바꿈 문자를 제거한다.\n",
        "f.close()\n",
        "\n",
        "# readlines 함수는 파일의 모든 줄을 읽어서 각각 줄의 요소로 가지고 리스트로 리턴한다.\n",
        "# 따라서, [\"1번째 줄입니다.\\n\", \"2번째 줄입니다.\\n\" . . .] 이런 형태가 된다.\n",
        "# f.readlines()는 realine과 달리 뒤에 s가 붙었다는 점 알아두자."
      ],
      "metadata": {
        "colab": {
          "base_uri": "https://localhost:8080/"
        },
        "id": "-LfM0TelWCW2",
        "outputId": "e887b29f-23be-4fa2-b113-07702999c5ff"
      },
      "execution_count": 7,
      "outputs": [
        {
          "output_type": "stream",
          "name": "stdout",
          "text": [
            "1번째 줄입니다.\n",
            "2번째 줄입니다.\n",
            "3번째 줄입니다.\n",
            "4번째 줄입니다.\n",
            "5번째 줄입니다.\n",
            "6번째 줄입니다.\n",
            "7번째 줄입니다.\n",
            "8번째 줄입니다.\n",
            "9번째 줄입니다.\n",
            "10번째 줄입니다.\n"
          ]
        }
      ]
    },
    {
      "cell_type": "code",
      "source": [
        "# read() 함수 사용\n",
        "\n",
        "f = open(\"새파일.txt\", 'r')\n",
        "data = f.read() # .read() 텍스트 안에 있는 모든값을 문자열로 가져온다.\n",
        "print(data)\n",
        "f.close()"
      ],
      "metadata": {
        "colab": {
          "base_uri": "https://localhost:8080/"
        },
        "id": "L00O0wb2XhwJ",
        "outputId": "2cad3e3f-e717-4b50-d039-b0469226eb85"
      },
      "execution_count": 8,
      "outputs": [
        {
          "output_type": "stream",
          "name": "stdout",
          "text": [
            "1번째 줄입니다.\n",
            "2번째 줄입니다.\n",
            "3번째 줄입니다.\n",
            "4번째 줄입니다.\n",
            "5번째 줄입니다.\n",
            "6번째 줄입니다.\n",
            "7번째 줄입니다.\n",
            "8번째 줄입니다.\n",
            "9번째 줄입니다.\n",
            "10번째 줄입니다.\n",
            "\n"
          ]
        }
      ]
    },
    {
      "cell_type": "code",
      "source": [
        "# 파일에 새로운 내용 추가해보기.\n",
        "\n",
        "# 'w'의 특징은 파일을 열 때 이미 존재하는 파일이면 전에 내용이 사라진다.(정말 조심해야하는 부분!!)\n",
        "\n",
        "f = open(\"새파일.txt\", 'w')\n",
        "for i in range(1,11):\n",
        "    data = \"%d번째 행 입니다.\\n\" % i\n",
        "    f.write(data)\n",
        "\n",
        "f.close()"
      ],
      "metadata": {
        "id": "VqXH3SNWYWN-"
      },
      "execution_count": 14,
      "outputs": []
    },
    {
      "cell_type": "code",
      "source": [
        "# 'w'를 'a'로 변경하던지 파일명을 다른 이름으로 저장해야 한다.\n",
        "\n",
        "f = open(\"새파일.txt\", 'a')     # a -> 추가용\n",
        "for i in range(11, 21):         # 11 ~ 20번\n",
        "    data = \"%d번째 줄 입니다.\\n\" % i\n",
        "    f.write(data)\n",
        "f.close()"
      ],
      "metadata": {
        "id": "DfvF4gcHcVFS"
      },
      "execution_count": 15,
      "outputs": []
    },
    {
      "cell_type": "code",
      "source": [
        "# with() 함수 사용해보기.\n",
        "\n",
        "# 파일을 열면(open) 항상 닫기(close) 해줘야 한다.\n",
        "\n",
        "f = open(\"foo.txt\", 'w')\n",
        "f.write(\"Life is too short. you need python\")\n",
        "f.close()"
      ],
      "metadata": {
        "id": "K27qd-tTc4BR"
      },
      "execution_count": null,
      "outputs": []
    },
    {
      "cell_type": "code",
      "source": [
        "with open(\"foo.txt\", 'w') as f:\n",
        "    f.write(\"Life is too short. you need python\")\n",
        "  # f.close() 가 있긴 한데 생략 가능."
      ],
      "metadata": {
        "id": "O5YaFv8Bdrvq"
      },
      "execution_count": null,
      "outputs": []
    }
  ]
}