{
  "nbformat": 4,
  "nbformat_minor": 0,
  "metadata": {
    "colab": {
      "provenance": [],
      "authorship_tag": "ABX9TyNLP2sUnClD4RF7NCKzQwXH",
      "include_colab_link": true
    },
    "kernelspec": {
      "name": "python3",
      "display_name": "Python 3"
    },
    "language_info": {
      "name": "python"
    }
  },
  "cells": [
    {
      "cell_type": "markdown",
      "metadata": {
        "id": "view-in-github",
        "colab_type": "text"
      },
      "source": [
        "<a href=\"https://colab.research.google.com/github/Leeyounghun94/pythonStudy24/blob/master/fileExam.ipynb\" target=\"_parent\"><img src=\"https://colab.research.google.com/assets/colab-badge.svg\" alt=\"Open In Colab\"/></a>"
      ]
    },
    {
      "cell_type": "markdown",
      "source": [
        "# **파이썬의 파일 읽고 쓰기**\n",
        "\n"
      ],
      "metadata": {
        "id": "x574ZYAiSBWa"
      }
    },
    {
      "cell_type": "code",
      "execution_count": null,
      "metadata": {
        "id": "YYC_x93ysfbF"
      },
      "outputs": [],
      "source": [
        "f = open(\"새파일.txt\", 'w')\n",
        "for i in range(1, 11):\n",
        "    data = \"%d번째 줄입니다.\\n\" % i\n",
        "    f.write(data)\n",
        "f.close()    # f.close()는 열려 있는 파일 객체를 닫아 주는 역할을 한다, 생략이 가능하지만 오류 방지를 위해 직접 닫아주는게 좋다.\n",
        "\n",
        "# 파일_객체 = open(\"파일이름\", '파일열기모드')\n",
        "\n",
        "# 파일 열기 모드\n",
        "# r = 읽기 모드 : 파일을 읽기만 할 때\n",
        "# w = 쓰기 모드 : 파일에 내용 쓸 때\n",
        "# a = 추가 모드 : 파일의 마지막에 새로운 내용 추가 할 때\n",
        "\n",
        "# 파일 쓰기 모드로 열게 되면 파일이 존재할 경우 원래 내용이 사라지며, 파일이 존재하지 않으면 새로운 파일이 생성된다."
      ]
    },
    {
      "cell_type": "code",
      "source": [
        "# readline 함수 이용하기\n",
        "\n",
        "# 파이썬에서 파일 읽는 방법이 여러 존재하는데 그 중 readline을 알아보자.\n",
        "\n",
        "f = open(\"새파일.txt\", 'r')\n",
        "line = f.readline()\n",
        "print(line)\n",
        "f.close()\n",
        "\n",
        "#‘새파일.txt’ 파일을 읽기 모드로 연 후 readline()을 사용해서 파일의 첫 번째 줄을 읽어 출력한다."
      ],
      "metadata": {
        "colab": {
          "base_uri": "https://localhost:8080/"
        },
        "id": "b-5y65B9TK-K",
        "outputId": "5194851f-33c2-4278-f5af-28865f6e0179"
      },
      "execution_count": 5,
      "outputs": [
        {
          "output_type": "stream",
          "name": "stdout",
          "text": [
            "1번째 줄입니다.\n",
            "\n"
          ]
        }
      ]
    },
    {
      "cell_type": "code",
      "source": [
        "# 만약 모든 줄을 화면에 출력하고 싶다면 ?\n",
        "\n",
        "f = open(\"새파일.txt\", 'r')\n",
        "while True:\n",
        "    line = f.readline()\n",
        "    if not line: break\n",
        "    print(line)\n",
        "f.close()\n",
        "\n",
        "# while True: 무한 루프 안에서 f.readline()사용해 파일을 한 줄 씩 읽어온다. 만약 더 이상 읽을 줄이 없으면 break 수행한다.\n",
        "# readline()은 더 이상 읽을 줄이 없는 경우 \"\" 리턴한다."
      ],
      "metadata": {
        "colab": {
          "base_uri": "https://localhost:8080/"
        },
        "id": "eWhK0HVOVXyc",
        "outputId": "44c21271-0295-4c72-f65e-f0c20bf8dcab"
      },
      "execution_count": 6,
      "outputs": [
        {
          "output_type": "stream",
          "name": "stdout",
          "text": [
            "1번째 줄입니다.\n",
            "\n",
            "2번째 줄입니다.\n",
            "\n",
            "3번째 줄입니다.\n",
            "\n",
            "4번째 줄입니다.\n",
            "\n",
            "5번째 줄입니다.\n",
            "\n",
            "6번째 줄입니다.\n",
            "\n",
            "7번째 줄입니다.\n",
            "\n",
            "8번째 줄입니다.\n",
            "\n",
            "9번째 줄입니다.\n",
            "\n",
            "10번째 줄입니다.\n",
            "\n"
          ]
        }
      ]
    },
    {
      "cell_type": "code",
      "source": [
        "# 파일 읽는 방법 두번째 readlines 사용하기.\n",
        "\n",
        "f = open(\"새파일.txt\", 'r')\n",
        "lines = f.readlines()\n",
        "for line in lines:\n",
        "    print(line)\n",
        "f.close()\n",
        "\n",
        "# readlines 함수는 파일의 모든 줄을 읽어서 각각 줄의 요소로 가지고 리스트를 리턴한다.\n",
        "# 따라서, [\"1번째 줄입니다.\\n\", \"2번째 줄입니다.\\n\" . . .] 이런 형태가 된다.\n",
        "# f.readlines()는 realine과 달리 뒤에 s가 붙었다는 점 알아두자."
      ],
      "metadata": {
        "colab": {
          "base_uri": "https://localhost:8080/"
        },
        "id": "-LfM0TelWCW2",
        "outputId": "4558c302-03e9-465a-a34e-598b3eef12f9"
      },
      "execution_count": 8,
      "outputs": [
        {
          "output_type": "stream",
          "name": "stdout",
          "text": [
            "1번째 줄입니다.\n",
            "\n",
            "2번째 줄입니다.\n",
            "\n",
            "3번째 줄입니다.\n",
            "\n",
            "4번째 줄입니다.\n",
            "\n",
            "5번째 줄입니다.\n",
            "\n",
            "6번째 줄입니다.\n",
            "\n",
            "7번째 줄입니다.\n",
            "\n",
            "8번째 줄입니다.\n",
            "\n",
            "9번째 줄입니다.\n",
            "\n",
            "10번째 줄입니다.\n",
            "\n"
          ]
        }
      ]
    },
    {
      "cell_type": "code",
      "source": [
        "# 줄 바꿈(\\n) 문자 제거하기\n",
        "\n",
        "f = open(\"새파일.txt\", 'r')\n",
        "lines = f.readlines()\n",
        "for line in lines:\n",
        "    line = line.strip()\n",
        "    print(line)\n",
        "f.close()\n",
        "\n",
        "# 파일 읽을 때 줄 끝의 줄바꿈(\\n)문자 제거하고 사용해야 할 때가 많다.\n",
        "# .strip() 줄 끝의 줄 바꿈 문자를 제거할 수 있다."
      ],
      "metadata": {
        "id": "xfcg2sQ4XCKM"
      },
      "execution_count": null,
      "outputs": []
    },
    {
      "cell_type": "code",
      "source": [
        "# 세번째 방법. read()\n",
        "\n",
        "f = open(\"새파일.txt\", 'r')\n",
        "data = f.read()\n",
        "print(data)\n",
        "f.close()\n",
        "\n",
        "# f.read()는 파일의 내용 전체를 문자열로 리턴한다."
      ],
      "metadata": {
        "colab": {
          "base_uri": "https://localhost:8080/"
        },
        "id": "L00O0wb2XhwJ",
        "outputId": "8f391db2-d170-40a7-98f5-3f6e53f6b87e"
      },
      "execution_count": 9,
      "outputs": [
        {
          "output_type": "stream",
          "name": "stdout",
          "text": [
            "1번째 줄입니다.\n",
            "2번째 줄입니다.\n",
            "3번째 줄입니다.\n",
            "4번째 줄입니다.\n",
            "5번째 줄입니다.\n",
            "6번째 줄입니다.\n",
            "7번째 줄입니다.\n",
            "8번째 줄입니다.\n",
            "9번째 줄입니다.\n",
            "10번째 줄입니다.\n",
            "\n"
          ]
        }
      ]
    },
    {
      "cell_type": "code",
      "source": [
        "# 네번째 방법. for문 사용하기\n",
        "\n",
        "f = open(\"새파일.txt\", 'r')\n",
        "for line in f:\n",
        "    print(line)\n",
        "f.close()\n",
        "\n",
        "# 줄 단위로 읽어올수 있다 for문을 이용해서"
      ],
      "metadata": {
        "colab": {
          "base_uri": "https://localhost:8080/"
        },
        "id": "ApgWJCLCXqX5",
        "outputId": "00e89ebc-39de-49ff-c5be-30bc75a80bc3"
      },
      "execution_count": 11,
      "outputs": [
        {
          "output_type": "stream",
          "name": "stdout",
          "text": [
            "1번째 줄입니다.\n",
            "\n",
            "2번째 줄입니다.\n",
            "\n",
            "3번째 줄입니다.\n",
            "\n",
            "4번째 줄입니다.\n",
            "\n",
            "5번째 줄입니다.\n",
            "\n",
            "6번째 줄입니다.\n",
            "\n",
            "7번째 줄입니다.\n",
            "\n",
            "8번째 줄입니다.\n",
            "\n",
            "9번째 줄입니다.\n",
            "\n",
            "10번째 줄입니다.\n",
            "\n"
          ]
        }
      ]
    },
    {
      "cell_type": "code",
      "source": [
        "# 파일에 내용 추가하기 ('w')\n",
        "\n",
        "f = open(\"새파일.txt\", 'a')\n",
        "for i in range(11, 20):\n",
        "    data = \"%d번째 줄 입니다.\\d\" % i\n",
        "    f.write(data)\n",
        "f.close()\n",
        "\n",
        "# 추가모드 'a'로 열고 write로 이용해서 내용을 추가하는 것.\n",
        "# 추가모드로 열었기 때문에 원래 가지고 있던 내용 바로 뒤에 추가가 된 것이다."
      ],
      "metadata": {
        "id": "VqXH3SNWYWN-"
      },
      "execution_count": 12,
      "outputs": []
    },
    {
      "cell_type": "code",
      "source": [
        "# with문과 함께 사용하기\n",
        "\n",
        "f = open(\"foo.txt\", 'w')\n",
        "f.write(\"Life is so hot\")\n",
        "f.close()\n",
        "\n",
        "with open(\"foo.txt\", 'w') as f:\n",
        "    f.write(\"list and list\")\n",
        "# 파이썬의 with문이 파일을 열고 닫는 것을 자동으로 처리할 수 있다.\n"
      ],
      "metadata": {
        "id": "K27qd-tTc4BR"
      },
      "execution_count": 14,
      "outputs": []
    }
  ]
}