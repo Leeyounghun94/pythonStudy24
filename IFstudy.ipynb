{
  "nbformat": 4,
  "nbformat_minor": 0,
  "metadata": {
    "colab": {
      "provenance": [],
      "authorship_tag": "ABX9TyOZrGlryTXexrJwVPGvsEVp",
      "include_colab_link": true
    },
    "kernelspec": {
      "name": "python3",
      "display_name": "Python 3"
    },
    "language_info": {
      "name": "python"
    }
  },
  "cells": [
    {
      "cell_type": "markdown",
      "metadata": {
        "id": "view-in-github",
        "colab_type": "text"
      },
      "source": [
        "<a href=\"https://colab.research.google.com/github/Leeyounghun94/pythonStudy24/blob/master/IFstudy.ipynb\" target=\"_parent\"><img src=\"https://colab.research.google.com/assets/colab-badge.svg\" alt=\"Open In Colab\"/></a>"
      ]
    },
    {
      "cell_type": "markdown",
      "source": [
        "# **🐱‍🏍 프로그램의 판단을 할 수 있는 조건문인 if를 사용해보자.**\n",
        "\n",
        "if문은 만약에 라는 의미를 가지고 있으며 결과는 참과 거짓으로 판단한다."
      ],
      "metadata": {
        "id": "NRh_nmvCnw6-"
      }
    },
    {
      "cell_type": "code",
      "execution_count": 3,
      "metadata": {
        "colab": {
          "base_uri": "https://localhost:8080/"
        },
        "id": "SRxY_b_wmq2V",
        "outputId": "e35fa27b-9f74-4f1c-a2bd-d57fea90f97c"
      },
      "outputs": [
        {
          "output_type": "stream",
          "name": "stdout",
          "text": [
            "============================\n",
            "걸어가세요\n",
            "============================\n"
          ]
        }
      ],
      "source": [
        "# 돈이 있으면 택시를 타고 가고, 돈이 없으면 걸어간다.\n",
        "\n",
        "money = False  # 돈이 있으면\n",
        "if money:     # 파이썬에는 중괄호 블럭이 없기 때문에 : 으로 구문을 내린다.\n",
        "  print(\"택시를 타세요\")    # True일 때 처리 (하위 처리를 위해서 띄어쓰기 4번을 진행)\n",
        "  print(\"모범택시는 타지 마세요.. 다음 택시를 기다리세요\")\n",
        "  print(\"택시가 안보이면 카카오택시를 호출하세요\")\n",
        "else:                       # False일 때 처리\n",
        "  print(\"============================\")\n",
        "  print(\"걸어가세요\")       # False 용 명령\n",
        "  print(\"============================\")"
      ]
    },
    {
      "cell_type": "code",
      "source": [
        "money = 7000\n",
        "\n",
        "if money >=3000:      # if 뒤에 써지는 문장이 조건이 된다. :\n",
        "  print(\"택시 타세요\")  # True\n",
        "else:\n",
        "  print(\"걸어가세요\")   # False"
      ],
      "metadata": {
        "colab": {
          "base_uri": "https://localhost:8080/"
        },
        "id": "5dnFixD8v3Pt",
        "outputId": "1df47bec-510f-44f8-aec2-19b060bb9e5e"
      },
      "execution_count": 5,
      "outputs": [
        {
          "output_type": "stream",
          "name": "stdout",
          "text": [
            "택시 타세요\n"
          ]
        }
      ]
    },
    {
      "cell_type": "code",
      "source": [
        "# x or y -> x 또는 y (둘 중 하나만 참이어도 참)\n",
        "\n",
        "# x and y -> x 와(~이고) y (두 개가 참)\n",
        "\n",
        "# not x -> x가 아니면 참(거짓, 반전)\n",
        "\n",
        "# 돈이 3000원 이상 있거나 카드가 있다면 택시를 타고 가고, 아니면 걸어가세요\n",
        "\n",
        "money = 2000\n",
        "card = True\n",
        "\n",
        "if money > 3000 or card:\n",
        "  print(\"택시를 타세요\")\n",
        "else:\n",
        "    print(\"걸어가세요\")\n",
        "\n",
        "#       or 연산 진리표(+ 개념)\n",
        "# money   or    card    =   결과\n",
        "#   0             0     =   0\n",
        "#   1             0     =   1\n",
        "#   0             1     =   1\n",
        "#   1             1     =   1 (2가 아닌 1이여야 하는게 0 아니면 1 이기 때문)"
      ],
      "metadata": {
        "id": "LxyFreqPwarQ"
      },
      "execution_count": null,
      "outputs": []
    },
    {
      "cell_type": "code",
      "source": [
        "# in              , not in\n",
        "# x in 리스트     , x not in 리스트\n",
        "# x in 튜플       , x not in 튜플\n",
        "# x in 문자열     , x not in 문자열\n",
        "\n",
        "1 not in [1, 2, 3] # 1 없지 ?"
      ],
      "metadata": {
        "colab": {
          "base_uri": "https://localhost:8080/"
        },
        "id": "u_K-sWJ-y6Xo",
        "outputId": "d8fe6c17-a37e-4a33-d497-f6fe40c77c50"
      },
      "execution_count": 7,
      "outputs": [
        {
          "output_type": "execute_result",
          "data": {
            "text/plain": [
              "False"
            ]
          },
          "metadata": {},
          "execution_count": 7
        }
      ]
    },
    {
      "cell_type": "code",
      "source": [
        "'a' in ('a', 'b', 'c') # 튜플"
      ],
      "metadata": {
        "colab": {
          "base_uri": "https://localhost:8080/"
        },
        "id": "sZvX7fu_zo0N",
        "outputId": "94200250-3107-4725-b9d4-cc4e40606cc6"
      },
      "execution_count": 8,
      "outputs": [
        {
          "output_type": "execute_result",
          "data": {
            "text/plain": [
              "True"
            ]
          },
          "metadata": {},
          "execution_count": 8
        }
      ]
    },
    {
      "cell_type": "code",
      "source": [
        "'j' not in 'python' # python 글자에 j 없지 ?"
      ],
      "metadata": {
        "colab": {
          "base_uri": "https://localhost:8080/"
        },
        "id": "Nj0h2Bwpz2J-",
        "outputId": "498176fd-86f2-4272-caf9-386c5f1f6752"
      },
      "execution_count": 9,
      "outputs": [
        {
          "output_type": "execute_result",
          "data": {
            "text/plain": [
              "True"
            ]
          },
          "metadata": {},
          "execution_count": 9
        }
      ]
    },
    {
      "cell_type": "code",
      "source": [
        "# 만약에 주머니에 돈이 있으면 택시를 타고가고, 없으면 걸어가세요\n",
        "pocket = ['paper', 'cellphone', 'money']\n",
        "\n",
        "if 'money' in pocket :\n",
        "    print(\"택시를 타세요\")\n",
        "else:\n",
        "    print(\"걸어가세요\")\n",
        "\n",
        "# 문자일 때는 in를 많이 쓰이고, 숫자일 때는 부등호를 많이 쓴다."
      ],
      "metadata": {
        "colab": {
          "base_uri": "https://localhost:8080/"
        },
        "id": "zgaw6FVH2hwQ",
        "outputId": "2b0d8c19-9391-4de0-b0ad-4045259a7846"
      },
      "execution_count": 10,
      "outputs": [
        {
          "output_type": "stream",
          "name": "stdout",
          "text": [
            "택시를 타세요\n"
          ]
        }
      ]
    },
    {
      "cell_type": "code",
      "source": [
        "# 조건문에서 아무 일도 하지 않게 설정하고 싶을 때는 ? pass\n",
        "# 조건문의 참, 거짓에 따라 실행할 행동을 정의할 때나 아무런 일도 하지 않도록 설정하고 싶을 때\n",
        "\n",
        "# 주머니에 돈이 있으면 가만히 있고, 주머니에 돈이 없으면 카드를 꺼내라.\n",
        "\n",
        "pocket =  ['paper', 'smartPhone', 'card']\n",
        "if 'money' in pocket :\n",
        "    pass        # pass 는 skip 같은 기능(그냥 넘어가라)\n",
        "else:\n",
        "    print(\"카드 꺼내세요\")"
      ],
      "metadata": {
        "colab": {
          "base_uri": "https://localhost:8080/"
        },
        "id": "KVbmnUQc52wI",
        "outputId": "151292d9-41c5-4644-fc48-a9ac9c94e6cb"
      },
      "execution_count": 12,
      "outputs": [
        {
          "output_type": "stream",
          "name": "stdout",
          "text": [
            "카드 꺼내세요\n"
          ]
        }
      ]
    },
    {
      "cell_type": "code",
      "source": [
        "# elif는 if문 아래쪽에 한번 더 비교하는 조건문 (elif의 사용횟수는 무제한)  JAVA - else if\n",
        "\n",
        "# 주머니에 돈이 있으면 택시를 타고 가고,\n",
        "# 주머니에 돈은 없지만 카드가 있으면 택시를 타고,\n",
        "# 주머니에 돈도 없고 카드도 없으면 걸어가세요.\n",
        "\n",
        "pocket = ['paper', 'cellPhone']\n",
        "card = True\n",
        "\n",
        "if 'money' in pocket:\n",
        "    print(\"택시를 타세요\")\n",
        "elif card:\n",
        "    print(\"택시를 타세요\")\n",
        "else:\n",
        "    print(\"걸어가세요\")"
      ],
      "metadata": {
        "colab": {
          "base_uri": "https://localhost:8080/"
        },
        "id": "MyewzjRK7USt",
        "outputId": "2e111798-88cb-4093-8515-bc43214ba6df"
      },
      "execution_count": 13,
      "outputs": [
        {
          "output_type": "stream",
          "name": "stdout",
          "text": [
            "택시를 타세요\n"
          ]
        }
      ]
    },
    {
      "cell_type": "markdown",
      "source": [
        "![image.png](data:image/png;base64,iVBORw0KGgoAAAANSUhEUgAAAZcAAAEfCAYAAACNhYu4AAAAAXNSR0IArs4c6QAAAARnQU1BAACxjwv8YQUAAAAJcEhZcwAADsMAAA7DAcdvqGQAAC3DSURBVHhe7d0JWBR1Awbwd7lF5F4OORUQBMEj8bbUwvLKbis1KyvTT8vs1MqzSyvzK8ssu7UvyzM1zTvyPgAPVAQUlRvkBpFrv5ndARcERBh02X1/zzMP858dxpGdnXf+x8wqVAIQERHJyEj6SUREJBuGCxERyY7hQkREsmO4EBGR7BguREQkO4YLERHJjuFCRESyY7gQEZHsGC5ERCQ7hgsREcmO4UJERLJjuBARkewYLkREJDuGCxERyY7hQkREsmO4EBGR7BguREQkO4YLERHJjuFCRESyY7gQEZHsGC5ERCQ7hgsREcmO4UJERLJjuBARkewYLkREJDuGCxERyY7hQkREsmO4EBGR7BguREQkO4VKIM0TNZucvCLk5hZJJWosExMjONhbwcLcTFpCpJsYLtSsyssrcPJ0IrJzCqUlJIdAfzc4Ka2lEpHuYbMYNau482kMlmZw9lwqiq+WSCUi3cNwoWaVkpojzZGcykrLcTmrQCoR6R6GC1ELVVZWIc0R6R6GCxERyY7hQkREsmO4kGFT5CPh4C6cyiiVFtSuIiMKuw/EgYOpiRqG4UIGJBE750zA8mit0WuqXJzb8hsi0kuA9E34YPRQjNeanhv9tHp9Vfp+/L71DIoU0u8RUb0YLkSVnIZhxoq/8N3PH2CQRVeMWbQBy1b8iDFBraUViKihGC5ENZTGHkVkcSwiotOlJRqqs1/hrSc1NRkiqh/DhQxHSQouXEjFqZhk1PVYClXRUfy+LAY9X3wcVn8vwZ9xedIrgKLDJHz0K2syRA3BcCEDoULhiT2IUBgje1c4Ymv236vKUXR+I76e+zvw+FQ81P8hjJ92L/J+fg3v/XkavBee6OYwXMggqIoisG55HHpO/QQvdonCH+tOoki7+iKEjllrH/Sb/A5Gd28LY2GRibIvxsz6FC/d4w9zp954bHAALPkkPqIG4YMrqVnt3nNamrt9VFfisPvbRdjb7mW8OcIPpuXnsPXDDxDpPxHPP+SMqPfmIfmRhVJzVyJ2zn0ZK2KuaH5Zm/8kzJ81HI468olp56WEl4ejVCLSLQwXala3P1zKkX1yFTZd6ISHhgbBsnIocXkKjh8tgG+PVjgwRztcalcevQRTVntgLsOFqEHYLEZ6zhh2nUZhzDCtYBEZuyKkhx8spSIRyYvhQgbOGBZO7mhjwrsjieTEZjFqVrrQ56Kv2CxGuow1FyIikh3DhYiIZMdwISIi2TFcqFlZWJhJcyQ3ExN+fEl38eikZuXqbCPNkZxMTI3h4mQrlYh0D8OFmpU4msnVhSdBOYm1wa7BXjA25seXdBeHItMtUXy1BIWFJSgoLJaW6J4NG1ZjxIiHpZLuEZvBWre2gK01b/0k3cdwIZIs/mopJk+aIJWIqClYryYiItkxXIiISHYMFzJoJSW1fw1YXcuJqGEYLmTQ9u0/gNi4OKmkkZqahrXrN0olImoMhgsZNDe3tvh76w7s/idcXT4aEYVVa9bB16e9ukxEjcNwIYPm5+sLC3NznIzWPL15/4GD6p/+HXzVP4mocRguZPB8favXUpRKJaysrKQSETUGw4UMXoC/vzSn0a1riDRHRI3FcCGD5+LiDBtra6kEeHl6SnNE1FgMFyKBj9SB7yf8NDPjk5yJmorhQiQICQ5S//QPqN5ERkSNw3AhEogd+B4e7vD2YpMYkRz44EqqprDoKuLOpSE7p1BaYjgqKsphZGQslQyH+N0wrs628PZw5GP8STYMF6oiBsvhiHNSiQyN0rENggLcpRJR0/AyhaokXMyQ5sgQZWTmqy8wiOTAcKEq4smFDFtOruE1h1LzYLgQUZWysgppjqhpGC5ERCQ7hgsREcmO4UJERLLjUGSqsnuP5rHzdBMU2Tj15ypEZpVJC7SZwPaORzCsk51U1n3tvJTw8nCUSkSNx3ChKgyXJlIU4tQPsxAROgdjglpLC1sWhgvJhc1idHspSpGTkYNyqYjyLCSl1jIctuZ61VSgKC0R2bW+WIi0pKw6fu/WKstOr2Mfa9KdfSZqLNZcqMotrbmkb8IHszbD2M0WtvZXERPrivtHOSNi+zlYmSYivmwYpsy4H+5GJcg4sAyLf0uAW2cn5J9Jg8MDUzG2lxuMxW18fBRODvkosrFG9okUuD07G891dxKO7DzEb1qMH8JL4BNgiZTjGXB7chqeCrVA5JI3sc1nJt4ME+9GV6Hw6CJM3xaEWW8NhoN65yqQu+cDvLZknzB3jULhjSGzP8XDvq2kJTXUVnNR72ME2jpcwqn8IAwfpMDaxDvxybguEB80Ux69BK8d6a0p17XP3V2h0Gyt2bHmQnJhzYVunwJLdBr3Dib8ZzZeDI3B8r/M8dj0d/HCG6+iT9Y2HIy/goqL67F4pSlGvf8RXnj6NUyb+ThMf5+PdXFXNNtIy4Vy1By8NPFdzPhPCI7/dQiZwpm49PQf+PpAB7z4/mw88/QbmP5OGC5/+R0O5NigS1hfZPwdjgTxskqRgWP/xCIkLFQKFpERbPq9g29X/IXvtKZly7+qO1jqk5ICkxELsOD9l9HXxVRaeL069zmX955Qy8NwodunXR/c4WEhVB4sYK9UwszHF67i5byRI1y9FLhytQRZZ44ho3Mo/C01h6qidTD69jNDzPnL6jK8+6NnO0v1rKnSAy7qeng5ci+dR25xNHYtX4IVPy3BrxuiUNzqMtKzy2DkczeG2uzFnuh8Ibz+wd8Jd+DOEO1O9wrkRa9R/1616cefsC+xRFrnJjj3Q79AW6lQl/r3mailYbjQ7WNsApNa23vMYWWt9YVdZaVa/Q8VKC/T6o2ocxtGcOz1JMaMm4jR6ukNzPjqM4z0Frfrhh6DPbF3514c378XqrAB8KtWoTCCZdvO6Nq9d/UptCfaO5hI69wEa2tY1fpJU+FKQR6uRUd9+0zUsjBcSIeZwCE0DMGx4TiSoakxlKXtxd977NG/m6u6XDtj2AUEw2zvbpwu0jQplaX/g2XTZmNXhngqV8Cq21AMiP0WS7faI6yP93V9GiZ2PggM6lJjCoBLq6Z9ZBQWljA6fRqXxHwsP4992yKk4LzRPhO1LAwXuj2MLOGo1DRniRStlPBoc61WYGKjRBuhSqKw7Y9xE0Jwbul4PD/mfrz++TH4vfQy+jsYX7cN7bKx50hMHmuJ7W8/ivFjhmHKJwfhNWkaBiqlf8PMHz0HesC4exi6iduSSeV+V6mxj0Y+D2JS3xgsenoonp/yEwr8esBd+n/fcJ+JWhCOFqMqhnWfSyJ2zluI7Cfeb1wnvZ7iaDGSC2suZHgqzmD16/MQ3XU8hvgwWIiaA2suVIV36BNrLiQX1lyIiEh2DBeqYmHBIa+GzsSEpwSSB48kqmJnqzXyigySg72VNEfUNAwXquLbzhkmpvINy6WWxcPdARbmrL2SPNihT9WUl1cg4VImCgqKpSWG49/wzeh/5xCpZDjEpjC3tvawtWbNleTDcCGSLP5qKSZPmiCViKgp2CxGRESyY7gQEZHsGC5ERCQ7hgsZtNi4OJSUXP8dLUcjoqQ5ImoMhgsZtLy8AqxdvxFZWVnqckFBAdZv2IT8/Dx1mYgah6PFyKCJYfLjzyukEmBhbo7iq1cxfNgQeHt5SkuJ6Gax5kIGzcrKCkqlUipBHSxiwDBYiJqG4UIGr1vXEGlOIzCwozRHRI3FcCGD5+VZvZYS4O8nzRFRYzFcyOCZmZnBz6e9et7G2hr29vbqeSJqPIYLkcA/wF/9s2vXzuqfRNQ0DBcigdiBz458IvlwKDKRRLyh0s/XVyoRUVMwXMhgFV8tweWsAuTkFqGsrEJaqmFrYwkbYeJj6Ikah+FCBkX8vhoxUC4lZSG/4Iq0tG7iVz8rHdvAxckGrS3NpaVEdCMMFzIIYqCkpucgIzNfWnLz2li1gouztfqrgPmNjUT1Y7iQ3iosuioESi5S0nJQVlouLZWHnW1ruDrbqoPG2JjjYohqYriQXqnsR0lNy2tQs5ccNM1mmqAhIg2GC+mF9Iw8ZFwWpiY0ezWViakxlA5t4Oxkw4EAZPAYLtRi5eQVIS09VwiVfNmbvZqKAwHI0DFcqEURm73S0vOQkpaL4uLrv+RLF3EgABkihgvpvMrhw2LHfHZOobS0ZeJAADIUDBfSWWKgZGblIyU1R1qiXzgQgPQZw4V0SuXwYbFjvqU0ezVV5UAA97b27J8hvcFwaUnyEnA80w7B7W2gkBbpA7HZS7zB8VYOH9ZVlQMB3FxtW1j/TB7OHcuCY4g3rOs8OIuRFpuOVr6e9axD+oLhoqPKY9Zh/v+iUCrMm3Z9Am+O9Idq3xz03RaGvbP6wESzWosmx13z+kwnBwKUn8X6j35FlHhgihRt0PnxSXigfQTm9t6Gew7MRh9EYuFdj+LLJDv4+QLxcTlwnbISu6bZ4bdxv6Hd99PRRx8OYKoXexR1UFnUpxg4+BV898d27N+xGt+9dB8CXliHDD24DBCbvWLiUrDn4FmcOHWJwVIPsRYXG5+GA4fjEX0mUX0vj1jLu62MXRAyeDDC1FMwsDcc54tq7JNJV0zbG4fYTU+hzP5l7EyIRfir3WAsvUyGgeGig0y6vIrwC7HYM7sj4i0n4M+4c4j95gEoFUDRD6MREDQb+8qklVsAcfhwUkoWDhyJx+GIc+oOel27L0XXiSF8KiYJ/+6PUYezWOu7PazRLrQP+vQRpq4OKE1pB/92raTXtBUhds8+JBwNx4GUymoOGRKGi04qR+7J3zB/tR2mj0rCh9NXISZPczK2fGYFzkTP1vlmBfEKW7zSPnbyovrKW7wCN5QO+uYmhrNY6xNrf2LQiLXBW+8qLq7+BXse80bksA7w8R2Dn6u6y8qRF/kzFoT3x0/Lu2LLW//F7kuG3ZdmiBguOqcMKetewbC5KXjg4zl49tmZ+HB4Gj578UtEXNH9djHxrnnxhLf/SJz6Srul35eiy8Tanxg0Ym1QrBXGJ6Sra4nNT4XSsysw/RcfvP/SFLy9Nw7xccvxlLoCUyocv6/hia/NMeWrCejb+wV8Nt0PBz/9HyJL2L1rSNihr6tqdpxKKjv3dan9WtPspemYZ+3k9mvegQBCrTrqJ0z/6DyGLZiBYZ5Sk1jp3msd+jVq1aWHvsCY3z2x8OPeuPD9QTiOG4EO7NDXewwXXVXLh7VMh0aL3eyXbtHtIQ5rVjpogqbpTwRQ4eqJpXhuYTHGz52AAR5afS11hYsqE3vnPYMXV7fFW38uwmiv2vpnSB+xWYxuihgo4sglsWNZbPZisOi2yoEAYjNl0wcCKGAe/CJ++WFq9WCpVTnyzu3GD2+8jGVmk/G/H/rh8Csv49N1EUgr5fWsIWDNRVfpULNYc37pFt164hMBxOebyfrE5tLDWDx6P3queAmhpkI55198+WkU3B8fg/uD7DQ3/ebFYPvq9dhvdT/eejQA4mqkvxguVKvb8aVbslCUIie9EG2UtpoALs9CUoY53Fxaq1+uUnO9aipQlJaMq47usKv2YiHSkq7C0c1eb+7ZEJ8I4OpsA2cnaz6xmWTFcKFqdOFLtxolfRM+mLUZxm62sLW/iphYV9w/yhkR28/ByjQR8WXDMGXG/XA3KkHGgWVY/FsC3Do7If9MGhwemIqxvdxgLG7j46NwcshHkY01sk+kwO3Z2RgfaoFzmxbjh/AS+ARYIuV4BtyenIanhOWRS97ENp+ZeDPMXdgJFQqPLsL0bUGY9dZgOGj2rMWoHAggPkyTT2ympjKeLZDmyYCJNZUjUQnqpq+iohY44qswFv9uTEbIq7PwRNhdaHf5VyzZ3wH/eWciBvbzR9H6/+GSz0AEFG7Ax8tKMer9N3BfaF/07uOAU198iTifAQg0P49/156B9+S5GBd2D/p6X8Ivf+aji8shLN7shslzJ+Gubn3RLxTY+d5GKAaEobtrNtb/logOYcGwNcrAkf+tgdGgsejXtuV1XJeUlCEruxAXEy/DspU5WrfmQzSp8Vhz0WGLv1oqzTU/O3tXuLn7SaUWSKx1LC7Fs3MfgAvKkbltFmYmP4IvxnWBsSILh/47G2fvnof7kj++tlz8PUUJElbPwK9tpmJG52Na25C2+XUpRvY+jP9uM0P/ICdpBEw+LhxMQdAb8zHSOx07532I5Ac/wpM2WzDn4zyM/nQ8OrTwDgVxlFlQgPstOwYnT5ogzZG+YLjoMPGDfSs/dBcuZbaob3isRgyCJSq8MHs4HFU1w6UQp36YhYjQdzXhcnEkFo0PhbqHQVGM+JXTsdLuVU24VG1D2qYYLn2OYkXeU3j/Ib9ankatQsHBBXj9YGdMcNmCNa2mYM4Inxb71OrKzn5vD8db1jR2q49zujXYsEpVvIQTSq/uPugS4gVXF1v1iUa/mMAhNAzBseE4kqEJ0LK0vfh7jz36d3NVl6+jMoGjfwjM9u7GaekBjWXp/2DZtNnYlSE+4E0Bq25DMSD2Wyzdao+wPt4tMljEmkpwoAf69ewAH28n9rlQk/EIouvYWlvC39cVvbv7ItDfTX3i0XlGlnBUWkoF4ZTfSgmPNtfu5jOxUaKNiQIK2/4YNyEE55aOx/Nj7sfrnx+D30svo7+DEKQ1tlFZNvYcicljLbH97UcxfswwTPnkILwmTcNApbR9M3/0HOgB4+5h6CZup4UQv3JZfH/79/ZXN4HxGzFJTmwW02G61FxQOTT5UlI2H/FynUTsnLcQ2U+8j4d9dbsjXxe/I4bNYvqJNRdqEPFE5OZqr242C+3WXk+bzRqh4gxWvz4P0V3HY4iPbgaLeC+Lh7uD+n27o4u3+n3kPS3U3BgudNPEu7rFZjOxfV5sp28RzWbNxSgAD3+8FFOGB8FShzpb1B3zwgWA2H8mXhCI/Sj8fn66lRgu1CRi84rYXi+22/v5OKubXej2EYNe7EcRg1+8ABD7z4huB4YLyUIcXSQ2t4jNLr1CfdTNMGJzDDU/MdC1O+adlNbSK0S3D8OFZCe254vNMGJzjNhsJjbPkLzE4BZrimKQi4EuBgqHD5Mu4dFIzUpsNhObZ8SravHqWhz+So2j3TEvBjc75kmXMVzolhCvqsWr686dPNVX2+28lGw2a4DKjnmxBsiOeWpJGC50y4lX25VPA+Cw5trV7JjnDY7U0jBc6LbSHtYsnkwNeVgzO+ZJnzBcSGeIJ1PxpCo2mxnKsGaxaVBsImTHPOkbHsWkcyqfBiCebMVmM7ETW5+azcT/i3bHvNhEyI550jcMF9JpYrOZ2Ild+TSAljqsWbtjXvy/sGOe9B3DhVqMmsOaW0KzWWXHvPiEaXbMkyFhuFCLUzmsWVefBiCGnthnpN0xz34UMjQ84qlF034awO38krOaHfNinxEDhQwZj37SG7f6S87YMU9UN4YL6Z3KZjPtYc1yNZuxY56oYRgupNcqhzU39WkA7JgnujkMFzIY2k8DEGseN2o2q+yYF2s/7Jgnujn8pJBBEmseYmAM6NdRPRCg5iSO9KrsmGc/CtHNY7jomIQLF6W56upaTk0nDgSoObGG0nwKCgqQlZUlla4pKSlBamqaVKKWjp8gHRNzJga7/wlXf9BE4s/1GzYhOTlFXSZq6czMzLBm7Z+IjYuTlkAdKj//8qvwmqm0hFo6hUogzZMOED9wf2/dAaVSiYyMDFiYm6P46lU8+fijsLe3l9Yiatn+/nsbYuPPoVNQR5yMPq1eZmNtjbFjnlDPU8vHmouO8fL0VAeKGCwiMVjEoGGwkD7xD/BX/6wMFlFgYEdpjvQBw0XHiE0Gvr7tpZJGUGCANEekH7y9NBdR2vw7+EpzpA8YLjrI29tbmtMQP4hE+kb7IkqsnVtZ8d4hfcJw0UFimIjtzyI/n/b80JFeCgnuJM0B3bqGSHOkLxguOspHCBVRe5926p9E+kbsR6y8iBL7Gkm/MFx0VIC/n7pN2s+X7dCkv8ROfLF2LvY1kn5p0UORc/KKkJtbJJX0T1LSJbi5eUglaigTEyP1Hfi36s761LR0aY5uVlFRkTBdgaOjg7TEMLg4O0lz+qtFhkth0VWcOZuC/IIr0hKi64kPmhSfB9bcGC50swwhXFpksxiDhRriVEySunZLRLdeiwsX8WTBYKGGSkvPleaI6FZihz7pteLiUmmOiG4lhgsREcmO4UJERLJjuDSFIg/xa7/BtktXUBS3FkvW/IuYtfPxe3ShtEItFKXITkhAdnkFihIO4FBCvvRCHRT5SDi4C6cyrjXvqIoScTY6CqdqmxKyUC6t11AVGVH492QammfYoEr4f+7FP9EN2/51+6JKw6mdW3HowC7s3BWFzAqgNHoFvtp2/qb/n3STVLk48d0i/BFXLMzn42JULNKyLuDYmQzU29ioykPM9nDE5Atv1o00aN0K5J/ZhXWHUhr0npcnH8YG7XXLU3B43Qbs2L4Za9YdRpLwwtXD3+HtVXH1/z+oSVrcUGSxQz/q+AWpJIPMXVj2ZQrufOdJdLjJr1YvPSMcoOs88OZbvZC07H1Etu+GnHWXMfDDFxHSWsztROyc+zJWxGgGICgUXTF64QtQff0jFBOnIzjqQ3yD8ZgR5q5+Xb3+nHlIfmQhxgS1rnNZeeIu/LHjzPUftKJ4HMkYgLdnDYdjzXe1PBrr3/sBp6CQFgich+D5iYNgd3IJXjvSG5+M6wLxT1Dn9gXGPkPxWD+v669KKi5g/69/4Zz2LxkH4K4n74TFjlmYmfwIvpC2fzP7gvIorHh+AS56WyM+oTOmfTsRgRUnsHL6SthNnYnB7vXfy2Jn2xqdOzXv3d86PRQ5ZTPmzUzGiK/Go8tNflXK1cgvMPpHb3y1aAScyg7js8G/oO1kV3z7tx9+WvoAFGum4dH5B6W1heMbzhix6Ge82ScPayZ8DtWsj/BwWxPNi6WXsOPTd/Hplksw6/ggpr39HO50txBeuHhtXecL2PLFWpwq0/yKmkkQHphyDyzWvYqx58diy2uhUP83So/h+8lf4rD2ce72IGbNHAKHw5/gwfC7sLZq3cNYGDYTsf42OHG2OxZtfQ3dVRFY/ORPUM6fj1E+4n7cWhyKbAjM7dDWxxWWWue565Ujc9scfLAtUSoLFFmI3HoI7QZ2hwPykJkchwP/HkHO5UM4nqA9mi0EYxZtwHcr/sKy5e9joNNNJlhtClNwPuEcLtackjJxVVrleqUouGiOXpM+wvRZH2umFwddH0ICI3s/dOveG11rTCH26dgXn117DcTIEe2696lat0vbIhyNSkFZbX9X4yCMnPVJ1X688Uh7XEqvY8iwsSc69miHdgMGoaOtJczF7Zn5o2efQmzdFy9c01J9VBbC+xLUFtb1ftLLkLz6dUxcrf1tpxnYs2ovOo7oBSfxb25kBRv39mgf2gH+1q1hARO0ffhz7D10UD3t+fNthJoHoUuHNppf16YqQNSSt/CF5ctYu3sbfnw8Dwtnra1+ISIyckLggAHof+dd6qlfu0KE70kWjtxaDiLTznh26TdY8o1m+vy5DohNKqy9ZmPcDt0H+SFwxFCE2lqhlfi3MA1E2JB8rNwaW/vvUJPpebhUoCgtEdl1HD1l2enItuyCoWMGwr3aX6L+31Mru4jYY44IaG8jFNwxaOZqLBFOlLNW/KhV6xCdxZb/voUP57wuTL/irHqb4rLp+HLTWfUaN60sFxcL22PAI6MxUnt6Yiomj+oCyyaecRWW7ugQ1AWBNaf2TpraRK1awyWgs7RuCNxbXUFxRz+0beoRpiqD1Z3/wRBPHwyZ/gR8xO2pzODh3wGFhyJxsUXVu+VWgfyLF6DVYlpNaUYqMq1CMWbqELSv9sbV/3tqpQk4vs8JXQLtNGUjN/R95k642XTCI491ga3W+b4iPwLfzlgDh4lt8dfw3ujb41EsjNR8k6pa2WnsWmuNJ0Z2grlwyrHtdz+GZO7B4cQaO6BoA88u3RHaI1SY7oCP5RUUdusIzyYfQ6WwGfY6Rvv64cnFTyNI/FsoLNA+OBB5Ow8hjunSLIxnC6T5FqH4ailS025w70L6Jnzw9lIc2rcL0Znx2PPDCkTbd8Ud7m2gEF+bvRLxESvw2+40OLqm4pfpu+AwPBTKTPG13xATsQkHz5/GPz8K6zkHovWBRfhh20kkx57AiQRzdAxtB8uMo9i4Q4Xuj/WAss6DPw/n/7kIv8lzMXboveg/IBgORpXLZmO49WkcRTf095HuIi+JwW6hhhPj0BuDOjpI12vi+uHID7wXIU6aJiBVSQEKCzKRlZyI1JpTihGcg9vBuubFnioVJzZswcncNFyMPoITx47gVIFwpehpK1ykHsGGNZtw8ugRZLn2QIBj7e0npSkHsDXVC/d2can/qqTiHHYs3QrlkCfQ1ckURed2Y+u2cJyq3L59Mvav+B/CIzX7cfx4FM6X+uOeAR3QKv0INm2LQHbSBRQ6BsLDxhoOyjawsG0LZetrZ0gjpOP4xnT4iO9bPTvTysIMLk7iBUDzKSisp4+tOSSvxqSxC7F96xYcSo/B5vnLcFjZQziObGAkvjb+J5zYswyL16fA1SsJC8dsgfPoPmibJr72IyL2rMa2mBPY8MmPOOHWGW12fID5q6IQf/woDsRYoPtdfrBKO4Bf1qgw8MV+aKs+GZvDsZ0r2og1Ibc2mvdflYf4nb9g/ryNMH92FqaNCMOw557H+Ofvhe2RI8CAexDYRlhTvS0F7p7UX7Mto2Jc3PUL1h1PwoXjh3Ak8grajxysWbdSeSzWzFuPtk88izvdTZF/+m+sXLUdR/7dhwz3vsJxdQlbPv8ef+7Zh/379uHQwSM4eTUQj4wQPq/J+/DL6kO4fOEc8pw7wdfBDi5tbdDK0QNu1lIzncBYkYIDy1MQNEb421QL3+ZnZaV9Aaqf6j1HtGiXjRHw/BxMeuYNvPXGQCR/vRxHCqTL3JQUmIxYgAXvv4w+yhonUiG4lKPm4KWJ72LGf0Jw7K9oODw8C/8ZHgKPYW/U2ZRUJ1U6zuzZhJ2bf8XKn5Zg+cYjyK7191UoPLEHEQpjZO8KR2xtV5WKQpxdMxsLvvur9mYxcYr/C7/Mm431MbU1M9nAq1NPqemqD7r5OFYdAKZ+d2P4I4+jp6dW+7MYxOOX4JT6yq4c+enpMG1lXlsjxTWKEqTtWIFdrqMwLOhaE4mx9vZV2Ti3Kxrw6aHelzvum4hXnuoDO+nvYuwSiC6hPdHe4dqJ4DoObvBSXEZugYE2jKWY4I4ZC/Hea3PxxaL7kDDnW+zOkS7BExJhPnoJfv95Bu51q3F8J2bB7cWFWDBrPr6a0w37fo2C07MLMG9MN3QYM0+ofQ+BS71vsIYq7S+89dBU/BjtiCcWLsIrAzw0/RtqxmjtqkRraTuq1ra47q0Uag5uwX3Q/64e8LWtcRpSFSNx3TKs8noaY0OvPb7HNHgYnnnuGdztaylcwGTh9LrjQFA/TTPaY6/is2l3aZrwBCYeIeh3Z18EShdktVJ6ws/oMi7nsurSHPQ3XNr1wR0emhOlkXtP9PMqQsEV6UTk3A/9AoUr9tp490fPdsLBKzBVesClKc0uCmd0HTcBd3XwhItnIIKFE3po9yDhStpB3XegaOUAR0vNJZOqKALrlseh59RP8GKXKPyx7iSKav7bqtbo8NDsa30mdU6zMdJf83+ozgZt/SubuTqjg+u1qycjBz9hWQBc1A3StRCCLfniZXi2dajnoKlA0dm1+HGrI8Y+0x92Wiep67evvS/C5G1f1eR2w30RXRauelUOsLHS30O4XoEDcGf7VupZY5++GOJXgJzKA8ZrEIbeYV/7RYD/PbjHX/O+m7t5CwGtnr1pCueh+Gjt95jZPwvfvDsFE194QWuag3VJ10JfYeUM91ancTy+WF1W5cYi8qQHet7TF6GhIfC20X4PK5B/ciU+WumEN1+/B0qt/VM4B6BbaDA8K2s4Clt4da5sRgtF9wBlVcAZ1Vy3NhkXEVvhAAebW1xtMRAG8sksxpVCrStca2vUeU4yNoFJQz5wtk5wVSUiLaueqx6VKey8g+CcHY71q1YI03KsWfoNwtMv4J8v38Y3OxLVJwDVlTjsXvYDzg+ailHB7dH56VcQGrMIX6w6ito2L47m+k2oBa2oOS15Da/M3YjMOvc/F8kxEYjYsxk7t28Upj+xafU/SGzQhVsreNw9FY/d4SiVa8pDwraPMW9JKga+8Rw63/Ck35R9Edv5M5FlZwNLAzmC61VxFYWVtXKByt6mzuNbZWYC44Yc3/au8Cq/iAsZ2kO3rmfa9dmqTvVr0zsIE2oEhZW7ZNwBw8bZYuMvmxGflYQjP69C9LBHEeZaozpTkYszq2fj+TlJePCzyehdLXRqocrBhWOHEL55HdasXi1Mf2D5sq3XDxSoQ/nlTKQ62KG+/KHG098/6/l9OHpJc6VUmnAUEaVecLNtyhVKBcrLtALK3Av+ndJx5tyNnl1lDId+L9VSu/gIz/dphYyiEuTEH0WSz0RMG+6nufIybo/B0+dhiJc1LOS6qDJyRdfR98G1OA05xdKnT9UKTgE+12oYilJkRm+XTvYbsWvPMeSWxSNSLG/7G5FxZ3Fq71/C/PZq992IyjKO41BKZ7z43hT0UN7gUfcN2Zd6lSHzXBxKgzvCrUHr66FTuxF+TjMq8erZAwgvaQ+f+poRb6gCJSVl10YCWrRHlx6piDqVLS2oXemhT3BPz57o20N7qtGhDzO4PzgTH/S6gG/f/hhbLMdi8ev9r+sXLE0+gp0X7sDs79/C3W43GB5s5I5+U0fCuygFmUWVadIKrp39oWzQZ6YMaWfPoKRXMLxYcWkW+hsuLtbI/mMynh8zDC8tuYR+Ux5FB/HMbWQJR6VWk5FQdvK0gfpjWctrmrIxbPxCodw7HS8s3Ilc8UOhUqLzXYGIORCNAvXKjWUMu06jMGZYUPXh0MauCOnhh9oat5B7BuEXPHDv0xMxepzWNPETfDazlntcRApnBA4ajkH3aE1hYQgNcof6lpxaqKxDcO/YAXBtwIfPRNkPjz11H7waUpVoxL5UozqH/VtLMXhQkFY7v4HxtkP60jHo37MXhs45j2HvjUVnc2G5whKurq2rmhjVZV87zfFd22vqsgkcgvrAbctkDHx9My6rjx8n9BoRjIidx5Fb2/GkrfPr+P2gZkhy1dDkQ59fu8dFZGSDgBFT8dGSRXh3fB+0reWNM3W/G5OmjURA/eOmNYTPR+gDD+Ohh7Wn4bg71Au1DIa+XnkstvxegscfCMGtv8vFMOjnTZRiR/QSFV6YXceJVjbpOPr1N0i67w3c732Dq/XriPfOvFfjJsrapGDfkmXIGPRqVT9KfTc5am5crDm0un7lMSuwILoz3nio07UTj2zKcXnPYnyTfneDtt+QfSmN/gmLY+7ABGGdWsNXi17eRJm8GhPnqPDO1480b82tIhXh7y1C/GOz8UxA7afg8rjN+HJdtFAPqMkKgQ8+jftueINiEv6evRyqCa/ivprNZFXKkLp5AeakDMPnz3a+4QVFaeR3eDmyO/5bz7pXDy3F2yd7YZawToPCSGb8sjAdpFvhQrqO4UK6iOGig2R//AvpNYN//AvpJD7+hYiIqBEYLkREJLsWFy6mJvJ3OZP+srAw2PFkRLdViwuX1pbm6nZ0ooZwbubnihFR7Vpks5hve2fhivRmh/6SITExNUagvxtsrW80WJmImkOLGy2m7XJWAQoKNXfh65sNG1ZjxIiHpRLdDPFJyA72VjA2vjXXThwtdvNWrV6LRx5+UCoZHg5Fpttm8VdLMXnSBKlEpF94fOs/jhYjIiLZMVyIiEh2DBciIpIdw4WIiGTHcCEiItkxXIiISHYMFyIikh3DhYiIZMdwISIi2TFciIhIdgwXIiKSHcOFiIhkxwdX6ijxwX5E+owPrtRvDBciCZ/USyQfNosREZHsGC5ERCQ7hgsREcmO4UIGraCgQJqrrqSkRD0RUeMwXMigJVy4iN3/hFcLktTUNKz8fTXMzMykJUR0sxguZNC8vTxxMvo01q7fqC4fjYjCqjXr4OHhpi4TUeMwXMigWVlZCUHijoyMDHV5/4GD6p8B/v7qn0TUOAwXMniBHasHiY21NVxcnKUSETUGw4UMnpenpzSn4ePTXpojosZiuJDBEzvuOwV1lEpASHCQNEdEjcVwIRJ4e3urfyqVSnU/DBE1DcOFSCCOGrMwN0dQYIC0hIiagg+upFumsOgqSsvKpZLuiYqMRFCnYJiamkhLdI+FuYkw8f4b0n0MF2p26Rl5OHsuFWWluhssLYmdbWv4+7kwZEinMVyoWSWlZCE2Pk0qkVzaWLXCHV00/UREuoh9LtSsLiVlS3Mkp/yCK+oaIZGuYrhQsyou5sMfm8sV/m1JhzFciIhIdgwXIiKSHcOFiIhkx9Fi1Kx27zktzd1O5bi850t8s+OSuqQqTML5y2Zw91LCTH30d8XD7zyJDsbCmjG/YsFvker1ruM8BM9PHARHHfnEtBP238vDUSoR6RaGCzUr3QgXbTk49fO7+OKANYZMexP3+1pLy+tXHr0EU1Z7YO6s4QwXogZguFCz0plwUZQi68wubFu7GUkdxmB0rwJs/vpPXOn6EEbc1xvurTQtxBUZUQg/logKdekaVdJu/H5hAN5nuBA1CPtcyACk4+i372PF0SvwGzMXLwfF4Ps/yzFi1lsYZH8B2z+diTVxReo1Ven7sXLjceTXCBCF2wCMGhwAS16KETUIay7UrG57zUWosWSe/AfHU4qlBVItJNIeQ4eFoI2icqEFXLrcBf/0ZTrX/FUX1lxIlzFcqFnpYrjUqjJcsv7A/O824nxSznVNY3AYhRmLxsFHR+r7DBfSZQwXalY61edyegd27z6AU6dP4Pxlc7gGhiAguD8G3HOtz0UjETvnfgfFxHcw0KkYp36chnVt38WMMHfpdd3AcCFdxj4XMgAqFEYuxQe/JsB9+Kt457+r8d3yX/Hem8+ht+m/+Hz+eiSqKlCUeganoqOE6TRSCnKQHCPMnxSCKLMYRcmnpdfOIPXKdXUaIqqB4UIGQIVy4VA3M2uDNpYW0jKBsTnMW5kBWXm4qipDVtxBRB7ZL0xxQFAHIP6QMB+JHMde6Ig4zWuHD+Lc5TJpA0RUFzaLUbPSnWaxEmRGbcDGzZtx8GQySoSj3si6HYJ7D8Pg4WEIsDeVVmw52CxGuozhQs1KZ8JFDzFcSJexWYyIiGTHcCEiItkxXIiISHYMFyIikh3DhZqVq4utNEdyc3RoI80R6R6GCzUr33bOMDE1lkokF3GkWGtLc6lEpHs4FJmaXXl5BVLTc5B5uUBaQo1lZWUBB3sr2FpbSkuIdBPDhYiIZMdmMSIikh3DhYiIZMdwISIi2TFciIhIdgwXIiKSHcOFiIhkx3AhIiLZMVyIiEh2DBciIpIdw4WIiGTHcCEiItkxXIiISHYMFyIikh3DhYiIZMdwISIi2TFciIhIdgwXIiKSHcOFiIhkx3AhIiLZMVyIiEh2DBciIpIdw4WIiGTHcCEiItkxXIiISHYMFyIikh3DhYiIZMdwISIi2TFciIhIdgwXIiKSHcOFiIhkx3AhIiLZMVyIiEh2DBciIpIdw4WIiGTHcCEiItkxXIiISHYMFyIikh3DhYiIZMdwISIi2TFciIhIdgwXIiKSGfB/hbGkmVVo8WUAAAAASUVORK5CYII=)\n",
        "\n",
        "* 순서도 인데 이런 구상 연습을 많이 해보면 좋다."
      ],
      "metadata": {
        "id": "Mmsd5ru1-NXk"
      }
    },
    {
      "cell_type": "code",
      "source": [
        "# 패션 코딩 -> 최대한 간결하게 코딩하는 기법\n",
        "\n",
        "pocket = ['paper', 'cellPhone']\n",
        "card = True\n",
        "\n",
        "if 'money' in pocket: print(\"택시를 타세요\")\n",
        "elif card: print(\"택시를 타세요\")\n",
        "else: print(\"걸어가세요\")"
      ],
      "metadata": {
        "id": "Tc4YqDcF-Szs"
      },
      "execution_count": null,
      "outputs": []
    },
    {
      "cell_type": "code",
      "source": [
        "# 시험 점수가 60점 이상이면 success, 아니면 failure를 변수에 담아 출력 해보자.\n",
        "\n",
        "score = 88\n",
        "\n",
        "if score >= 60:\n",
        "    message = \"success\"\n",
        "else:\n",
        "    message = \"failure\"\n",
        "\n",
        "print(message)"
      ],
      "metadata": {
        "colab": {
          "base_uri": "https://localhost:8080/"
        },
        "id": "zzORhbRt_Tpb",
        "outputId": "4bb3aee9-02d1-4f00-f3a0-a225af66214b"
      },
      "execution_count": 14,
      "outputs": [
        {
          "output_type": "stream",
          "name": "stdout",
          "text": [
            "success\n"
          ]
        }
      ]
    },
    {
      "cell_type": "code",
      "source": [
        "# 위에 코드를 패션 코딩을 하면\n",
        "\n",
        "message = \"success\" if score >= 60 else \"failure\"\n",
        "#           참           if 조건문 else   거짓\n",
        "print(message)\n",
        "\n",
        "# 파이썬의 조건부 표현식이라고 하는데\n",
        "# 변수 = 참 인 경우의 값 if 조건문 else 거짓인 경우의 값"
      ],
      "metadata": {
        "colab": {
          "base_uri": "https://localhost:8080/"
        },
        "id": "tt12gEpP_3Du",
        "outputId": "23ff9fb4-3ea0-4a8c-e80c-15385753e85c"
      },
      "execution_count": 15,
      "outputs": [
        {
          "output_type": "stream",
          "name": "stdout",
          "text": [
            "success\n"
          ]
        }
      ]
    },
    {
      "cell_type": "code",
      "source": [
        "# 미션 - 성적 처리용 코드를 작성\n",
        "\n",
        "# A등급 ~ F등급까지 출력\n",
        "\n",
        "score = int(input(\"점수를 입력하세요!\"))\n",
        "\n",
        "if score >=95:\n",
        "    print(\"A+ 등급\")\n",
        "elif score >=90:\n",
        "    print(\"A 등급\")\n",
        "elif score >=85:\n",
        "    print(\"B+ 등급\")\n",
        "elif score >=80:\n",
        "    print(\"B 등급\")\n",
        "elif score >=75:\n",
        "    print(\"C+ 등급\")\n",
        "elif score >=70:\n",
        "    print(\"C 등급\")\n",
        "elif score >=65:\n",
        "    print(\"D+ 등급\")\n",
        "elif score >=60:\n",
        "     print(\"D 등급\")\n",
        "elif score >=55:\n",
        "    print(\"E+ 등급\")\n",
        "elif score >=50:\n",
        "    print(\"E 등급\")\n",
        "else :\n",
        "    print(\"F 등급\")\n",
        "\n",
        "# input은 JAVA의 Scanner와 같은 기능인데 input(\"\")은 String으로 받아야 한다.\n",
        "# 여기서는 score가 숫자이기 때문에 input으로 넣으면 타입 에러가 나온다. 그래서 int(input(\"\"))으로 해줘야 점수가 산출된다.\n"
      ],
      "metadata": {
        "colab": {
          "base_uri": "https://localhost:8080/"
        },
        "id": "EX9QNaxgA6Sy",
        "outputId": "2e48680e-147f-4814-9f5e-e1bab20c5018"
      },
      "execution_count": 30,
      "outputs": [
        {
          "output_type": "stream",
          "name": "stdout",
          "text": [
            "점수를 입력하세요!88\n",
            "B+ 등급\n"
          ]
        }
      ]
    },
    {
      "cell_type": "markdown",
      "source": [
        "\n",
        "*** [python] 파이썬 isdigit 숫자 판별**\n",
        "https://blockdmask.tistory.com/556"
      ],
      "metadata": {
        "id": "expRZRPzSnrO"
      }
    },
    {
      "cell_type": "code",
      "source": [
        "\n",
        "korean = int(input(\"국어 점수를 입력하세요.\"))\n",
        "math = int(input(\"수학 점수를 입력하세요.\"))\n",
        "eng = int(input(\"영어 점수를 입력하세요.\"))\n",
        "\n",
        "\n",
        "if korean >=90:\n",
        "    print(\"A등급\")\n",
        "elif korean >=80:\n",
        "    print(\"B등급\")\n",
        "elif korean >=70:\n",
        "    print(\"C등급\")\n",
        "elif korean >=60:\n",
        "    print(\"D등급\")\n",
        "elif korean >=50:\n",
        "    print(\"E등급\")\n",
        "else:\n",
        "    print(\"F등급\")\n",
        "\n",
        "\n",
        "if math >=90:\n",
        "    print(\"A등급\")\n",
        "elif math >=80:\n",
        "    print(\"B등급\")\n",
        "elif math >=70:\n",
        "    print(\"C등급\")\n",
        "elif math >=60:\n",
        "    print(\"D등급\")\n",
        "elif math >=50:\n",
        "    print(\"E등급\")\n",
        "else:\n",
        "    print(\"F등급\")\n",
        "\n",
        "if eng >=90:\n",
        "    print(\"A등급\")\n",
        "elif eng >=80:\n",
        "    print(\"B등급\")\n",
        "elif eng >=70:\n",
        "    print(\"C등급\")\n",
        "elif eng >=60:\n",
        "    print(\"D등급\")\n",
        "elif eng >=50:\n",
        "    print(\"E등급\")\n",
        "else:\n",
        "    print(\"F등급\")\n",
        "\n",
        "total = korean + math + eng\n",
        "print(\"총합  : \" + str(total)) # total"
      ],
      "metadata": {
        "colab": {
          "base_uri": "https://localhost:8080/"
        },
        "id": "6yVV3oQGPgbO",
        "outputId": "f98a8f21-36ac-4414-dd3b-851dca645777"
      },
      "execution_count": 38,
      "outputs": [
        {
          "output_type": "stream",
          "name": "stdout",
          "text": [
            "국어 점수를 입력하세요.77\n",
            "수학 점수를 입력하세요.99\n",
            "영어 점수를 입력하세요.55\n",
            "C등급\n",
            "A등급\n",
            "E등급\n",
            "총합  : 231\n"
          ]
        }
      ]
    }
  ]
}